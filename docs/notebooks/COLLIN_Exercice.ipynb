{
 "cells": [
  {
   "cell_type": "markdown",
   "id": "7192be4e",
   "metadata": {},
   "source": [
    "### 1. \n",
    "\n",
    "On se propose d'implémenter une méthode numérique pour résoudre approximativement une équation de reaction-diffusion avec conditions au bord periodique:\n",
    "\n",
    "$$ u\\in C^2([0,1]),\\quad\\left\\{\\begin{aligned}  -u''(x) + sin(2\\pi x) u(x) & = \\varphi(x) & \\forall\\, x\\in(0,1),\\\\ u(0) & = u(1). \\end{aligned}\\right.$$\n",
    "\n",
    "Pour cela, on passe au Fourier:\n",
    "\n",
    "$$ u\\in C^2([0,1]), \\quad  k^2 \\widetilde{u}(k) + \\frac{1}{2i} \\left(\\widetilde{u}(k-1) - \\widetilde{u}(k+1)\\right) = \\widetilde{\\varphi}(k) \\quad \\forall\\, k \\in \\mathbb{Z}.$$\n",
    "\n",
    "Pour resoudre cette equation, on remplace $\\widetilde{\\varphi}$ par $\\widetilde{\\varphi}_n(k)$ la transformée de Fourier calculé par quadrature et tronquée à $|k| \\leq n$ et resout le systeme des equations finies:\n",
    "\n",
    "$$ k^2 \\widetilde{u}_n(k) + \\frac{1}{2i}\\left(\\widetilde{u}_n(k-1) - \\widetilde{u}_n(k+1)\\right) = \\widetilde{\\varphi}_n(k) \\quad \\forall\\, |k| \\leq n. \\qquad (*)$$\n",
    "\n",
    "On prendra comme membre de droite la fonction\n",
    "   $$\\varphi(x) = x(1-x).$$\n",
    "\n",
    "1. Écrire une fonction `fourier_interpolate(n)` qui devra renvoyer un polynome trigonométrique d'ordre $n$, $\\widehat{\\varphi}_n$, qui interpole $\\varphi$ aux nœuds $x_k = \\frac{k}{2n+1}$, $k = 0, \\dots 2n$:\n",
    "$$ \\widehat{\\varphi}_n = \\sum_{|k| \\leq n} \\alpha_k \\mathrm{e}^{2\\pi i k x}$$\n",
    "Votre fonction devra aussi renvoyer les coefficients, $\\alpha_k$ du polynome trigonométrique.    "
   ]
  },
  {
   "cell_type": "code",
   "execution_count": 88,
   "id": "5833b1c6",
   "metadata": {},
   "outputs": [],
   "source": [
    "using FFTW\n",
    "using Plots\n",
    "using LinearAlgebra\n",
    "using BenchmarkTools"
   ]
  },
  {
   "cell_type": "code",
   "execution_count": null,
   "id": "0c5c41a5",
   "metadata": {},
   "outputs": [],
   "source": [
    "φ(x) = x*(1-x)\n",
    "x = LinRange(0, 1, 101)\n",
    "function fourier_interpolate(u, x)\n",
    "   \"\"\" your code here \"\"\" \n",
    "end\n",
    "\n",
    "#dessiner la fonction φ et l'interpolant φ_hat "
   ]
  },
  {
   "cell_type": "markdown",
   "id": "a44c9a02",
   "metadata": {},
   "source": [
    "2. Écrire $(*)$ sous forme matricelle: $Ax = b$. Écrire une fonction qui renvoit la matrice $A$ et vecteur $b$ pour un $n$ donné. "
   ]
  },
  {
   "cell_type": "code",
   "execution_count": 36,
   "id": "d7c0a6a6",
   "metadata": {},
   "outputs": [],
   "source": [
    "function A(n)\n",
    "    \"\"\" your code here \"\"\"\n",
    "end\n",
    "function b(n)\n",
    "    \"\"\" your code here \"\"\"\n",
    "end\n",
    "\n",
    "\n",
    "#Resourdre l'equation de depart en utilisant A et b\n",
    "function get_u_hat(n)\n",
    "    u_coefs = A(n) \\ b(n)\n",
    "    \n",
    "    function u_hat(x)\n",
    "        return real(sum(u_coefs[k+n+1]*exp(2*π*(k*x)*im) for k in -n:n)) \n",
    "    end\n",
    "end\n",
    "\n",
    "n = 200\n",
    "m = 2001\n",
    "u_hat = get_u_hat(n)\n",
    "X = LinRange(0, 1, m)\n",
    "plot(X, u_hat.(X))"
   ]
  },
  {
   "cell_type": "code",
   "execution_count": null,
   "id": "08e2f92e",
   "metadata": {},
   "outputs": [],
   "source": []
  },
  {
   "cell_type": "code",
   "execution_count": null,
   "id": "062ad80d",
   "metadata": {},
   "outputs": [],
   "source": []
  }
 ],
 "metadata": {
  "kernelspec": {
   "display_name": "Julia 1.8.5",
   "language": "julia",
   "name": "julia-1.8"
  },
  "language_info": {
   "file_extension": ".jl",
   "mimetype": "application/julia",
   "name": "julia",
   "version": "1.8.5"
  }
 },
 "nbformat": 4,
 "nbformat_minor": 5
}
