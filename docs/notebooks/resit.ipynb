{
 "cells": [
  {
   "cell_type": "markdown",
   "id": "3cefff37",
   "metadata": {
    "deletable": false,
    "editable": false,
    "nbgrader": {
     "cell_type": "markdown",
     "checksum": "7fed134749c7f97f752db58234b409d9",
     "grade": false,
     "grade_id": "cell-e4f9a84ea7547eac",
     "locked": true,
     "schema_version": 3,
     "solution": false,
     "task": false
    }
   },
   "source": [
    "# Cours ENPC - Pratique du calcul scientifique"
   ]
  },
  {
   "cell_type": "markdown",
   "id": "677e9b5a",
   "metadata": {
    "deletable": false,
    "editable": false,
    "nbgrader": {
     "cell_type": "markdown",
     "checksum": "65271d1e40abdf55d097eb6740bce2d6",
     "grade": false,
     "grade_id": "cell-fd8fe66990449d77",
     "locked": true,
     "schema_version": 3,
     "solution": false,
     "task": false
    },
    "slideshow": {
     "slide_type": ""
    },
    "tags": []
   },
   "source": [
    "#### Instructions:\n",
    "\n",
    "- Before you turn in this assignment, make sure everything runs as expected. To check this, **restart VS Code** and then **run all cells**.\n",
    "\n",
    "- <mark style=\"color: red;\">\n",
    "    Most of the exercises in this notebook will be graded automatically.\n",
    "    You may modify the content of existing cells and add new cells.\n",
    "    However, to ensure smooth automatic grading,\n",
    "    <strong>do not remove or alter the metadata of the cells given,</strong>\n",
    "    especially those requiring your input. </mark>\n",
    "\n",
    "- Make sure you fill in any place that says `YOUR CODE HERE` or `YOUR ANSWER HERE`, as well as your name below:\n",
    "\n",
    "- Make sure to remove the lines `error(\"No code provided\")` once you have filled in your solution."
   ]
  },
  {
   "cell_type": "code",
   "execution_count": null,
   "id": "133f553c",
   "metadata": {
    "deletable": false,
    "editable": true,
    "slideshow": {
     "slide_type": ""
    },
    "tags": []
   },
   "outputs": [],
   "source": [
    "NAME = \"Prénom Nom\"\n",
    "\n",
    "# By submitting the notebook, you agree with the following sentence\n",
    "println(\"I certify that this notebook is the result of my own independent work. Signed: $NAME\")"
   ]
  },
  {
   "cell_type": "markdown",
   "id": "3d4b05ef",
   "metadata": {
    "deletable": false,
    "editable": false,
    "nbgrader": {
     "cell_type": "markdown",
     "checksum": "6983ba9f3807f1ee2d69ae352bb1040f",
     "grade": false,
     "grade_id": "cell-9546f1bdb893cdcd",
     "locked": true,
     "schema_version": 3,
     "solution": false,
     "task": false
    }
   },
   "source": [
    "## Examen de rattrapage\n",
    "\n",
    "- Ce notebook est à soumettre sur <a href=\"https://educnet.enpc.fr/mod/assign/view.php?id=71644\">Educnet</a> avant 11h30.\n",
    "\n",
    "- L’examen comporte trois exercices indépendants. Dans chaque exercice les\n",
    "  cellules peuvent éventuellement dependre des cellules précèdentes.\n",
    "\n",
    "- Afin de faciliter l'évaluation de votre code,\n",
    "  ne pas changer les signatures des fonctions à implémenter.\n",
    "\n",
    "- La cellulle ci-dessous importe les bibliothèques utilisées dans ce notebook. Si une ou plusieurs d'entre elles manquent sur votre machine, vous êtes invités à les installer au préalable."
   ]
  },
  {
   "cell_type": "code",
   "execution_count": null,
   "id": "90cae43f",
   "metadata": {
    "deletable": false,
    "editable": false,
    "nbgrader": {
     "cell_type": "code",
     "checksum": "399438db784622c2a59302a326d371b2",
     "grade": false,
     "grade_id": "cell-4d638a879ba6f86e",
     "locked": true,
     "schema_version": 3,
     "solution": false,
     "task": false
    }
   },
   "outputs": [],
   "source": [
    "using ForwardDiff\n",
    "using LaTeXStrings\n",
    "using LinearAlgebra\n",
    "using Plots\n",
    "using Polynomials"
   ]
  },
  {
   "cell_type": "markdown",
   "id": "e0d43062",
   "metadata": {},
   "source": [
    "### <font color='orange'>[Exercice 1]</font> Quadrature et fonction Gamma"
   ]
  },
  {
   "cell_type": "markdown",
   "id": "1d3dfe10",
   "metadata": {},
   "source": [
    "1. Écrire une fonction `composite_midpoint(u, a, b, n)` permettant d'approximer l'intégrale\n",
    "   $$\n",
    "   I := \\int_a^b u(x) \\, \\mathrm d x\n",
    "   $$\n",
    "   par la méthode des **points milieux composites** avec `n` intervalles de longueur égale.\n",
    "   Vérifier la fonction avec quelques cas simples en utilisant `@assert`."
   ]
  },
  {
   "cell_type": "code",
   "execution_count": null,
   "id": "76029d50",
   "metadata": {
    "deletable": false,
    "nbgrader": {
     "cell_type": "code",
     "checksum": "98cdb8ce8576c23088781aa9f27ed05b",
     "grade": false,
     "grade_id": "cell-373ef078f148505b",
     "locked": false,
     "schema_version": 3,
     "solution": true,
     "task": false
    }
   },
   "outputs": [],
   "source": [
    "function composite_midpoint(u, a, b, n)\n",
    "    # YOUR CODE HERE [⚠ DO NOT DELETE THIS CELL]\n",
    "    error(\"No code provided\")\n",
    "end;"
   ]
  },
  {
   "cell_type": "code",
   "execution_count": null,
   "id": "49e94999",
   "metadata": {
    "deletable": false,
    "editable": false,
    "nbgrader": {
     "cell_type": "code",
     "checksum": "2572838aef384623b75f6a7be95544b1",
     "grade": true,
     "grade_id": "cell-21c062a4565bcb9b",
     "locked": true,
     "points": 2,
     "schema_version": 3,
     "solution": false,
     "task": false
    }
   },
   "outputs": [],
   "source": [
    "# Add additional tests here\n",
    "@assert composite_midpoint(sin, 0, π, 100_000) ≈ 2\n"
   ]
  },
  {
   "cell_type": "markdown",
   "id": "b43ac5f1",
   "metadata": {},
   "source": [
    "2. On rappelle que la fonction **Gamma** est définie (pour $s>0$) par\n",
    "   $$\n",
    "   \\Gamma(s) \\;=\\; \\int_{0}^{\\infty} x^{s-1} e^{-x}\\,\\mathrm dx.\n",
    "   $$\n",
    "   Écrire une fonction `Gamma_approx(s; n=1000, L=10)` qui retourne une approximation de $\\Gamma(s)$\n",
    "   en intégrant sur $[0,L]$ avec la règle des points milieux composites et `n` intervalles."
   ]
  },
  {
   "cell_type": "code",
   "execution_count": null,
   "id": "c7bdafbe",
   "metadata": {
    "deletable": false,
    "nbgrader": {
     "cell_type": "code",
     "checksum": "df2b21bcfb0fab39b0ec5d5d601c91d3",
     "grade": true,
     "grade_id": "cell-6676300331327a45",
     "locked": false,
     "points": 1,
     "schema_version": 3,
     "solution": true,
     "task": false
    }
   },
   "outputs": [],
   "source": [
    "function Gamma_approx(s; n=1000, L=10)\n",
    "    # YOUR CODE HERE [⚠ DO NOT DELETE THIS CELL]\n",
    "    error(\"No code provided\")\n",
    "end;"
   ]
  },
  {
   "cell_type": "markdown",
   "id": "86146cf6",
   "metadata": {},
   "source": [
    "   En utilisant cette fonction,\n",
    "   écrire dans la cellule suivante un code pour afficher des approximations des valeurs suivantes :\n",
    "   - $\\Gamma(1) = 1$\n",
    "   - $\\Gamma(2) = 1$\n",
    "   - $\\Gamma(3) = 2$\n",
    "   - $\\Gamma(1/2) = \\sqrt{\\pi}$."
   ]
  },
  {
   "cell_type": "code",
   "execution_count": null,
   "id": "21db16e4",
   "metadata": {
    "deletable": false,
    "nbgrader": {
     "cell_type": "code",
     "checksum": "75fa1503a3c7a69761331a8f7d61e341",
     "grade": true,
     "grade_id": "cell-839181114728cf2a",
     "locked": false,
     "points": 0.5,
     "schema_version": 3,
     "solution": true,
     "task": false
    }
   },
   "outputs": [],
   "source": [
    "# YOUR CODE HERE [⚠ DO NOT DELETE THIS CELL]\n",
    "error(\"No code provided\")"
   ]
  },
  {
   "cell_type": "markdown",
   "id": "944a7220",
   "metadata": {},
   "source": [
    "3. Étudier numériquement l’erreur de cette approximation pour $s=1/2$ en fonction de `n`,\n",
    "   pour une valeur de `L` égale à 10.\n",
    "   Pour cela, utiliser comme valeur de référence $\\sqrt{\\pi}$,\n",
    "   et tracer l’erreur en fonction de `n` en échelle log-log."
   ]
  },
  {
   "cell_type": "code",
   "execution_count": null,
   "id": "4b776c6c",
   "metadata": {
    "deletable": false,
    "nbgrader": {
     "cell_type": "code",
     "checksum": "14bf83eaa1a2b71e25db066de0628d9a",
     "grade": true,
     "grade_id": "cell-d45ceae21bb5f5f6",
     "locked": false,
     "points": 1,
     "schema_version": 3,
     "solution": true,
     "task": false
    }
   },
   "outputs": [],
   "source": [
    "# YOUR CODE HERE [⚠ DO NOT DELETE THIS CELL]\n",
    "error(\"No code provided\")"
   ]
  },
  {
   "cell_type": "markdown",
   "id": "01efb2ee",
   "metadata": {},
   "source": [
    "4. Estimer l’ordre de convergence de la méthode des points milieux composite avec l'intégrande $x^{s-1} e^{-x}$ et $s=1/2$ en vue de calculer $\\Gamma(1/2)$,\n",
    "   sur base du comportement de l’erreur en fonction de $n$ pour $L = 10$."
   ]
  },
  {
   "cell_type": "code",
   "execution_count": null,
   "id": "5e4dc1b5",
   "metadata": {
    "deletable": false,
    "nbgrader": {
     "cell_type": "code",
     "checksum": "2043096db6748d99efae548ee8586f97",
     "grade": true,
     "grade_id": "cell-18a3993645759ef9",
     "locked": false,
     "points": 2,
     "schema_version": 3,
     "solution": true,
     "task": false
    }
   },
   "outputs": [],
   "source": [
    "exponent = 0  # valeur à changer après avoir déterminé l'ordre de convergence\n",
    "\n",
    "# YOUR CODE HERE [⚠ DO NOT DELETE THIS CELL]\n",
    "error(\"No code provided\")\n",
    "\n",
    "println(\"The error scales approximately as n^($exponent), up to a constant factor\")"
   ]
  },
  {
   "cell_type": "markdown",
   "id": "91c30e64",
   "metadata": {},
   "source": [
    "5. (**Bonus**) Commenter dans la cellule suivante l'ordre de convergence obtenu au point précédent."
   ]
  },
  {
   "cell_type": "markdown",
   "id": "897ea996",
   "metadata": {
    "deletable": false,
    "nbgrader": {
     "cell_type": "markdown",
     "checksum": "8ec0381e99d09247ace40de12c7273d9",
     "grade": true,
     "grade_id": "explication",
     "locked": false,
     "points": 1,
     "schema_version": 3,
     "solution": true,
     "task": false
    },
    "tags": [
     "DO NOT DELETE THIS CELL"
    ]
   },
   "source": [
    "YOUR ANSWER HERE"
   ]
  },
  {
   "cell_type": "markdown",
   "id": "2dbfb6c3",
   "metadata": {},
   "source": [
    "### <font color='orange'>[Exercice 2]</font> Méthode d'Euler symplectique et systèmes dynamiques"
   ]
  },
  {
   "cell_type": "markdown",
   "id": "08e9aa2e",
   "metadata": {},
   "source": [
    "On considère dans cet exercice des systèmes dynamiques hamiltoniens de la forme\n",
    "$$\n",
    "\\begin{cases}\n",
    "\\dot{q} = \\partial_p H(q, p), \\\\\n",
    "\\dot{p} = - \\partial_q H(q, p),\n",
    "\\end{cases}\n",
    "$$\n",
    "où $H(q,p)$ est la fonction hamiltonienne du système et où,\n",
    "à un temps donné, $p$ et $q$ sont des quantités scalaires.\n",
    "La **méthode d'Euler symplectique** est une méthode numérique spécifiquement adaptée à la résolution de tels systèmes.\n",
    "Cette méthode s'écrit\n",
    "$$\n",
    "\\begin{cases}\n",
    "p_{n+1} = p_n - h \\, \\partial_q H(q_n, p_n), \\\\\n",
    "q_{n+1} = q_n + h \\, \\partial_p H(q_n, p_{n+1}),\n",
    "\\end{cases}\n",
    "$$\n",
    "où $h$ est le pas de temps.\n",
    "On verra que cette méthode conserve mieux l’énergie que les méthodes d'Euler explicite ou implicite."
   ]
  },
  {
   "cell_type": "markdown",
   "id": "d91d0458",
   "metadata": {},
   "source": [
    "1. Écrire une fonction `symplectic_euler(q0, p0, H, h, N)` qui intègre le système hamiltonien sur `N` pas de temps,\n",
    "   en utilisant la bibliothèque `ForwardDiff` pour calculer les dérivées partielles de `H`.\n",
    "\n",
    "   - La dérivée partielle par rapport à `x` d'une fonction `(x, y) -> f(x, y)` en un point `(x0, y0)` peut s'obtenir avec la commande\n",
    "     ```julia\n",
    "         ForwardDiff.derivative(x -> f(x, y0), x0)\n",
    "     ```\n",
    "     et la dérivée partielle par rapport à `y` peut s'obtenir d'une manière similaire.\n",
    "   - `H` est une fonction `H(q,p)` retournant la valeur de la fonction hamiltonienne.\n",
    "   - La fonction doit retourner un tuple `(q,p)`,\n",
    "     ce qui signifie que la dernière ligne de la fonction doit être `return q, p`,\n",
    "     où `q` et `p` sont des vecteurs de taille `N+1` contenant les valeurs de $q_n$ et $p_n$ pour $n=0, \\dotsc,N$."
   ]
  },
  {
   "cell_type": "code",
   "execution_count": null,
   "id": "9a50829a",
   "metadata": {
    "deletable": false,
    "nbgrader": {
     "cell_type": "code",
     "checksum": "f5b526a157a7bf703cb24b59d8a61045",
     "grade": false,
     "grade_id": "cell-bbe7127dc89b89e7",
     "locked": false,
     "schema_version": 3,
     "solution": true,
     "task": false
    }
   },
   "outputs": [],
   "source": [
    "function symplectic_euler(q0, p0, H, h, N)\n",
    "    q = zeros(N+1)\n",
    "    p = zeros(N+1)\n",
    "    # YOUR CODE HERE [⚠ DO NOT DELETE THIS CELL]\n",
    "    error(\"No code provided\")\n",
    "    return q, p\n",
    "end;"
   ]
  },
  {
   "cell_type": "code",
   "execution_count": null,
   "id": "75bb6b03",
   "metadata": {
    "deletable": false,
    "editable": false,
    "nbgrader": {
     "cell_type": "code",
     "checksum": "2f3ac81f75ccf84d507ea7550a5e4d32",
     "grade": true,
     "grade_id": "cell-a7f3b81479b9feef",
     "locked": true,
     "points": 2,
     "schema_version": 3,
     "solution": false,
     "task": false
    }
   },
   "outputs": [],
   "source": [
    "@assert symplectic_euler(1.0, 0.0, (q,p) -> .5 * (p^2 + q^2), π/10^5, 10^5)[1] |> typeof === Vector{Float64}\n",
    "@assert symplectic_euler(1.0, 0.0, (q,p) -> .5 * (p^2 + q^2), π/10^5, 10^5)[2] |> typeof === Vector{Float64}\n",
    "@assert symplectic_euler(1.0, 0.0, (q,p) -> .5 * (p^2 + q^2), π/10^5, 10^5)[1] |> length == 10^5 + 1\n",
    "@assert symplectic_euler(1.0, 0.0, (q,p) -> .5 * (p^2 + q^2), π/10^5, 10^5)[1][end] ≈ -1\n",
    "@assert symplectic_euler(1.0, 0.0, (q,p) -> .5 * (p^2 + q^2), π/10^5, 10^5)[2][end] |> abs ≤ 1e-5"
   ]
  },
  {
   "cell_type": "markdown",
   "id": "64649344",
   "metadata": {},
   "source": [
    "2. Écrire une fonction `explicit_euler(q0, p0, H, h, N)` qui intègre le système hamiltonien sur `N` pas de temps,\n",
    "   en utilisant la méthode d'Euler explicite classique et la bibliothèque `ForwardDiff` pour calculer les dérivées partielles de `H`.\n",
    "\n",
    "   Pour cela, remarquons que le système peut s'écrire sous la forme standard $\\dot X = f(X)$\n",
    "   avec $X = (q, p)$ et $f(X) = (\\partial_p H(q,p), -\\partial_q H(q,p))$."
   ]
  },
  {
   "cell_type": "code",
   "execution_count": null,
   "id": "522b82ff",
   "metadata": {
    "deletable": false,
    "nbgrader": {
     "cell_type": "code",
     "checksum": "65d791c6fb55713bc77bf339bca9995b",
     "grade": false,
     "grade_id": "cell-2bb126fcb19daba9",
     "locked": false,
     "schema_version": 3,
     "solution": true,
     "task": false
    }
   },
   "outputs": [],
   "source": [
    "function explicit_euler(q0, p0, H, h, N)\n",
    "    q = zeros(N+1)\n",
    "    p = zeros(N+1)\n",
    "    # YOUR CODE HERE [⚠ DO NOT DELETE THIS CELL]\n",
    "    error(\"No code provided\")\n",
    "    return q, p\n",
    "end;"
   ]
  },
  {
   "cell_type": "code",
   "execution_count": null,
   "id": "f93a87a6",
   "metadata": {
    "deletable": false,
    "editable": false,
    "nbgrader": {
     "cell_type": "code",
     "checksum": "59fe538268f811bbeed60bf0b6bf135e",
     "grade": true,
     "grade_id": "cell-0038f29570dff0d2",
     "locked": true,
     "points": 1,
     "schema_version": 3,
     "solution": false,
     "task": false
    }
   },
   "outputs": [],
   "source": [
    "@assert explicit_euler(1.0, 0.0, (q,p) -> .5 * (p^2 + q^2), π/10^5, 10^5)[1] |> typeof === Vector{Float64}\n",
    "@assert explicit_euler(1.0, 0.0, (q,p) -> .5 * (p^2 + q^2), π/10^5, 10^5)[2] |> typeof === Vector{Float64}\n",
    "@assert explicit_euler(1.0, 0.0, (q,p) -> .5 * (p^2 + q^2), π/10^5, 10^5)[1] |> length == 10^5 + 1\n",
    "@assert explicit_euler(1.0, 0.0, (q,p) -> .5 * (p^2 + q^2), π/10^6, 10^6)[1][end] ≤ -1\n",
    "@assert explicit_euler(1.0, 0.0, (q,p) -> .5 * (p^2 + q^2), π/10^5, 10^5)[2][end] |> abs ≤ 1e-5"
   ]
  },
  {
   "cell_type": "markdown",
   "id": "573b1433",
   "metadata": {},
   "source": [
    "3. Considérer la fonction hamiltonienne simple (oscillateur harmonique)\n",
    "   $$\n",
    "   H(q,p) = \\frac{1}{2} (p^2 + q^2),\n",
    "   $$\n",
    "   Pour la dynamique correspondante avec `q0=1`, `p0=0`,\n",
    "   comparer l’évolution de l’énergie pour les méthodes d'Euler explicite et symplectique avec `h=0.1` et `N=100`,\n",
    "   en traçant $H(q_n, p_n)$ en fonction du temps pour les deux méthodes, sur un même graphique."
   ]
  },
  {
   "cell_type": "code",
   "execution_count": null,
   "id": "0f50bd27",
   "metadata": {
    "deletable": false,
    "nbgrader": {
     "cell_type": "code",
     "checksum": "0c28491f3f543f74b934c7785cc571cb",
     "grade": true,
     "grade_id": "cell-53db41860ea0d673",
     "locked": false,
     "points": 1,
     "schema_version": 3,
     "solution": true,
     "task": false
    }
   },
   "outputs": [],
   "source": [
    "# YOUR CODE HERE [⚠ DO NOT DELETE THIS CELL]\n",
    "error(\"No code provided\")"
   ]
  },
  {
   "cell_type": "markdown",
   "id": "43bf8ced",
   "metadata": {},
   "source": [
    "4. (**Bonus**) Étudier l’effet du pas de temps `h` sur la conservation de l’énergie pour la méthode symplectique.\n",
    "   Pour cela, tracer l’erreur en énergie maximale,\n",
    "   c'est-à-dire la quantité $\\max_n |H(q_n,p_n)-H(q_0,p_0)|$ où le maximum porte sur tous les $n$ tels que le temps correspondant appartienne à $[0, 1]$,\n",
    "   en fonction de `h` avec échelle logarithmique sur les deux axes.\n",
    "   Déterminer la valeur de `order` telle que l'erreur se comporte en $O(h^{order})$ lorsque `h` est suffisamment petit."
   ]
  },
  {
   "cell_type": "code",
   "execution_count": null,
   "id": "0c69b731",
   "metadata": {
    "deletable": false,
    "nbgrader": {
     "cell_type": "code",
     "checksum": "54a7373d896be4bdeeb4334eb90ab971",
     "grade": true,
     "grade_id": "cell-572064a1bb1bddb2",
     "locked": false,
     "points": 1,
     "schema_version": 3,
     "solution": true,
     "task": false
    }
   },
   "outputs": [],
   "source": [
    "order = 0  # valeur à changer après avoir déterminé l'ordre de convergence\n",
    "\n",
    "# YOUR CODE HERE [⚠ DO NOT DELETE THIS CELL]\n",
    "error(\"No code provided\")\n",
    "\n",
    "println(\"The error scales approximately as h^($order) for small h\")"
   ]
  },
  {
   "cell_type": "markdown",
   "id": "06002424",
   "metadata": {},
   "source": [
    "### <font color='orange'>[Exercise 3]</font> Chebyshev à la rescousse pour les problèmes de stabilité"
   ]
  },
  {
   "cell_type": "markdown",
   "id": "57236b5f",
   "metadata": {},
   "source": [
    "Dans cet exercice, on s'intéresse à l'équation de la chaleur unidimensionnelle\n",
    "sous condition aux limites de Dirichlet homogène :\n",
    "$$\n",
    "\\tag{EDP}\n",
    "\\partial_t u = \\partial_x^2 u,\n",
    "\\qquad u(0, t) = u(1, t) = 0,\n",
    "\\qquad u(x, 0) = v(x),\n",
    "$$\n",
    "où $v(x) = \\sin(\\pi x) - \\sin(3\\pi x) + 2 \\sin(4\\pi x)$ est une condition initiale donnée.\n",
    "On admet qu'il existe une unique solution classique $u(x, t)$ au problème <a>(EDP)</a>,\n",
    "qui est donnée par\n",
    "$$\n",
    "u(x, t) = \\sin(\\pi x) \\mathrm e^{-  \\pi^2 t} - \\sin(3\\pi x) \\mathrm e^{- 9  \\pi^2  t} + 2 \\sin(4\\pi x) \\mathrm e^{- 16  \\pi^2 t}.\n",
    "$$\n",
    "La condition initiale et la solution sont définies ci-dessous:"
   ]
  },
  {
   "cell_type": "code",
   "execution_count": null,
   "id": "50e31b98",
   "metadata": {
    "lines_to_next_cell": 0
   },
   "outputs": [],
   "source": [
    "# Initial condition\n",
    "u_init(x) = sinpi(x) - sinpi(3x) + 2sinpi(4*x);\n",
    "\n",
    "# Exact solution\n",
    "u_exact(x, t) = sinpi(x) * exp(-π^2*t) -\n",
    "                sinpi(3x) * exp(-9*π^2*t) +\n",
    "                2sinpi(4*x) * exp(-16*π^2*t);"
   ]
  },
  {
   "cell_type": "markdown",
   "id": "31e4022a",
   "metadata": {},
   "source": [
    "Pour construire une méthode d'approximation numérique de la solution,\n",
    "nous introduisons une grille d'abcisses équidistantes :\n",
    "$$\n",
    "0 = x_0 < x_1 < \\dots < x_{N-1} < x_N = 1, \\qquad x_i = \\frac{i}{N}.\n",
    "$$\n",
    "Soient $(u_i)_{i \\in \\{0, \\dots N\\}}$ les valeurs de la solution à ces points.\n",
    "Aux limites, il est clair que $u_0(t) = u_N(t) = 0$ pour tout $t$.\n",
    "Aux points intérieurs,\n",
    "une approximation par différence finie centrale de la dérivée seconde donne\n",
    "$$\n",
    "\\partial_x^2 u(x_i, t) \\approx \\frac{1}{Δx^2} \\Bigl( u_{i-1}(t) - 2u_i(t) + u_{i+1}(t) \\Bigr), \\qquad \\Delta x = \\frac{1}{N}, \\qquad i \\in \\{1, \\dotsc, N-1\\}.\n",
    "$$\n",
    "On en déduit,\n",
    "par l'équation <a>(EDP)</a> et par la condition initiale,\n",
    "que le vecteur $\\mathbf u(t) = \\bigl(u_1(t), \\dotsc, u_{N-1}(t) \\bigr)^T$ satisfait approximativement l'équation différentielle suivante:\n",
    "$$\n",
    "\\tag{ODE}\n",
    "\\frac{\\mathrm d}{\\mathrm d t}\n",
    "\\begin{pmatrix}\n",
    "    u_1 \\\\\n",
    "    u_2 \\\\\n",
    "    u_3 \\\\\n",
    "    \\vdots \\\\\n",
    "    u_{N-2} \\\\\n",
    "    u_{N-1}\n",
    "\\end{pmatrix}\n",
    "\\approx\n",
    "\\frac{\\mathsf A_N}{Δx^2}\n",
    "\\begin{pmatrix}\n",
    "    u_1 \\\\\n",
    "    u_2 \\\\\n",
    "    u_3 \\\\\n",
    "    \\vdots \\\\\n",
    "    u_{N-2} \\\\\n",
    "    u_{N-1}\n",
    "\\end{pmatrix}, \\qquad\n",
    "\\begin{pmatrix}\n",
    "    u_1(0) \\\\\n",
    "    u_2(0) \\\\\n",
    "    u_3(0) \\\\\n",
    "    \\vdots \\\\\n",
    "    u_{N-2}(0) \\\\\n",
    "    u_{N-1}(0)\n",
    "\\end{pmatrix} =\n",
    "\\begin{pmatrix}\n",
    "    v(x_1) \\\\\n",
    "    v(x_2) \\\\\n",
    "    v(x_3) \\\\\n",
    "    \\vdots \\\\\n",
    "    v(x_{N-2}) \\\\\n",
    "    v(x_{N-1})\n",
    "\\end{pmatrix},\n",
    "$$\n",
    "où $\\mathsf A_N \\in \\mathbb R^{(N-1)\\times (N-1)}$ est la matrice suivante, de dimensions <font color=red>(N-1) x (N-1)</font>:\n",
    "$$\n",
    "\\begin{pmatrix}\n",
    "    -2 & 1 \\\\\n",
    "    1 & -2  & 1 \\\\\n",
    "       & 1 & -2      & 1 \\\\\n",
    "       &    & \\ddots & \\ddots & \\ddots & \\\\\n",
    "       &    &        & 1    & -2      & 1 \\\\\n",
    "       &    &        &     & 1      & -2 \\\\\n",
    "\\end{pmatrix}.\n",
    "$$\n",
    "L'équation <a>(ODE)</a> n'est satisfaite qu'approximativement par la solution exacte de l'EDP,\n",
    "mais elle constitue une équation différentielle bien posée dont la résolution fournit une approximation de la solution exacte aux points de discrétisation;\n",
    "c'est la méthode des différences finies.\n",
    "\n",
    "1. Sans utiliser la bibliothèque `LinearAlgebra`,\n",
    "   écrire une fonction `dominant_eigenvalue(N; ε=1e-8)` permettant de calculer la plus grande valeur propre (en valeur absolue) de la matrice $\\mathsf A_N$.\n",
    "   Une fonction vous est donnée pour construire $\\mathsf A_N$,\n",
    "   ainsi qu'une cellule de test.\n",
    "   Si votre implémentation est correcte, il devrait apparaître clairement que la valeur propre dominante de $\\mathsf A_N$ est bornée en valeur absolue par 4, uniformément en $N$."
   ]
  },
  {
   "cell_type": "code",
   "execution_count": null,
   "id": "ad4f2663",
   "metadata": {
    "deletable": false,
    "nbgrader": {
     "cell_type": "code",
     "checksum": "71d72adaec958d41dfbb9ed9cd291d2a",
     "grade": true,
     "grade_id": "cell-3f4b17684f18ea94",
     "locked": false,
     "points": 1,
     "schema_version": 3,
     "solution": true,
     "task": false
    }
   },
   "outputs": [],
   "source": [
    "A_mat(N) = SymTridiagonal(fill(-2., N-1), fill(1., N-2))\n",
    "\n",
    "function dominant_eigenvalue(N; ε=1e-8)\n",
    "    # YOUR CODE HERE [⚠ DO NOT DELETE THIS CELL]\n",
    "    error(\"No code provided\")\n",
    "    return λ\n",
    "end;"
   ]
  },
  {
   "cell_type": "code",
   "execution_count": null,
   "id": "93926e8c",
   "metadata": {},
   "outputs": [],
   "source": [
    "ns = 10:50\n",
    "λs = dominant_eigenvalue.(ns)\n",
    "plot(ns, λs, label=nothing)\n",
    "scatter!(ns, λs, label=\"Dominant eigenvalue\")"
   ]
  },
  {
   "cell_type": "markdown",
   "id": "724729cc",
   "metadata": {},
   "source": [
    "2. On s'intéresse tout au long du reste de cet exercice à une méthode de résolution de l'equation différentielle <a>(ODE)</a> basée sur une itération explicite du type\n",
    "   $$\n",
    "   \\mathbf u_{n+1} = p\\left(\\mathsf A_N \\frac{Δt}{Δx^2} \\right) \\mathbf u_{n}\n",
    "   \\tag{ODE-Scheme}\n",
    "   $$\n",
    "   où $p$ est un polynôme.\n",
    "   Remarquons que pour $p(x) = 1 + x$, cette méthode coincide avec le schéma d'Euler explicite.\n",
    "\n",
    "   Écrire une fonction `solve_pde(N, Δt, T, p)` permettant de résoudre approximativement l'équation <a>(ODE)</a> sur l'intervalle de temps $[0, T]$ par la méthode proposée,\n",
    "   avec un pas de temps $\\Delta t$ et un pas de discrétisation en espace $\\Delta x = 1/N$.\n",
    "   Votre fonction devra renvoyer une structure contenant un vecteur de temps `ts` et un vecteur de vecteurs `us` contenant la solution à ces temps.\n",
    "   <details>\n",
    "        <summary>\n",
    "            <em><font color='gray'>Hint (click to display)</font></em>\n",
    "        </summary>\n",
    "\n",
    "    - La fonction `push!(us, u)` permet d'insérer `u` à la fin de la collection `us`.\n",
    "\n",
    "      ```julia\n",
    "          a = [1., 2., 3.]  # typeof(a) = Vector{Float64}\n",
    "          vec = [a]  # typeof(vec) = Vector{Vector{Float64}}\n",
    "          push!(vec, [2., 3., 4.])  # vec = [[1.0, 2.0, 3.0], [2.0, 3.0, 4.0]]\n",
    "      ```\n",
    "\n",
    "    - Pour $N$ très grand, il serait plus efficace de calculer directement les produits matrice-vecteur $p(\\mathsf A_N \\Delta t / \\Delta x^2) \\mathbf u_n$\n",
    "      sans jamais calculer de produits matrice-matrice,\n",
    "      donc sans jamais former $p(\\mathsf A_N \\Delta t / \\Delta x^2)$ explicitement.\n",
    "      Cette approche n'est pas demandée dans cet exercice.\n",
    "\n",
    "   </details>"
   ]
  },
  {
   "cell_type": "code",
   "execution_count": null,
   "id": "7490a596",
   "metadata": {
    "deletable": false,
    "nbgrader": {
     "cell_type": "code",
     "checksum": "e55dbd374a6bb50aac3e1d9ab3b3f31d",
     "grade": false,
     "grade_id": "cell-9cc0899095a48a55",
     "locked": false,
     "schema_version": 3,
     "solution": true,
     "task": false
    }
   },
   "outputs": [],
   "source": [
    "struct SolPoisson\n",
    "    ts::Vector{Float64}\n",
    "    us::Vector{Vector{Float64}}\n",
    "end\n",
    "\n",
    "# Polynomial `p` for explicit Euler\n",
    "p_Euler(M) = (I + M)\n",
    "\n",
    "function solve_pde(N, Δt, T, p)\n",
    "    # YOUR CODE HERE [⚠ DO NOT DELETE THIS CELL]\n",
    "    error(\"No code provided\")\n",
    "    return SolPoisson(ts, us)\n",
    "end;"
   ]
  },
  {
   "cell_type": "code",
   "execution_count": null,
   "id": "cd03b7b7",
   "metadata": {
    "deletable": false,
    "editable": false,
    "nbgrader": {
     "cell_type": "code",
     "checksum": "d1400f953f0e4be7fa5556649d6743d6",
     "grade": true,
     "grade_id": "cell-7b7ba491b1d722d3",
     "locked": true,
     "points": 3,
     "schema_version": 3,
     "solution": false,
     "task": false
    }
   },
   "outputs": [],
   "source": [
    "N = 20; Δt = 1/(2*N^2); T = .1;\n",
    "sol = solve_pde(N, Δt, T, p_Euler)\n",
    "\n",
    "@assert typeof(sol.ts) === Vector{Float64}\n",
    "@assert typeof(sol.us) === Vector{Vector{Float64}}\n",
    "@assert length(sol.ts) == length(sol.us)\n",
    "@assert sol.ts[1:11] ≈ Δt * (0:10)\n",
    "@assert sol.us[1] ≈ u_init.((1:N-1)/N)\n",
    "\n",
    "function animate_solution(sol::SolPoisson)\n",
    "    ts, us = sol.ts, sol.us\n",
    "    N = length(us[1]) + 1\n",
    "    Δx = 1/N\n",
    "    x = Δx*(0:N)\n",
    "    anim = @animate for (i, t) in enumerate(ts)\n",
    "        plot(title=\"t = $(round(t, digits=3))\")\n",
    "        plot!(x -> u_exact(x, t), label=\"Exact solution\")\n",
    "        plot!(x, [0; us[i]; 0], label=\"Numerical solution\")\n",
    "        scatter!([x], [0; us[i]; 0], label=nothing)\n",
    "        xlims!(0, 1)\n",
    "        ylims!(-3, 4)\n",
    "    end\n",
    "    return gif(anim, fps=5, show_msg=false)\n",
    "end\n",
    "\n",
    "animate_solution(sol)"
   ]
  },
  {
   "cell_type": "markdown",
   "id": "d4a12607",
   "metadata": {},
   "source": [
    " 3. Pour éviter la divergence du schéma itératif <a>(ODE-Scheme)</a>,\n",
    "    il est suffisant que\n",
    "    l'inégalité $|p(λ)| \\leqslant 1$ soit satisfaite\n",
    "    pour toute valeur propre $λ$ de la matrice $\\mathsf A_N \\frac{Δt}{Δx^2}$.\n",
    "    En admettant que les valeurs propres de $\\mathsf A_N$ sont toutes comprises dans l'intervalle $]-4, 0[$,\n",
    "    déterminer une condition **suffisante** pour garantir la non-divergence de la méthode d'Euler explicite:\n",
    "    $$\n",
    "    \\text{\\color{orange} Écrire la condition de non-divergence dans la cellule suivante.}\n",
    "    $$\n",
    "    <details>\n",
    "        <summary>\n",
    "            <em><font color='gray'> Remarque (cliquer pour afficher)</font></em>\n",
    "        </summary>\n",
    "\n",
    "    On parle ici de **non-divergence** du schéma, plutôt que de stabilité absolue,\n",
    "    car on souhaite considérer l'inégalité $|p(λ)| \\leqslant 1$ sans inégalité stricte,\n",
    "    afin de simplifier la suite de l'exercice.\n",
    "    Notons que les deux concepts sont fortement liés,\n",
    "    et par abus de langage, on utilisera les termes **non-divergence** et **stabilité** de manière synonyme dans le reste de l'exercice.\n",
    "    </details>"
   ]
  },
  {
   "cell_type": "markdown",
   "id": "38c75bba",
   "metadata": {
    "deletable": false,
    "nbgrader": {
     "cell_type": "markdown",
     "checksum": "97e951d55859217ac0572cfc73c6bfd3",
     "grade": true,
     "grade_id": "order_explicit",
     "locked": false,
     "points": 1,
     "schema_version": 3,
     "solution": true,
     "task": false
    },
    "tags": [
     "DO NOT DELETE THIS CELL"
    ]
   },
   "source": [
    "YOUR ANSWER HERE"
   ]
  },
  {
   "cell_type": "markdown",
   "id": "81be416b",
   "metadata": {},
   "source": [
    " 4. À l'aide de la fonction `animate_solution` qui est donnée ci-dessus,\n",
    "    illustrer la stabilité de la méthode d'Euler explicite quand la condition suffisante de non-divergence est satisfaite,\n",
    "    et sa divergence pour certains paramètres tels qu'elle ne l'est pas."
   ]
  },
  {
   "cell_type": "code",
   "execution_count": null,
   "id": "41fc70ef",
   "metadata": {
    "deletable": false,
    "nbgrader": {
     "cell_type": "code",
     "checksum": "a4606009bbce3568a3030449854b7860",
     "grade": true,
     "grade_id": "cell-de4661db59177aef",
     "locked": false,
     "points": 0.5,
     "schema_version": 3,
     "solution": true,
     "task": false
    }
   },
   "outputs": [],
   "source": [
    "N = 20\n",
    "T = .1\n",
    "# Fix parameter Δt such that the Euler scheme is *stable*\n",
    "# YOUR CODE HERE [⚠ DO NOT DELETE THIS CELL]\n",
    "error(\"No code provided\")"
   ]
  },
  {
   "cell_type": "code",
   "execution_count": null,
   "id": "3ff27ef1",
   "metadata": {
    "deletable": false,
    "nbgrader": {
     "cell_type": "code",
     "checksum": "01e7b5d5fad9d58754da6cefef36f486",
     "grade": true,
     "grade_id": "cell-5a0ccdb75d85f529",
     "locked": false,
     "points": 0.5,
     "schema_version": 3,
     "solution": true,
     "task": false
    }
   },
   "outputs": [],
   "source": [
    "N = 20\n",
    "T = .1\n",
    "# Fix parameter Δt such that the Euler scheme is *unstable*\n",
    "# YOUR CODE HERE [⚠ DO NOT DELETE THIS CELL]\n",
    "error(\"No code provided\")"
   ]
  },
  {
   "cell_type": "markdown",
   "id": "54676e5e",
   "metadata": {},
   "source": [
    "5. Il est possible de montrer que si $p$ est un polynôme de degré arbitraire tel que $p(0) = 1$ et $p'(0) = 1$,\n",
    "   alors le schéma itératif <a>(ODE-Scheme)</a> associé est convergent,\n",
    "   dans le sens où la solution exacte de l'équation différentielle est retrouvée dans la limite $Δt \\to 0$.\n",
    "   Il est donc naturel de chercher,\n",
    "   parmi tous les polynômes de degré $m$ tels que $p(0) = 1$ et $p'(0) = 1$,\n",
    "   celui qui garantit la plage de non-divergence la plus large possible,\n",
    "   c'est à dire celui tel que la condition\n",
    "   $$\n",
    "    \\forall λ \\in [-L, 0], \\qquad |p(λ)| \\leqslant 1,\n",
    "   \\tag{Condition}\n",
    "   $$\n",
    "   soit satisfaite pour $L > 0$ aussi grand que possible.\n",
    "   Il s'avère que ce problème admet une solution explicite;\n",
    "   le polynôme optimal n'est autre que le polynòme de Chebyshev de degré $m$, à un changement de variables près :\n",
    "   $$\n",
    "   p_{m}(x) = T_m \\left(1 + \\frac{x}{m^2} \\right), \\qquad 0 < \\alpha \\ll 1.\n",
    "   $$\n",
    "   Sachant que les polynômes de Chebychev sont donnés par la relation de récurrence\n",
    "   $$\n",
    "   \\begin{align*}\n",
    "   T_0(x) & = 1, \\\\\n",
    "   T_1(x) & = x, \\\\\n",
    "   T_{n+1}(x) & = 2 x\\,T_n(x) - T_{n-1}(x),\n",
    "   \\end{align*}\n",
    "   $$\n",
    "   écrire une fonction `cheb(m, M)` permettant de calculer $T_m(\\mathsf M)$.\n",
    "   La fonction devra être suffisamment générale pour traiter aussi bien le cas d'un argument scalaire que celui d'un argument matriciel.\n",
    "   La fonction `one` est utile pour cela: `one(x)` retourne 1.0 si `x` est un scalaire flottant,\n",
    "   et la matrice identité de la même taille que `x` si `x` est une matrice."
   ]
  },
  {
   "cell_type": "code",
   "execution_count": null,
   "id": "601bf15a",
   "metadata": {
    "deletable": false,
    "nbgrader": {
     "cell_type": "code",
     "checksum": "ee25daefe04b26798677a9e18c6dfe77",
     "grade": false,
     "grade_id": "cell-7689b64085d7ed28",
     "locked": false,
     "schema_version": 3,
     "solution": true,
     "task": false
    }
   },
   "outputs": [],
   "source": [
    "# YOUR CODE HERE [⚠ DO NOT DELETE THIS CELL]\n",
    "error(\"No code provided\")"
   ]
  },
  {
   "cell_type": "code",
   "execution_count": null,
   "id": "98a751a6",
   "metadata": {
    "deletable": false,
    "editable": false,
    "nbgrader": {
     "cell_type": "code",
     "checksum": "0f7606a83f3e9e1259fcdb91565278ab",
     "grade": true,
     "grade_id": "cell-7eaf27cf8c5b6cb1",
     "locked": true,
     "points": 0.5,
     "schema_version": 3,
     "solution": false,
     "task": false
    }
   },
   "outputs": [],
   "source": [
    "M = reshape(1.0:9.0, 3, 3) |> Matrix\n",
    "@assert cheb(0, 3.) ≈ 1.\n",
    "@assert cheb(0, randn(3, 3)) ≈ I\n",
    "@assert cheb(1, 3.) ≈ 3.\n",
    "@assert cheb(1, M) ≈ M\n",
    "@assert cheb(2, 3.) ≈ 17.\n",
    "@assert cheb(2, M) ≈ 2M^2 - I\n",
    "@assert cheb(3, 3.) ≈ 99.\n",
    "@assert cheb(3, M) ≈ 4M^3 - 3M"
   ]
  },
  {
   "cell_type": "markdown",
   "id": "63f54dd0",
   "metadata": {},
   "source": [
    "6. Ilustrer les polynômes $p_{m}$ pour $m \\in \\{3, 4, 5\\}$ pour $x \\in [-51, 1]$."
   ]
  },
  {
   "cell_type": "code",
   "execution_count": null,
   "id": "27adfbe9",
   "metadata": {
    "deletable": false,
    "nbgrader": {
     "cell_type": "code",
     "checksum": "65a12dbfaaaff7fa6eb5d0825ec37ba7",
     "grade": true,
     "grade_id": "cell-a24bbcedcb724256",
     "locked": false,
     "points": 1,
     "schema_version": 3,
     "solution": true,
     "task": false
    }
   },
   "outputs": [],
   "source": [
    "function p_m(m, x)\n",
    "    # YOUR CODE HERE [⚠ DO NOT DELETE THIS CELL]\n",
    "    error(\"No code provided\")\n",
    "end\n",
    "\n",
    "# YOUR CODE HERE [⚠ DO NOT DELETE THIS CELL]\n",
    "error(\"No code provided\")\n",
    "hline!([-1, 1], label=nothing)\n",
    "ylims!(-2, 2)"
   ]
  },
  {
   "cell_type": "markdown",
   "id": "5a96772f",
   "metadata": {
    "lines_to_next_cell": 2
   },
   "source": [
    "7. Pour $m = 5$,\n",
    "   écrire une condition suffisante garantissant la non-divergence du schéma itératif <a>(ODE-Scheme)</a> lorsque $p = p_{m}$.\n",
    "   Pour cela, on pourra se rappeler que les polynômes de Chebyshev sont tous bornés par 1 en valeur absolue pour tout $x$ dans l'intervalle $[-1, 1]$.\n",
    "   Veiller à vérifier que la condition écrite coincide avec celle du schéma d'Euler explicite pour $m = 1$.\n",
    "$$\n",
    "\\text{\\color{orange} Écrire la condition de non-divergence dans la cellule suivante:}\n",
    "$$"
   ]
  },
  {
   "cell_type": "markdown",
   "id": "e54479cf",
   "metadata": {
    "deletable": false,
    "nbgrader": {
     "cell_type": "markdown",
     "checksum": "d7c6075740768ebb35043cf7f7162e02",
     "grade": true,
     "grade_id": "criterion_cheb",
     "locked": false,
     "points": 1,
     "schema_version": 3,
     "solution": true,
     "task": false
    },
    "tags": [
     "DO NOT DELETE THIS CELL"
    ]
   },
   "source": [
    "YOUR ANSWER HERE"
   ]
  },
  {
   "cell_type": "markdown",
   "id": "9a769f67",
   "metadata": {},
   "source": [
    "8. À l'aide de la fonction `animate_solution` qui est donnée ci-dessus,\n",
    "   illustrer la stabilité de la méthode <a>(ODE-Scheme)</a> avec $p = p_5$ quand la condition suffisante de non-divergence est satisfaite,\n",
    "   et son instabilité pour un certain jeu de paramètres tels qu'elle ne l'est pas."
   ]
  },
  {
   "cell_type": "code",
   "execution_count": null,
   "id": "23d857b3",
   "metadata": {
    "deletable": false,
    "nbgrader": {
     "cell_type": "code",
     "checksum": "09efcd63b6321c020c9512187b327a5f",
     "grade": true,
     "grade_id": "cell-bfc75e32ef351300",
     "locked": false,
     "points": 0.5,
     "schema_version": 3,
     "solution": true,
     "task": false
    }
   },
   "outputs": [],
   "source": [
    "N = 40\n",
    "T = .1\n",
    "m = 5\n",
    "# Fix parameter Δt such that the Euler scheme is *stable*\n",
    "# YOUR CODE HERE [⚠ DO NOT DELETE THIS CELL]\n",
    "error(\"No code provided\")"
   ]
  },
  {
   "cell_type": "code",
   "execution_count": null,
   "id": "8e08a8e1",
   "metadata": {
    "deletable": false,
    "nbgrader": {
     "cell_type": "code",
     "checksum": "f85bab702e2dea1252d1041aed00d89e",
     "grade": true,
     "grade_id": "cell-7719fc37c6f205da",
     "locked": false,
     "points": 0.5,
     "schema_version": 3,
     "solution": true,
     "task": false
    }
   },
   "outputs": [],
   "source": [
    "N = 40\n",
    "T = .1\n",
    "m = 5\n",
    "# Fix parameter Δt such that the Euler scheme is *unstable*\n",
    "# YOUR CODE HERE [⚠ DO NOT DELETE THIS CELL]\n",
    "error(\"No code provided\")"
   ]
  },
  {
   "cell_type": "markdown",
   "id": "d82db595",
   "metadata": {},
   "source": [
    "9. (**Bonus**) Le bout de code ci-dessous illustre la région de stabilité absolute de la méthode d'Euler explicite.\n",
    "   Modifier ce code afin d'illustrer la région de la stabilité absolue de la méthode <a>ODE-Scheme</a> lorsque $m = 5$ et $p = p_m$."
   ]
  },
  {
   "cell_type": "code",
   "execution_count": null,
   "id": "b4b76ca3",
   "metadata": {
    "deletable": false,
    "nbgrader": {
     "cell_type": "code",
     "checksum": "9420b2471677dd984298a68a879d89de",
     "grade": true,
     "grade_id": "cell-1c7c7655290100cc",
     "locked": false,
     "points": 1,
     "schema_version": 3,
     "solution": true,
     "task": false
    }
   },
   "outputs": [],
   "source": [
    "xlims = (-55, 4)\n",
    "ylims = (-8, 8)\n",
    "Plots.plot(size=(900, 300))\n",
    "x = LinRange(xlims..., 400)\n",
    "y = LinRange(ylims..., 400)\n",
    "is_method_stable(z, p) = abs(1 + z) < 1\n",
    "# YOUR CODE HERE [⚠ DO NOT DELETE THIS CELL]\n",
    "error(\"No code provided\")\n",
    "stable = is_method_stable.(x' .+ im*y, 4)\n",
    "Plots.contourf!(x, y, stable, c=:Pastel1_3,\n",
    "                aspect_ratio=:equal, levels=[0, 1, 2],\n",
    "                xlabel=L\"\\Re(\\Delta \\lambda)\",\n",
    "                ylabel=L\"\\Im(\\Delta \\lambda)\",\n",
    "                colorbar=:none, xlims=xlims, ylims=ylims)\n",
    "Plots.contour!(x, y, stable, levels=5, c=:red)\n",
    "Plots.vline!([0], color=:gray, label=nothing)\n",
    "Plots.hline!([0], color=:gray, label=nothing)"
   ]
  },
  {
   "cell_type": "markdown",
   "id": "da884ec0",
   "metadata": {},
   "source": [
    "10. (**Bonus**) Lorsqu'elle est implémentée efficacement, la méthode <a>(ODE-Scheme)</a> présente un coût computationnel proportionnel au degré du polynôme $p$.\n",
    "    Expliquer dans la cellule suivante l'intérêt d'utiliser les polynômes de Chebyshev."
   ]
  },
  {
   "cell_type": "markdown",
   "id": "5a8c0d61",
   "metadata": {
    "deletable": false,
    "nbgrader": {
     "cell_type": "markdown",
     "checksum": "bb1b2f49a9103eb5931ab551df56836b",
     "grade": true,
     "grade_id": "cell-2f9b0362-404a-49bc-bfd0-2345d2ab6093",
     "locked": false,
     "points": 1,
     "schema_version": 3,
     "solution": true,
     "task": false
    },
    "tags": [
     "DO NOT DELETE THIS CELL"
    ]
   },
   "source": [
    "YOUR ANSWER HERE"
   ]
  }
 ],
 "metadata": {
  "jupytext": {
   "encoding": "# -*- coding: utf-8 -*-"
  },
  "kernelspec": {
   "display_name": "Julia 1.11.5",
   "language": "julia",
   "name": "julia-1.11"
  },
  "language_info": {
   "file_extension": ".jl",
   "mimetype": "application/julia",
   "name": "julia",
   "version": "1.11.5"
  }
 },
 "nbformat": 4,
 "nbformat_minor": 5
}
