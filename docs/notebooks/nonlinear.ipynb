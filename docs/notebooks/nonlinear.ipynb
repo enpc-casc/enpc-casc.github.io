{
 "cells": [
  {
   "cell_type": "markdown",
   "id": "2406928c",
   "metadata": {
    "deletable": false,
    "editable": false,
    "nbgrader": {
     "cell_type": "markdown",
     "checksum": "7fed134749c7f97f752db58234b409d9",
     "grade": false,
     "grade_id": "cell-e4f9a84ea7547eac",
     "locked": true,
     "schema_version": 3,
     "solution": false,
     "task": false
    }
   },
   "source": [
    "# Cours ENPC - Pratique du calcul scientifique"
   ]
  },
  {
   "cell_type": "markdown",
   "id": "39cd48f1",
   "metadata": {
    "deletable": false,
    "editable": false,
    "nbgrader": {
     "cell_type": "markdown",
     "checksum": "65271d1e40abdf55d097eb6740bce2d6",
     "grade": false,
     "grade_id": "cell-fd8fe66990449d77",
     "locked": true,
     "schema_version": 3,
     "solution": false,
     "task": false
    },
    "slideshow": {
     "slide_type": ""
    },
    "tags": []
   },
   "source": [
    "#### Instructions:\n",
    "\n",
    "- Before you turn in this assignment, make sure everything runs as expected. To check this, **restart VS Code** and then **run all cells**.\n",
    "\n",
    "- <mark style=\"color: red;\">\n",
    "    Most of the exercises in this notebook will be graded automatically.\n",
    "    You may modify the content of existing cells and add new cells.\n",
    "    However, to ensure smooth automatic grading,\n",
    "    <strong>do not remove or alter the metadata of the cells given,</strong>\n",
    "    especially those requiring your input. </mark>\n",
    "\n",
    "- Make sure you fill in any place that says `YOUR CODE HERE` or `YOUR ANSWER HERE`, as well as your name below:\n",
    "\n",
    "- Make sure to remove the lines `error(\"No code provided\")` once you have filled in your solution."
   ]
  },
  {
   "cell_type": "code",
   "execution_count": null,
   "id": "c57e4f3b",
   "metadata": {
    "deletable": false,
    "editable": true,
    "slideshow": {
     "slide_type": ""
    },
    "tags": []
   },
   "outputs": [],
   "source": [
    "NAME = \"Prénom Nom\"\n",
    "\n",
    "# By submitting the notebook, you agree with the following sentence\n",
    "println(\"I certify that this notebook is the result of my own independent work. Signed: $NAME\")"
   ]
  },
  {
   "cell_type": "markdown",
   "id": "a30eaeba",
   "metadata": {
    "deletable": false,
    "editable": false,
    "nbgrader": {
     "cell_type": "markdown",
     "checksum": "58a2db11211abb58d88fe5b0a49580a6",
     "grade": false,
     "grade_id": "cell-fb98d61d-af81-4904-b1f6-3636ce114df3",
     "locked": true,
     "schema_version": 3,
     "solution": false,
     "task": false
    },
    "tags": [
     "DO NOT DELETE THIS CELL"
    ]
   },
   "source": [
    "## Semaine 5 : résolution de systèmes non linéaires et introduction à la différentiation automatique"
   ]
  },
  {
   "cell_type": "code",
   "execution_count": null,
   "id": "d3623bef",
   "metadata": {},
   "outputs": [],
   "source": [
    "using LinearAlgebra, Plots, Polynomials"
   ]
  },
  {
   "cell_type": "markdown",
   "id": "fe9a8d71",
   "metadata": {
    "deletable": false,
    "editable": false,
    "nbgrader": {
     "cell_type": "markdown",
     "checksum": "d46556691db06fcb6061742d22142844",
     "grade": false,
     "grade_id": "cell-9c7d5fd9-9561-4576-8217-2967d38f85c0",
     "locked": true,
     "schema_version": 3,
     "solution": false,
     "task": false
    },
    "tags": [
     "DO NOT DELETE THIS CELL"
    ]
   },
   "source": [
    "### <font color='green'> Système non linéaire</font>"
   ]
  },
  {
   "cell_type": "markdown",
   "id": "a97e8668",
   "metadata": {
    "deletable": false,
    "editable": false,
    "nbgrader": {
     "cell_type": "markdown",
     "checksum": "d85a21ba8086d1f35c0d0a846300281a",
     "grade": false,
     "grade_id": "cell-71a3e804-99ca-4a65-8c51-21836c0d326c",
     "locked": true,
     "schema_version": 3,
     "solution": false,
     "task": false
    },
    "tags": [
     "DO NOT DELETE THIS CELL"
    ]
   },
   "source": [
    "### <font color='orange'>[Exercice 1]</font> Newton-Raphson en dimension 2\n",
    "\n",
    "On considère le système non linéaire suivant\n",
    "$$\n",
    "\\left \\{\n",
    "    \\begin{aligned}\n",
    "        &y = (x-1)^2 \\\\\n",
    "        &x^2 + y^2 = 4\n",
    "    \\end{aligned}\n",
    "\\right.\n",
    "$$\n",
    "\n",
    "1. Tracer des graphiques appropriés pour visualiser grossièrement la (les) zone(s) contenant une (des) solution(s)\n"
   ]
  },
  {
   "cell_type": "code",
   "execution_count": null,
   "id": "7e4fea9a",
   "metadata": {
    "deletable": false,
    "nbgrader": {
     "cell_type": "code",
     "checksum": "80a3d12560ba0394736902cef3daf32b",
     "grade": true,
     "grade_id": "cell-87d5b9021583a6dc",
     "locked": false,
     "points": 1,
     "schema_version": 3,
     "solution": true,
     "task": false
    },
    "tags": [
     "DO NOT DELETE THIS CELL"
    ]
   },
   "outputs": [],
   "source": [
    "# YOUR CODE HERE [⚠ DO NOT DELETE THIS CELL]\n",
    "error(\"No code provided\")"
   ]
  },
  {
   "cell_type": "markdown",
   "id": "df1da8b8",
   "metadata": {
    "deletable": false,
    "editable": false,
    "nbgrader": {
     "cell_type": "markdown",
     "checksum": "ea2c9fb5aec497d300a1c85b906366ea",
     "grade": false,
     "grade_id": "cell-0a539750-db3e-4c63-80e0-b2315afed32f",
     "locked": true,
     "schema_version": 3,
     "solution": false,
     "task": false
    },
    "tags": [
     "DO NOT DELETE THIS CELL"
    ]
   },
   "source": [
    "2. Implémenter un algorithme de Newton-Raphson pour calculer une approximation de cette (ces) solution(s) en prenant soin de retourner non seulement la solution mais également l'ensemble des itérations,\n",
    "   sans le `x` initial.\n",
    "   Pour éviter de se retrouver plus tard face au calcul d'un logarithme de 0, attention à ne pas inclure dans l'ensemble des itérations la dernière valeur censée être la meilleure approximation de la solution et qui doit être retournée indépendamment.\n",
    "   L'algorithme devra être suffisamment générique pour traiter aussi bien des cas scalaires que vectoriels."
   ]
  },
  {
   "cell_type": "code",
   "execution_count": null,
   "id": "4dbe5dfb",
   "metadata": {
    "deletable": false,
    "nbgrader": {
     "cell_type": "code",
     "checksum": "2ce9184234091ed56913c76954f13bec",
     "grade": false,
     "grade_id": "cell-7b74d9c54142cb7a",
     "locked": false,
     "schema_version": 3,
     "solution": true,
     "task": false
    }
   },
   "outputs": [],
   "source": [
    "function newton_raphson(x, f, Jᶠ, maxiter = 100; ε = 1e-12)\n",
    "    # YOUR CODE HERE [⚠ DO NOT DELETE THIS CELL]\n",
    "    error(\"No code provided\")\n",
    "    return \"Failed to converge!\"\n",
    "end;"
   ]
  },
  {
   "cell_type": "code",
   "execution_count": null,
   "id": "1ddff688",
   "metadata": {
    "deletable": false,
    "editable": false,
    "nbgrader": {
     "cell_type": "code",
     "checksum": "f647e3ed8b320b7d000bebaf6e20a120",
     "grade": true,
     "grade_id": "cell-30f65edf1bc6541a",
     "locked": true,
     "points": 1,
     "schema_version": 3,
     "solution": false,
     "task": false
    },
    "tags": [
     "DO NOT DELETE THIS CELL"
    ]
   },
   "outputs": [],
   "source": [
    "x, lx = newton_raphson(1., x->x^2-4, x->2x, 100 ; ε = 1e-12)\n",
    "@assert  x ≈ 2.\n",
    "@assert  all(lx .≈ [2.5, 2.05, 2.000609756097561, 2.0000000929222947])\n",
    "\n",
    "x, lx = newton_raphson([1.,1.], x->[x[1]^2-4, x[2]^2-9], x->2Diagonal(x), 100 ; ε = 1e-12)\n",
    "@assert  all(x .≈ [2.0, 3.0])\n",
    "@assert  all(lx .≈ [[2.5, 5.0], [2.05, 3.4], [2.000609756097561, 3.023529411764706], [2.0000000929222947, 3.00009155413138], [2.000000000000002, 3.000000001396984]])"
   ]
  },
  {
   "cell_type": "markdown",
   "id": "f5dc9522",
   "metadata": {
    "deletable": false,
    "editable": false,
    "nbgrader": {
     "cell_type": "markdown",
     "checksum": "42ba47eab288821a69b692c6cdf6169f",
     "grade": false,
     "grade_id": "cell-1474c2de-4cde-43bc-9746-ed507ade124c",
     "locked": true,
     "schema_version": 3,
     "solution": false,
     "task": false
    },
    "tags": [
     "DO NOT DELETE THIS CELL"
    ]
   },
   "source": [
    "3. Tracer l'évolution de l'erreur en fonction de l'itération pour la (les) solution(s) en utilisant une échelle appropriée en y. On pourra estimer qu'une solution donnée est fournie par la valeur finale de l'algorithme."
   ]
  },
  {
   "cell_type": "code",
   "execution_count": null,
   "id": "0268336e",
   "metadata": {
    "deletable": false,
    "nbgrader": {
     "cell_type": "code",
     "checksum": "b16da53661bf8f5ccf246d6c9a5d3026",
     "grade": true,
     "grade_id": "cell-9c161b437224ce1f",
     "locked": false,
     "points": 1,
     "schema_version": 3,
     "solution": true,
     "task": false
    },
    "tags": [
     "DO NOT DELETE THIS CELL"
    ]
   },
   "outputs": [],
   "source": [
    "# YOUR CODE HERE [⚠ DO NOT DELETE THIS CELL]\n",
    "error(\"No code provided\")"
   ]
  },
  {
   "cell_type": "markdown",
   "id": "b4e46669",
   "metadata": {
    "deletable": false,
    "editable": false,
    "nbgrader": {
     "cell_type": "markdown",
     "checksum": "6c9a125c979f99eeae97c0d7cdcb0e89",
     "grade": false,
     "grade_id": "cell-150e3f47-5464-4229-b788-84bececff224",
     "locked": true,
     "schema_version": 3,
     "solution": false,
     "task": false
    },
    "tags": [
     "DO NOT DELETE THIS CELL"
    ]
   },
   "source": [
    "4. Estimer l'ordre de convergence i.e. $q$ tel que $\\lim_{k\\to\\infty} \\frac{\\lVert \\mathbf{x}_{k+1}-\\mathbf{x}_*\\rVert}{\\lVert \\mathbf{x}_{k}-\\mathbf{x}_*\\rVert^q} ∈ \\mathbb{R}^*_+$ pour la (les) solution(s). On pourra pour cela utiliser le vecteur `logerr` des logarithmes des erreurs successives et construire le polynôme de degré 1 associant $\\log{\\lVert \\mathbf{x}_{k}-\\mathbf{x}_*\\rVert }$ à $\\log{\\lVert \\mathbf{x}_{k+1}-\\mathbf{x}_*\\rVert }$ en considérant les sous-vecteurs `logerr[1:end-1]` et `logerr[2:end]`."
   ]
  },
  {
   "cell_type": "code",
   "execution_count": null,
   "id": "ebea1eae",
   "metadata": {
    "deletable": false,
    "nbgrader": {
     "cell_type": "code",
     "checksum": "c713455074071370ee2aea5ba38ca941",
     "grade": true,
     "grade_id": "cell-aaa07e2866c41119",
     "locked": false,
     "points": 1,
     "schema_version": 3,
     "solution": true,
     "task": false
    },
    "tags": [
     "DO NOT DELETE THIS CELL"
    ]
   },
   "outputs": [],
   "source": [
    "# YOUR CODE HERE [⚠ DO NOT DELETE THIS CELL]\n",
    "error(\"No code provided\")"
   ]
  },
  {
   "cell_type": "markdown",
   "id": "42d828bf",
   "metadata": {
    "deletable": false,
    "editable": false,
    "nbgrader": {
     "cell_type": "markdown",
     "checksum": "36bfbed0ad982d46c244b8ed3e7c9a43",
     "grade": false,
     "grade_id": "cell-532392f5-6696-45ae-bc67-7d27a6e55228",
     "locked": true,
     "schema_version": 3,
     "solution": false,
     "task": false
    },
    "tags": [
     "DO NOT DELETE THIS CELL"
    ]
   },
   "source": [
    "--------------------\n",
    "--------------------\n",
    "--------------------"
   ]
  },
  {
   "cell_type": "markdown",
   "id": "5e66d4cd",
   "metadata": {
    "deletable": false,
    "editable": false,
    "nbgrader": {
     "cell_type": "markdown",
     "checksum": "86d8cfccce508da2a1ecdebca11f74be",
     "grade": false,
     "grade_id": "cell-6099b1e2-18e4-48fd-8fff-8c6ec5068936",
     "locked": true,
     "schema_version": 3,
     "solution": false,
     "task": false
    },
    "tags": [
     "DO NOT DELETE THIS CELL"
    ]
   },
   "source": [
    "### <font color='green'> Introduction à la différentiation automatique</font>"
   ]
  },
  {
   "cell_type": "markdown",
   "id": "f9e89b43",
   "metadata": {
    "deletable": false,
    "editable": false,
    "nbgrader": {
     "cell_type": "markdown",
     "checksum": "2789e788a58ba1e789197b688795cb8d",
     "grade": false,
     "grade_id": "cell-8072da53-459d-446b-b4e9-1f34a06c33ee",
     "locked": true,
     "schema_version": 3,
     "solution": false,
     "task": false
    },
    "tags": [
     "DO NOT DELETE THIS CELL"
    ]
   },
   "source": [
    "### <font color='orange'>[Exercice 2]</font> Calcul de la racine carrée par la méthode babylonienne\n",
    "\n",
    "Soit un paramètre réel $a>0$ et la suite définie par\n",
    "<a id=\"baby\"></a>\n",
    "$$\n",
    "\\tag{1}\n",
    "x_0>0 \\qquad ; \\qquad ∀k∈\\mathbb{N},\\quad x_{k+1}=\\frac{1}{2}\\left(x_k+\\frac{a}{x_k}\\right)\n",
    "$$\n",
    "\n",
    "  > *Questions préliminaires (à faire sur brouillon mais non demandées dans le rendu)*\n",
    "  > \n",
    "  > i) En écrivant $x_{k+1}-\\sqrt{a}$ en fonction de $x_k-\\sqrt{a}$ puis $x_{k+1}-x_k$, montrer que $(x_k)$ converge quadratiquement vers $x_*=\\sqrt{a}$ quel que soit $x_0>0$.\n",
    "  > \n",
    "  >    <details>\n",
    "  >        <summary>\n",
    "  >            <em><font color='gray'>Aide (cliquer pour afficher)</font></em>\n",
    "  >        </summary>\n",
    "  > \n",
    "  >    - Noter déjà que si $x_0>0$ alors $x_k>0$ pour tout $k$.\n",
    "  >    - Montrer que $x_{k+1}-\\sqrt{a}=\\frac{(x_k-\\sqrt{a})^2}{2 x_k}$ et que $x_{k+1}-x_k=\\frac{a-x_k^2}{2 x_k}$.\n",
    "  >    - En déduire que $(x_k)_{k⩾1}$ est minorée par $\\sqrt{a}$ et qu'elle est décroissante (attention à ne considérer le raisonnement que pour $k⩾1$) donc qu'elle converge.\n",
    "  >    - Conclure sur la limite qui est nécessairement $\\sqrt{a}$ et sur la convergence quadratique.\n",
    "  >    </details>\n",
    "  > \n",
    "  > ii) Montrer que la formulation par récurrence <a href=\"#baby\">(1)</a> n'est autre que l'algorithme de Newton-Raphson appliqué à une fonction à identifier s'annulant en $x_*=\\sqrt{a}$.\n",
    "\n",
    "1. Construire une fonction `Babylonian` prenant comme arguments `a` ainsi qu'un entier `n` valant `10` par défaut et qui renvoie le vecteur $[x_0,x_1,\\ldots,x_n]$ en initialisant la suite à $x_0=\\frac{1+a}{2}$."
   ]
  },
  {
   "cell_type": "code",
   "execution_count": null,
   "id": "05eb72f1",
   "metadata": {
    "deletable": false,
    "nbgrader": {
     "cell_type": "code",
     "checksum": "eb0955042af688962c2abf205771aabb",
     "grade": false,
     "grade_id": "cell-51aeec58821a4395",
     "locked": false,
     "schema_version": 3,
     "solution": true,
     "task": false
    }
   },
   "outputs": [],
   "source": [
    "function Babylonian(a; n = 10)\n",
    "    # YOUR CODE HERE [⚠ DO NOT DELETE THIS CELL]\n",
    "    error(\"No code provided\")\n",
    "end"
   ]
  },
  {
   "cell_type": "code",
   "execution_count": null,
   "id": "9e6b0aae",
   "metadata": {
    "deletable": false,
    "editable": false,
    "nbgrader": {
     "cell_type": "code",
     "checksum": "d8b9da34ee346fed9e6acff46e43290f",
     "grade": true,
     "grade_id": "cell-77f4b908283dc59e",
     "locked": true,
     "points": 1,
     "schema_version": 3,
     "solution": false,
     "task": false
    },
    "tags": [
     "DO NOT DELETE THIS CELL"
    ]
   },
   "outputs": [],
   "source": [
    "for a in (0.1, 2, 25, 100)\n",
    "    @assert Babylonian(a)[end] ≈ √a\n",
    "end"
   ]
  },
  {
   "cell_type": "markdown",
   "id": "97ecf3d5",
   "metadata": {
    "deletable": false,
    "editable": false,
    "nbgrader": {
     "cell_type": "markdown",
     "checksum": "20471e31714172100a30e506766fa405",
     "grade": false,
     "grade_id": "cell-7a56033a-6187-4ef7-bd2d-49c6ac180e59",
     "locked": true,
     "schema_version": 3,
     "solution": false,
     "task": false
    },
    "tags": [
     "DO NOT DELETE THIS CELL"
    ]
   },
   "source": [
    "2. Tracer l'erreur $|x_k-x_*|$ en fonction du rang $k$ pour $a=2$."
   ]
  },
  {
   "cell_type": "code",
   "execution_count": null,
   "id": "095a9ed7",
   "metadata": {
    "deletable": false,
    "nbgrader": {
     "cell_type": "code",
     "checksum": "17f0e7ccb6203b44b2482a12e25794f6",
     "grade": true,
     "grade_id": "cell-928ca89fac43223b",
     "locked": false,
     "points": 1,
     "schema_version": 3,
     "solution": true,
     "task": false
    },
    "tags": [
     "DO NOT DELETE THIS CELL"
    ]
   },
   "outputs": [],
   "source": [
    "# YOUR CODE HERE [⚠ DO NOT DELETE THIS CELL]\n",
    "error(\"No code provided\")"
   ]
  },
  {
   "cell_type": "markdown",
   "id": "0c8c90c0",
   "metadata": {
    "deletable": false,
    "editable": false,
    "nbgrader": {
     "cell_type": "markdown",
     "checksum": "f59de290563f53123a802f3206b57933",
     "grade": false,
     "grade_id": "cell-80c62b8f-a2df-4b65-aaef-028b23c3ff76",
     "locked": true,
     "schema_version": 3,
     "solution": false,
     "task": false
    },
    "tags": [
     "DO NOT DELETE THIS CELL"
    ]
   },
   "source": [
    "   L'idée de la suite de l'exercice est d'appliquer la fonction `Babylonian` définie plus haut à un argument `a` non pas de type `Float64` mais d'un nouveau type permettant d'estimer à la fois la valeur de $\\sqrt{a}$ mais également de la dérivée de $a\\mapsto\\sqrt{a}$ soit $\\frac{1}{2\\sqrt{a}}$. Pour cela, on introduit de nouveaux nombres qu'on appelle **nombres duaux**. Ceux-ci sont définis à l'instar des nombres complexes à partir de la définition d'un nombre particulier noté $\\varepsilon$ de sorte qu'un nombre dual s'écrit $x=a+b\\varepsilon$ avec $a$ et $b$ réels. En quelque sorte $\\varepsilon$ joue un rôle analogue au $i$ complexe à la différence que l'on pose ici $\\varepsilon^2=0$. L'objectif de tels nombres est d'être en mesure de stocker à la fois la valeur d'une fonction mais également sa dérivée en posant\n",
    "\n",
    "   <a id=\"fdual\"></a>\n",
    "   $$\n",
    "   \\tag{2}\n",
    "   f(a+b\\varepsilon)=f(a)+f'(a)b\\varepsilon\n",
    "   $$\n",
    "\n",
    "   ce qui entraîne que la dérivée en $a$ de $f$ peut être obtenue en récupérant la composante sur $\\varepsilon$ de $f(a+\\varepsilon)$ (i.e. en prenant $b=1$).\n",
    "\n",
    "   En pratique, il est donc nécessaire de redéfinir le comportement des fonctions usuelles en cohérence avec <a href=\"#fdual\">(2)</a>. Toutefois dans l'application actuelle, seules les opérations `+`, `-`, `*` et `/` seront nécessaires et donc devront être surchargées pour pouvoir prendre comme arguments des nombres duaux. En outre, il sera également nécessaire d'implémenter les fonctions `convert` pour convertir un réel en nombre dual et `promote_rule` pour exprimer le fait qu'en présence d'une opération impliquant deux nombres dont l'un est dual, les deux doivent d'abord être exprimés sous forme de nombres duaux avant de lancer l'opération. À noter que la surcharge des opérateurs et fonctions de base n'est possible que si ceux-ci sont explicitement importés à l'aide par exemple de `import Base: +, -, ...`. Il est également possible de définir la fonction `Base.show` de manière à ce que l'affichage d'un nombre dual ait explicitement la forme `a+bɛ`.\n",
    "\n",
    "   La surcharge des opérateurs s'exprime mathématiquement par\n",
    "   $$\n",
    "   \\begin{align*}\n",
    "   (a+b\\varepsilon)+(c+d\\varepsilon)&=(a+c)+(b+d)\\varepsilon\\\\\n",
    "   (a+b\\varepsilon)-(c+d\\varepsilon)&=(a-c)+(b-d)\\varepsilon\\\\\n",
    "   (a+b\\varepsilon)*(c+d\\varepsilon)&=ac+(bc+ad)\\varepsilon\\\\\n",
    "   (a+b\\varepsilon)/(c+d\\varepsilon)&=\\frac{a}{c}+\\frac{bc-ad}{c^2}\\varepsilon\n",
    "   \\end{align*}\n",
    "   $$\n",
    "\n",
    "   Alternativement à cette dernière opération, on peut aussi définir $\\mathrm{inv}(a+b\\varepsilon)=\\frac{1}{a}-\\frac{b}{a^2}\\varepsilon$ puis `u/v=u*inv(v)`.\n",
    "\n",
    "3. Étudier le `struct D` défini ci-dessous pour représenter un nombre dual ainsi que les lignes de code associées. Compléter les parties de code manquantes, à savoir les implémentations de `/` et `inv`.\n",
    "\n",
    "\n"
   ]
  },
  {
   "cell_type": "code",
   "execution_count": null,
   "id": "dbe4bc43",
   "metadata": {
    "deletable": false,
    "nbgrader": {
     "cell_type": "code",
     "checksum": "183880f20e70a01da3e345539b8ac68f",
     "grade": false,
     "grade_id": "cell-6a89a36f52efd269",
     "locked": false,
     "schema_version": 3,
     "solution": true,
     "task": false
    }
   },
   "outputs": [],
   "source": [
    "import Base: +, -, *, /, inv, isapprox, convert, promote_rule\n",
    "using LinearAlgebra\n",
    "\n",
    "struct D <: Number\n",
    "    f::Tuple{Float64, Float64}\n",
    "end\n",
    "D(a::Real, b::Real) = D((a, b))\n",
    "+(x::D, y::D) = D(x.f .+ y.f)\n",
    "-(x::D, y::D) = D(x.f .- y.f)\n",
    "*(x::D, y::D) = D(x.f[1]*y.f[1], x.f[2]*y.f[1] + x.f[1]*y.f[2])\n",
    "# YOUR CODE HERE [⚠ DO NOT DELETE THIS CELL]\n",
    "error(\"No code provided\")\n",
    "-(x::D) = D(.-(x.f))\n",
    "isapprox(x::D, y::D; kwargs...) = all(isapprox.(x.f, y.f ; kwargs...))\n",
    "convert(::Type{D}, x::Real) = D((x,zero(x)))\n",
    "promote_rule(::Type{D}, ::Type{<:Real}) = D\n",
    "Base.show(io::IO,x::D) = print(io,x.f[1],x.f[2]<0 ? \" - \" : \" + \",abs(x.f[2]),\" ε\")\n",
    "\n",
    "# Construction d'un nombre dual\n",
    "x = D(0.1, -1.6)"
   ]
  },
  {
   "cell_type": "markdown",
   "id": "fd793b83",
   "metadata": {
    "deletable": false,
    "editable": false,
    "nbgrader": {
     "cell_type": "markdown",
     "checksum": "94a1e5c1f1fdde8abb3dc06d6c00ce4d",
     "grade": false,
     "grade_id": "cell-d15dcf59-9eac-40fd-86ae-2a96c55e0f5d",
     "locked": true,
     "schema_version": 3,
     "solution": false,
     "task": false
    },
    "tags": [
     "DO NOT DELETE THIS CELL"
    ]
   },
   "source": [
    "4. Définir une instance du nombre `ɛ` (\\varepsilon puis touche TAB pour afficher ε), en d'autres termes le nombre `0+1ɛ` et effectuer quelques opérations pour vérifier les implémentations (utiliser la macro `@show` pour afficher un nombre dual), par exemple\n",
    "\n",
    "   ```julia\n",
    "   @show (1+2ɛ)*(3+4ɛ)\n",
    "   @show 1/(1+ɛ)\n",
    "   @show (1+2ɛ)/(2-ɛ)\n",
    "   ```"
   ]
  },
  {
   "cell_type": "code",
   "execution_count": null,
   "id": "b7b95770",
   "metadata": {
    "deletable": false,
    "nbgrader": {
     "cell_type": "code",
     "checksum": "aea6116350c7d6be12c59c9f175c5f36",
     "grade": true,
     "grade_id": "cell-ec62ba59865b5495",
     "locked": false,
     "points": 1,
     "schema_version": 3,
     "solution": true,
     "task": false
    },
    "tags": [
     "DO NOT DELETE THIS CELL"
    ]
   },
   "outputs": [],
   "source": [
    "# YOUR CODE HERE [⚠ DO NOT DELETE THIS CELL]\n",
    "error(\"No code provided\")"
   ]
  },
  {
   "cell_type": "code",
   "execution_count": null,
   "id": "437e8442",
   "metadata": {
    "deletable": false,
    "editable": false,
    "nbgrader": {
     "cell_type": "code",
     "checksum": "23b0889c859b253c25d2f90c021f8b24",
     "grade": true,
     "grade_id": "cell-c9da9f0b525d17d9",
     "locked": true,
     "points": 1,
     "schema_version": 3,
     "solution": false,
     "task": false
    },
    "tags": [
     "DO NOT DELETE THIS CELL"
    ]
   },
   "outputs": [],
   "source": [
    "@assert (1+2ɛ)*(3+4ɛ) == 3+10ɛ \"erreur\"\n",
    "@assert 1/(1+ɛ) == 1-ɛ \"erreur\"\n",
    "@assert (1+2ɛ)/(2-ɛ) == 1/2+5ɛ/4 \"erreur\"\n"
   ]
  },
  {
   "cell_type": "markdown",
   "id": "62fa612d",
   "metadata": {
    "deletable": false,
    "editable": false,
    "nbgrader": {
     "cell_type": "markdown",
     "checksum": "bc1c1bc4bf6242e276f03c6007e96582",
     "grade": false,
     "grade_id": "cell-1e376648-7bb7-4d15-bd41-f0e6d460f6b7",
     "locked": true,
     "schema_version": 3,
     "solution": false,
     "task": false
    },
    "tags": [
     "DO NOT DELETE THIS CELL"
    ]
   },
   "source": [
    "5. Exploiter la structure de nombre dual pour estimer la dérivée de la fonction racine à partir de la méthode babylonienne (en exploitant directement la fonction `Babylonian` sans la réécrire)."
   ]
  },
  {
   "cell_type": "code",
   "execution_count": null,
   "id": "30c55526",
   "metadata": {
    "deletable": false,
    "nbgrader": {
     "cell_type": "code",
     "checksum": "cec3a6f4d0ea3ea8896ce766961600be",
     "grade": false,
     "grade_id": "cell-b0b7e3c217eea6a2",
     "locked": false,
     "schema_version": 3,
     "solution": true,
     "task": false
    }
   },
   "outputs": [],
   "source": [
    "function derivative_sqrt(a; n = 10)\n",
    "    # YOUR CODE HERE [⚠ DO NOT DELETE THIS CELL]\n",
    "    error(\"No code provided\")\n",
    "end"
   ]
  },
  {
   "cell_type": "code",
   "execution_count": null,
   "id": "c2cab299",
   "metadata": {
    "deletable": false,
    "editable": false,
    "nbgrader": {
     "cell_type": "code",
     "checksum": "72be1af6a295d778f669ad1d2109661c",
     "grade": true,
     "grade_id": "cell-f3a9a91b390a3270",
     "locked": true,
     "points": 1,
     "schema_version": 3,
     "solution": false,
     "task": false
    },
    "tags": [
     "DO NOT DELETE THIS CELL"
    ]
   },
   "outputs": [],
   "source": [
    "for a in (0.1, 2, 25, 100)\n",
    "    @assert derivative_sqrt(a) ≈ 1/2√a\n",
    "end"
   ]
  },
  {
   "cell_type": "markdown",
   "id": "d109dc7a",
   "metadata": {
    "deletable": false,
    "editable": false,
    "nbgrader": {
     "cell_type": "markdown",
     "checksum": "f9b55e43c9ce9e20355149e0a707b503",
     "grade": false,
     "grade_id": "cell-0adbded5-a9a5-4a30-8fed-252e49345a36",
     "locked": true,
     "schema_version": 3,
     "solution": false,
     "task": false
    },
    "tags": [
     "DO NOT DELETE THIS CELL"
    ]
   },
   "source": [
    "6. Superposer sur un graphe la dérivée de la racine obtenue par la méthode babylonienne sur nombre dual et l'expression analytique."
   ]
  },
  {
   "cell_type": "code",
   "execution_count": null,
   "id": "24c36846",
   "metadata": {
    "deletable": false,
    "nbgrader": {
     "cell_type": "code",
     "checksum": "dbfa988b6ff6ae29b2bfc75d1f0e8be9",
     "grade": true,
     "grade_id": "cell-b10d808d11cb751d",
     "locked": false,
     "points": 1,
     "schema_version": 3,
     "solution": true,
     "task": false
    },
    "tags": [
     "DO NOT DELETE THIS CELL"
    ]
   },
   "outputs": [],
   "source": [
    "# YOUR CODE HERE [⚠ DO NOT DELETE THIS CELL]\n",
    "error(\"No code provided\")"
   ]
  },
  {
   "cell_type": "markdown",
   "id": "d288090f",
   "metadata": {
    "deletable": false,
    "editable": false,
    "nbgrader": {
     "cell_type": "markdown",
     "checksum": "381623237c608f99ab3bed8f7cd97ab4",
     "grade": false,
     "grade_id": "cell-016e380a-44de-489b-8699-ba81368414c0",
     "locked": true,
     "schema_version": 3,
     "solution": false,
     "task": false
    },
    "tags": [
     "DO NOT DELETE THIS CELL"
    ]
   },
   "source": [
    "7. Proposer une méthode analogue pour calculer la racine $p^\\textrm{ème}$ d'un nombre $a$ i.e. $\\sqrt[p]{a}$. Vérifier que la dérivée de la racine $p^\\textrm{ème}$ peut également être obtenue par exploitation des nombres duaux sans ligne de code supplémentaire."
   ]
  },
  {
   "cell_type": "code",
   "execution_count": null,
   "id": "e8e90b23",
   "metadata": {
    "deletable": false,
    "nbgrader": {
     "cell_type": "code",
     "checksum": "7481eaf29bd104fc2a8462642de351db",
     "grade": false,
     "grade_id": "cell-fe8183299ca40337",
     "locked": false,
     "schema_version": 3,
     "solution": true,
     "task": false
    }
   },
   "outputs": [],
   "source": [
    "function nthrt(a, p=2; x=1, n=100)\n",
    "    # YOUR CODE HERE [⚠ DO NOT DELETE THIS CELL]\n",
    "    error(\"No code provided\")\n",
    "end"
   ]
  },
  {
   "cell_type": "code",
   "execution_count": null,
   "id": "fc33ab1f",
   "metadata": {
    "deletable": false,
    "editable": false,
    "nbgrader": {
     "cell_type": "code",
     "checksum": "cb81c35f01ecec3ed67d5fb0c8478ac6",
     "grade": true,
     "grade_id": "cell-611b2e70df58e157",
     "locked": true,
     "points": 1,
     "schema_version": 3,
     "solution": false,
     "task": false
    },
    "tags": [
     "DO NOT DELETE THIS CELL"
    ]
   },
   "outputs": [],
   "source": [
    "for a in (0.1, 2, 25, 100), p in (2, 3, 5)\n",
    "    @assert nthrt(a+ε, p) ≈ a^(1/p) + a^(1/p-1)/p*ε  \"erreur pour (a,p)=($a,$p)\"\n",
    "end"
   ]
  },
  {
   "cell_type": "markdown",
   "id": "06b9ad64",
   "metadata": {
    "deletable": false,
    "editable": false,
    "nbgrader": {
     "cell_type": "markdown",
     "checksum": "2b21caa6a35fb4f77da7bbf3f3bfb07b",
     "grade": false,
     "grade_id": "cell-22512c38-ddf9-4a6c-9aaf-b3f6e47d1afe",
     "locked": true,
     "schema_version": 3,
     "solution": false,
     "task": false
    },
    "tags": [
     "DO NOT DELETE THIS CELL"
    ]
   },
   "source": [
    "--------------------\n",
    "--------------------\n",
    "--------------------"
   ]
  },
  {
   "cell_type": "markdown",
   "id": "b0e42447",
   "metadata": {
    "deletable": false,
    "editable": false,
    "nbgrader": {
     "cell_type": "markdown",
     "checksum": "9b8207618f5db6d5e859c52c5ed575ac",
     "grade": false,
     "grade_id": "cell-9a18c5cd-5cf4-439f-b031-4d67222a88d5",
     "locked": true,
     "schema_version": 3,
     "solution": false,
     "task": false
    },
    "tags": [
     "DO NOT DELETE THIS CELL"
    ]
   },
   "source": [
    "### <font color='orange'>[Exercice 3]</font> Extension de la différentiation automatique au second ordre et à plusieurs variables : application à une méthode des moindres carrés non linéaire\n",
    "\n",
    "L'objectif de cet exercice est d'étendre le concept de différentiation automatique au cas d'une fonction scalaire de plusieurs variables au second ordre, autrement dit de permettre le calcul du gradient et de la hessienne en $a$ de la fonction deux fois différentiable $f: Ω⊂\\mathbb{R}^N → \\mathbb{R}$.\n",
    "\n",
    "En partant de son développement de Taylor à l'ordre 2\n",
    "\n",
    "<a id=\"fvecdual\"></a>\n",
    "$$\n",
    "\\tag{3}\n",
    "x₀, \\varepsilon \\in \\mathbb{R}^N,\\quad\n",
    "f(x₀+\\varepsilon)=f(x₀)+∇f(x₀)^T\\varepsilon+\\frac{1}{2}\\varepsilon^T∇²f(x₀)\\varepsilon+ℴ(\\varepsilon²)\n",
    "\\quad\\textrm{avec}\\quad\n",
    "f(x₀)∈\\mathbb{R},\\,∇f(x₀)∈\\mathbb{R}^N,\\,∇²f(x₀)∈\\mathbb{R}^{N×N}\n",
    "$$\n",
    "\n",
    "on a l'idée d'introduire une nouvelle classe de nombres <u>scalaires</u> formés par un triplet constitué d'un scalaire $a$, d'un vecteur $b$ et d'une matrice carrée symétrique $c$ et d'écrire\n",
    "\n",
    "<a id=\"vecdual\"></a>\n",
    "$$\n",
    "\\tag{4}\n",
    "x=a+b^T\\varepsilon+\\frac{1}{2}\\mathrm{Tr}(cη)\n",
    "$$\n",
    "\n",
    "où $\\varepsilon$ et $η$ sont ici respectivement un vecteur de $\\mathbb{R}^N$ et une matrice de $\\mathbb{R}^{N×N}$ telles que $\\varepsilon\\varepsilon^T=η$, $η\\varepsilon=0$ et $η²=0$. On peut ainsi faire l'économie de $η$ dans <a href=\"#vecdual\">(4)</a> et réécrire tout nombre $x$ sous la forme\n",
    "\n",
    "<a id=\"vecdual2\"></a>\n",
    "$$\n",
    "\\tag{5}\n",
    "x=a+b^T\\varepsilon+\\frac{1}{2}\\varepsilon^Tc\\varepsilon\n",
    "$$\n",
    "\n",
    "Une telle famille de nombres est représentée ci-dessous par un `struct DD{N} <: Number` (où `N` permet de paramétriser ce nouveau type par la dimension $N$ et `<: Number` indique que le type dérive du type abstrait `Number` donnant un sens aux opérations usuelles) contenant les données membres `val`, `grad` et `hess` désignant respectivement $a$, $b$ et $c$ dans la décomposition <a href=\"#vecdual2\">(5)</a>. A noter que 3 constructeurs sont définis pour ce type\n",
    "\n",
    "- `DD(val, grad, hess)` définit un nombre `DD` à partir de ses 3 données membres `val`, `grad` et `hess`. Il n'est pas utile de préciser `N` car la dimension est déduite de `length(grad)`.\n",
    "\n",
    "- `DD(val, grad)` définit un nombre `DD` à partir de `val` et `grad` et fixe `hess` à la matrice nulle de dimension cohérente avec celle de `grad`.\n",
    "\n",
    "- `DD{N}(val)` définit un nombre `DD` à partir de `val` uniquement. Il est alors nécessaire de préciser dans la construction la valeur de `N` qui ne peut se déduire de `val`. `grad` et `hess` sont alors initialisés à des valeurs nulles de dimension cohérente avec `N`.\n",
    "\n",
    "\n",
    "Il est naturel de surcharger les opérateurs de base de la façon suivante\n",
    "\n",
    "$$\n",
    "\\begin{align*}\n",
    "\\left(a+b^T\\varepsilon+\\frac{1}{2}\\varepsilon^Tc\\varepsilon\\right)+\\left(a'+b'^T\\varepsilon+\\frac{1}{2}\\varepsilon^Tc'\\varepsilon\\right)&=(a+a')+(b+b')^T\\varepsilon+\\frac{1}{2}\\varepsilon^T(c+c')\\varepsilon\\\\\n",
    "\\left(a+b^T\\varepsilon+\\frac{1}{2}\\varepsilon^Tc\\varepsilon\\right)-\\left(a'+b'^T\\varepsilon+\\frac{1}{2}\\varepsilon^Tc'\\varepsilon\\right)&=(a-a')+(b-b')^T\\varepsilon+\\frac{1}{2}\\varepsilon^T(c-c')\\varepsilon\\\\\n",
    "\\left(a+b^T\\varepsilon+\\frac{1}{2}\\varepsilon^Tc\\varepsilon\\right)*\\left(a'+b'^T\\varepsilon+\\frac{1}{2}\\varepsilon^Tc'\\varepsilon\\right)&=(aa')+(ab'+a'b)^T\\varepsilon+\\frac{1}{2}\\varepsilon^T(ac'+a'c+bb'^T+b'b^T)\\varepsilon\n",
    "\\end{align*}\n",
    "$$\n",
    "\n",
    "On choisit par ailleurs de construire l'opérateur de division à partir de la définition préalable de la function d'inversion `inv`. Compléter le code de la fonction `inv(x::DD{N}) where {N}`.\n",
    "\n",
    "\n",
    "\n",
    "1. Établir à la main l'expression des données membres `val` et `grad` et fixe `hess` de l'inverse d'un nombre de type `DD{N}` par identification en écrivant que la mutiplication d'un nombre par son inverse correspond à `val=1`, `grad=0` et `hess=0`. Compléter la surcharge des opérateurs `-` et `*` ainsi que le code de la fonction `inv(x::DD{N}) where {N}`.\n",
    "    \n",
    "   Remarque : la syntaxe `where {N}` rappelle simplement que `N` est un paramètre qui sera remplacé à la compilation par la valeur voulue."
   ]
  },
  {
   "cell_type": "code",
   "execution_count": null,
   "id": "995fb215",
   "metadata": {
    "deletable": false,
    "nbgrader": {
     "cell_type": "code",
     "checksum": "4bf12a7a2ee37a0cfbe9a54da98ce180",
     "grade": false,
     "grade_id": "cell-78a0b02aad6fbf6e",
     "locked": false,
     "schema_version": 3,
     "solution": true,
     "task": false
    }
   },
   "outputs": [],
   "source": [
    "import Base: +, -, *, /, inv, conj, ==, convert, promote_rule\n",
    "\n",
    "struct DD{N} <: Number\n",
    "    val::Float64\n",
    "    grad::Vector{Float64}\n",
    "    hess::Symmetric{Float64, Matrix{Float64}}\n",
    "    DD(val::Real, grad, hess) = new{length(grad)}(val, grad, Symmetric(hess))\n",
    "    DD(val::Real, grad) = new{length(grad)}(val, grad, Symmetric(zeros(length(grad),length(grad))))\n",
    "    DD{N}(val::Real) where {N} = new{N}(val, zeros(N), Symmetric(zeros(N,N)))\n",
    "end\n",
    "val(x::DD{N}) where {N} = x.val\n",
    "grad(x::DD{N}) where {N} = x.grad\n",
    "hess(x::DD{N}) where {N} = x.hess\n",
    "conj(x::DD{N}) where {N} = DD(conj(x.val),conj(x.grad),conj(x.hess))\n",
    "+(x::DD{N}, y::DD{N}) where {N} = DD(x.val+y.val,x.grad+y.grad,x.hess+y.hess)\n",
    "# YOUR CODE HERE [⚠ DO NOT DELETE THIS CELL]\n",
    "error(\"No code provided\")\n",
    "/(x::DD{N}, y::DD{N}) where {N} = x*inv(y)\n",
    "==(x::DD{N}, y::DD{N}) where {N} = x.val == y.val && x.grad == y.grad && x.hess == y.hess\n",
    "convert(::Type{DD{N}}, x::Real) where {N} = DD{N}(x)\n",
    "promote_rule(::Type{DD{N}}, ::Type{<:Real}) where {N} = DD{N}\n",
    "Base.show(io::IO,x::DD{N}) where {N} = print(io,x.val,\" + \",x.grad,\"^T𝛆\",\" + ½ 𝛆^T\",x.hess,\"𝛆\")"
   ]
  },
  {
   "cell_type": "markdown",
   "id": "a2cf40c4",
   "metadata": {
    "deletable": false,
    "editable": false,
    "nbgrader": {
     "cell_type": "markdown",
     "checksum": "0a36ff9c58a9a0db071fcf73fafa2321",
     "grade": false,
     "grade_id": "cell-491c6d1c-dcdb-487b-bfb0-b7d65e4a7d40",
     "locked": true,
     "schema_version": 3,
     "solution": false,
     "task": false
    },
    "tags": [
     "DO NOT DELETE THIS CELL"
    ]
   },
   "source": [
    "En dimension $N=2$, on peut introduire les deux nombres\n",
    "\n",
    "   ```julia\n",
    "   εˣ = DD(0,[1,0])\n",
    "   εʸ = DD(0,[0,1])\n",
    "   ```\n",
    "\n",
    "Pour bien comprendre le fonctionnement de ces nombres, il peut être utile de vérifier à la main les calculs de `1+εˣ`, `1+εˣ+εʸ`, `(1+εˣ)*(2+3εʸ)` et `εˣ/(1+εˣ+εʸ)` contrôlés par les `@assert` ci-dessous. Par exemple\n",
    "\n",
    "$$\n",
    "ε^x ε^y=\\frac{1}{2} \\begin{pmatrix}ε^x \\\\ ε^y\\end{pmatrix}^T \\begin{pmatrix}0 & 1 \\\\ 1 & 0\\end{pmatrix}\\begin{pmatrix}ε^x \\\\ ε^y\\end{pmatrix}\n",
    "⟹\n",
    "\\left(0, \\begin{pmatrix}1 \\\\ 0\\end{pmatrix}, \\begin{pmatrix}0 & 0 \\\\ 0 & 0\\end{pmatrix}\\right)\n",
    "*\n",
    "\\left(0, \\begin{pmatrix}0 \\\\ 1\\end{pmatrix}, \\begin{pmatrix}0 & 0 \\\\ 0 & 0\\end{pmatrix}\\right)\n",
    "=\n",
    "\\left(0, \\begin{pmatrix}0 \\\\ 0\\end{pmatrix}, \\begin{pmatrix}0 & 1 \\\\ 1 & 0\\end{pmatrix}\\right)\n",
    "$$"
   ]
  },
  {
   "cell_type": "code",
   "execution_count": null,
   "id": "aea3d848",
   "metadata": {
    "deletable": false,
    "editable": false,
    "nbgrader": {
     "cell_type": "code",
     "checksum": "ab8bd70a3732f5b609ff500e10542b2a",
     "grade": true,
     "grade_id": "cell-5a988603b7fa060e",
     "locked": true,
     "points": 2,
     "schema_version": 3,
     "solution": false,
     "task": false
    },
    "tags": [
     "DO NOT DELETE THIS CELL"
    ]
   },
   "outputs": [],
   "source": [
    "εˣ = DD(0,[1,0])\n",
    "εʸ = DD(0,[0,1])\n",
    "@assert 1+εˣ == DD(1, [1, 0], zeros(2,2))\n",
    "@assert εˣ*εʸ == DD(0, [0, 0], [0  1; 1  0])\n",
    "@assert 1+2εˣ-3εʸ == DD(1, [2, -3], zeros(2,2))\n",
    "@assert (1+εˣ)*(2+3εʸ) == DD(2, [2, 3], [0  3; 3  0])\n",
    "@assert εˣ/(1+εˣ+εʸ) == DD(0, [1, 0], [-2 -1; -1  0])\n",
    ";"
   ]
  },
  {
   "cell_type": "markdown",
   "id": "84f22e70",
   "metadata": {
    "deletable": false,
    "editable": false,
    "nbgrader": {
     "cell_type": "markdown",
     "checksum": "c5e348c582f3a1475024d91fd0fec6d7",
     "grade": false,
     "grade_id": "cell-31840c89-2312-41d8-a03d-7c177b5469e7",
     "locked": true,
     "schema_version": 3,
     "solution": false,
     "task": false
    },
    "tags": [
     "DO NOT DELETE THIS CELL"
    ]
   },
   "source": [
    "2. Obtenir le gradient `gradf` et la hessienne `hessf` de $f(x,y)=\\frac{(x+2y)^2}{2}$ par différentiation automatique au point $(x_0,y_0)=(3,1)$. On pourra pour cela exploiter `f(x₀+εˣ, y₀+εʸ)`."
   ]
  },
  {
   "cell_type": "code",
   "execution_count": null,
   "id": "c81d1426",
   "metadata": {
    "deletable": false,
    "nbgrader": {
     "cell_type": "code",
     "checksum": "cb78a2e929c6c0eefd550f0b2943af7b",
     "grade": false,
     "grade_id": "cell-2d088f46ef4d79ed",
     "locked": false,
     "schema_version": 3,
     "solution": true,
     "task": false
    }
   },
   "outputs": [],
   "source": [
    "# YOUR CODE HERE [⚠ DO NOT DELETE THIS CELL]\n",
    "error(\"No code provided\")"
   ]
  },
  {
   "cell_type": "code",
   "execution_count": null,
   "id": "1a8d65e9",
   "metadata": {
    "deletable": false,
    "editable": false,
    "nbgrader": {
     "cell_type": "code",
     "checksum": "ecc16efaee3b30d1f8e107ff663de930",
     "grade": true,
     "grade_id": "cell-698e9647685c9b86",
     "locked": true,
     "points": 1,
     "schema_version": 3,
     "solution": false,
     "task": false
    },
    "tags": [
     "DO NOT DELETE THIS CELL"
    ]
   },
   "outputs": [],
   "source": [
    "@assert gradf == [5, 10]\n",
    "@assert hessf == [1 2; 2 4]"
   ]
  },
  {
   "cell_type": "markdown",
   "id": "605c3335",
   "metadata": {
    "deletable": false,
    "editable": false,
    "nbgrader": {
     "cell_type": "markdown",
     "checksum": "8f6befb9b20e0e25ea0690918615feb5",
     "grade": false,
     "grade_id": "cell-3a2ff72a-b821-47cd-9fe9-591df923b79a",
     "locked": true,
     "schema_version": 3,
     "solution": false,
     "task": false
    },
    "tags": [
     "DO NOT DELETE THIS CELL"
    ]
   },
   "source": [
    "3. Ecrire une fonction `opdiff` qui prend en argument une fonction scalaire `f` dépendant de plusieurs variables ainsi qu'un vecteur `x` et qui retourne le triplet `f(x), ∇f(x), ∇²f(x)`. Attention on suppose que la signature de `f` dépend explicitement de plusieurs variables scalaires `f(x₁, x₂, ..., xₙ)` plutôt que d'une variable vectorielle étant entendu que l'application sur un vecteur peut être réalisé grâce à l'opérateur \"splat\" `f(x...)`.\n",
    "\n",
    "    <details>\n",
    "        <summary>\n",
    "            <em><font color='gray'>Aide (cliquer pour afficher)</font></em>\n",
    "        </summary>\n",
    "    \n",
    "    - Se convaincre à partir de la question précédente que le calcul demandé résulte de celui de `f(x₁+ɛ₁, x₂+ɛ₂, ..., xₙ+ɛₙ)` où les `ɛᵢ` sont les composantes de la partie `grad` d'un nombre de type `DD` défini par \n",
    "        ```julia\n",
    "        ε = [DD(0,(1:n .== i)) for i in 1:n]\n",
    "        ```\n",
    "\n",
    "    - Visualiser ce que donne `ε` quand `n` vaut 3 par exemple.\n",
    "    </details>\n"
   ]
  },
  {
   "cell_type": "code",
   "execution_count": null,
   "id": "99fe38b2",
   "metadata": {
    "deletable": false,
    "nbgrader": {
     "cell_type": "code",
     "checksum": "d21ff80ace1ab3fb5d9772c8f8e1f734",
     "grade": false,
     "grade_id": "cell-f2c854bbd527fdc9",
     "locked": false,
     "schema_version": 3,
     "solution": true,
     "task": false
    }
   },
   "outputs": [],
   "source": [
    "function opdiff(f, x)\n",
    "    # YOUR CODE HERE [⚠ DO NOT DELETE THIS CELL]\n",
    "    error(\"No code provided\")\n",
    "end"
   ]
  },
  {
   "cell_type": "code",
   "execution_count": null,
   "id": "f0aefe30",
   "metadata": {
    "deletable": false,
    "editable": false,
    "nbgrader": {
     "cell_type": "code",
     "checksum": "2009326da19977594f55640f4b3c65c6",
     "grade": true,
     "grade_id": "cell-9b925d6c2e67b633",
     "locked": true,
     "points": 2,
     "schema_version": 3,
     "solution": false,
     "task": false
    },
    "tags": [
     "DO NOT DELETE THIS CELL"
    ]
   },
   "outputs": [],
   "source": [
    "@assert all(opdiff((x,y)->(x+2y)^2/2, [3,1]) == (12.5, [5, 10], [1 2; 2 4]))\n",
    "\n",
    "function test_diff(n)\n",
    "    a, b, c, X = rand(), rand(n), Symmetric(rand(n,n)), rand(n)\n",
    "    f(X...) = begin let a=a, b=b, c=c end ; V=collect(X) ; return a + b'*V + 1/2 * V'*c*V end\n",
    "    v, g, h = opdiff(f, X)\n",
    "    return all((v ≈ f(X...), g ≈ b + c*X, h ≈ c))\n",
    "end\n",
    "\n",
    "for n in (1, 10, 20)\n",
    "    @assert test_diff(n) \"erreur pour n=$n\"\n",
    "end"
   ]
  },
  {
   "cell_type": "markdown",
   "id": "a59ae048",
   "metadata": {
    "deletable": false,
    "editable": false,
    "nbgrader": {
     "cell_type": "markdown",
     "checksum": "5c59ff75e973be7d6ccf31e3a6634fe4",
     "grade": false,
     "grade_id": "cell-68370aa7-501a-4bbd-a427-e58f8a1b22b7",
     "locked": true,
     "schema_version": 3,
     "solution": false,
     "task": false
    },
    "tags": [
     "DO NOT DELETE THIS CELL"
    ]
   },
   "source": [
    "4. On souhaite maintenant réaliser un programme permettant de minimiser une fonction $J$ arbitraire dépendant de plusieurs variables\n",
    "\n",
    "   $$\n",
    "   \\min_{(p_1,\\ldots,p_n)\\in\\mathbb{R}^n} J(p_1,\\ldots,p_n)\n",
    "   $$\n",
    "\n",
    "   On suppose que le problème revient à chercher un vecteur de paramètres annulant son gradient par la méthode de Newton-Raphson. Autrement dit à chaque étape il est nécessaire d'évaluer le gradient ainsi que la hessienne de $J$\n",
    "   \n",
    "   $$\n",
    "   p^{k+1}=p^{k}-∇²J(p^{k})^{-1}∇J(p^{k})\n",
    "   $$\n",
    "   \n",
    "   Écrire une fonction générique `minimizer` prenant comme entrées une fonction `J`, un vecteur de paramètres initiaux `p`, un nombre maximal d'itérations `maxiter` (par défaut `100`)  et un paramètre d'arrêt `ϵ` (par défaut `1.e-15`). On considérera un algorithme de Newton-Raphson dans lequel les opérateurs différentiels sont calculés par différentiation automatique et on prendra un critère d'arrêt $\\lVert ∇J(p^{k})\\rVert<ϵ$. Il pourra être judicieux à des fins de débogage d'introduire un argument supplémentaire booléen appelé `verbose` qui, s'il est égal à `true`, implique l'affichage de valeurs intermédiaires du code (les informations à afficher sont naturellement à coder dans `minimizer` dans une séquence de type `if verbose println(...) end`)."
   ]
  },
  {
   "cell_type": "code",
   "execution_count": null,
   "id": "b81d8ee9",
   "metadata": {
    "deletable": false,
    "nbgrader": {
     "cell_type": "code",
     "checksum": "dfcefc2727d0218913f18ac05894328c",
     "grade": true,
     "grade_id": "cell-0730955b1e187162",
     "locked": false,
     "points": 2,
     "schema_version": 3,
     "solution": true,
     "task": false
    },
    "tags": [
     "DO NOT DELETE THIS CELL"
    ]
   },
   "outputs": [],
   "source": [
    "function minimizer(J::Function, p, maxiter = 100; ϵ = 1.e-15, verbose = true)\n",
    "    # YOUR CODE HERE [⚠ DO NOT DELETE THIS CELL]\n",
    "    error(\"No code provided\")\n",
    "    return \"Failed to converge!\"\n",
    "end"
   ]
  },
  {
   "cell_type": "markdown",
   "id": "be9378cc",
   "metadata": {
    "deletable": false,
    "editable": false,
    "nbgrader": {
     "cell_type": "markdown",
     "checksum": "1f246cb9218b7bac6efb8cf1458142b1",
     "grade": false,
     "grade_id": "cell-c29adcf1-f104-4b0d-8ccc-7ebe298957dd",
     "locked": true,
     "schema_version": 3,
     "solution": false,
     "task": false
    },
    "tags": [
     "DO NOT DELETE THIS CELL"
    ]
   },
   "source": [
    "5. Application n°1.\n",
    "\n",
    "   On dispose de $n$ points $(x_i, y_i)$ d'une fonction inconnue $y = f(x)$.\n",
    "   \n",
    "   ```julia\n",
    "   x = [0.0; 0.1; 0.2; 0.3; 0.4; 0.5; 0.6; 0.7; 0.8; 0.9; 1.0]\n",
    "   y = [0.6761488864859304; 0.6345697680852508; 0.6396283580587062; 0.6132010027973919;\n",
    "      0.5906142598705267; 0.5718728461471725; 0.5524549902830562; 0.538938885654085;\n",
    "      0.5373495476994958; 0.514904589752926; 0.49243437874655027]\n",
    "   ```\n",
    "   \n",
    "   On souhaite approximer $f$ par une fonction de la forme\n",
    "\n",
    "   $$\n",
    "   \\widetilde f(x) = \\frac{a}{b + x}\n",
    "   $$\n",
    "   en minimisant\n",
    "   $$\n",
    "   \\sum_{i=1}^{n} |\\widetilde f(x_i) - y_i|^2\n",
    "   $$\n",
    "\n",
    "   Écrire un code formant la fonction à minimiser et appliquer `minimizer` pour obtenir la meilleure approximation $\\widetilde f$. Tracer sur le même graphe les points donnés et la fonction approximante."
   ]
  },
  {
   "cell_type": "code",
   "execution_count": null,
   "id": "4fd6ffc8",
   "metadata": {
    "deletable": false,
    "nbgrader": {
     "cell_type": "code",
     "checksum": "cff5ab92369a30db349bf09963bbbef1",
     "grade": true,
     "grade_id": "cell-b2240ddd33e2b10b",
     "locked": false,
     "points": 1,
     "schema_version": 3,
     "solution": true,
     "task": false
    },
    "tags": [
     "DO NOT DELETE THIS CELL"
    ]
   },
   "outputs": [],
   "source": [
    "x = [0.0; 0.1; 0.2; 0.3; 0.4; 0.5; 0.6; 0.7; 0.8; 0.9; 1.0]\n",
    "y = [0.6761488864859304; 0.6345697680852508; 0.6396283580587062; 0.6132010027973919;\n",
    "     0.5906142598705267; 0.5718728461471725; 0.5524549902830562; 0.538938885654085;\n",
    "     0.5373495476994958; 0.514904589752926; 0.49243437874655027]\n",
    "# YOUR CODE HERE [⚠ DO NOT DELETE THIS CELL]\n",
    "error(\"No code provided\")"
   ]
  },
  {
   "cell_type": "markdown",
   "id": "5d93bffe",
   "metadata": {
    "deletable": false,
    "editable": false,
    "nbgrader": {
     "cell_type": "markdown",
     "checksum": "a7107ee94d879d505b3053fa35745497",
     "grade": false,
     "grade_id": "cell-60e4ddbf-4cbf-47f4-81d9-8f52a28c2956",
     "locked": true,
     "schema_version": 3,
     "solution": false,
     "task": false
    },
    "tags": [
     "DO NOT DELETE THIS CELL"
    ]
   },
   "source": [
    "6. Application n°2.\n",
    "\n",
    "   On se donne $n$ nouveaux points $(x_i, y_i)$ d'une fonction inconnue $y = f(x)$\n",
    "   \n",
    "    ```julia\n",
    "   x = [0.0; 0.1; 0.2; 0.3; 0.4; 0.5; 0.6; 0.7; 0.8; 0.9; 1.0]\n",
    "   y = [-0.9187980789440975; -0.6159791344678258; -0.25568734869121856;\n",
    "      -0.14269370171581808; 0.3094396057228459; 0.6318327173549161;\n",
    "      0.8370437988106428; 1.0970402798788812; 1.6057799131867696;\n",
    "      1.869090784869698; 2.075369730726694]\n",
    "   ```  \n",
    "   \n",
    "   et on souhaite approximer $f$ par une fonction affine\n",
    "\n",
    "   $$\n",
    "   \\widetilde f(x) = ax+b\n",
    "   $$\n",
    "\n",
    "   en minimisant la somme des distances euclidiennes entre les points et la droite définie par $\\widetilde f$. Etant donné que la distance entre un point $(x_i,y_i)$ et la ligne droite est donnée par\n",
    "\n",
    "   $$\n",
    "   \\frac{\\lvert y_i - a x_i - b \\rvert}{\\sqrt{1+a^2}}\n",
    "   $$\n",
    "\n",
    "   la fonction objectif à minimiser s'écrit\n",
    "\n",
    "   $$\n",
    "   J(a, b) := \\sum_{i=1}^{n} \\frac{ \\left( y_i - a x_i - b \\right)^2 }{1+a^2}\n",
    "   $$\n",
    "\n",
    "   Trouver les paramètres optimaux $a$ et $b$ à l'aide de `minimizer` et tracer la droite ainsi que les points."
   ]
  },
  {
   "cell_type": "code",
   "execution_count": null,
   "id": "9c580d22",
   "metadata": {
    "deletable": false,
    "nbgrader": {
     "cell_type": "code",
     "checksum": "273cb8621e305c3c6d662d85a2c427d1",
     "grade": true,
     "grade_id": "cell-d8303bd982f098ed",
     "locked": false,
     "points": 1,
     "schema_version": 3,
     "solution": true,
     "task": false
    },
    "tags": [
     "DO NOT DELETE THIS CELL"
    ]
   },
   "outputs": [],
   "source": [
    "x = [0.0; 0.1; 0.2; 0.3; 0.4; 0.5; 0.6; 0.7; 0.8; 0.9; 1.0]\n",
    "y = [-0.9187980789440975; -0.6159791344678258; -0.25568734869121856;\n",
    "     -0.14269370171581808; 0.3094396057228459; 0.6318327173549161;\n",
    "     0.8370437988106428; 1.0970402798788812; 1.6057799131867696;\n",
    "     1.869090784869698; 2.075369730726694]\n",
    "# YOUR CODE HERE [⚠ DO NOT DELETE THIS CELL]\n",
    "error(\"No code provided\")"
   ]
  }
 ],
 "metadata": {
  "citation-manager": {
   "items": {}
  },
  "jupytext": {
   "encoding": "# -*- coding: utf-8 -*-"
  },
  "kernelspec": {
   "display_name": "Julia 1.11.5",
   "language": "julia",
   "name": "julia-1.11"
  },
  "language_info": {
   "file_extension": ".jl",
   "mimetype": "application/julia",
   "name": "julia",
   "version": "1.10.3"
  }
 },
 "nbformat": 4,
 "nbformat_minor": 5
}
