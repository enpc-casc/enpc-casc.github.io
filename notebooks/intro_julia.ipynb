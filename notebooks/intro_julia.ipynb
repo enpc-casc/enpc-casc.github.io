{
 "cells": [
  {
   "cell_type": "markdown",
   "id": "6ca75854",
   "metadata": {
    "deletable": false,
    "editable": false,
    "nbgrader": {
     "cell_type": "markdown",
     "checksum": "7fed134749c7f97f752db58234b409d9",
     "grade": false,
     "grade_id": "cell-e4f9a84ea7547eac",
     "locked": true,
     "schema_version": 3,
     "solution": false,
     "task": false
    }
   },
   "source": [
    "# Cours ENPC - Pratique du calcul scientifique"
   ]
  },
  {
   "cell_type": "markdown",
   "id": "7b79c967",
   "metadata": {
    "deletable": false,
    "editable": false,
    "nbgrader": {
     "cell_type": "markdown",
     "checksum": "7d3c8dffa9b4930efeb5dab43214a810",
     "grade": false,
     "grade_id": "cell-fd8fe66990449d77",
     "locked": true,
     "schema_version": 3,
     "solution": false,
     "task": false
    },
    "slideshow": {
     "slide_type": ""
    },
    "tags": []
   },
   "source": [
    "#### Instructions:\n",
    "\n",
    "- Before you turn in this assignment, make sure everything runs as expected. To check this, **restart VS Code** and then **run all cells**.\n",
    "\n",
    "- <mark style=\"color: red;\">\n",
    "    Most of the exercises in this notebook will be graded automatically.\n",
    "    You may modify the content of existing cells and add new cells.\n",
    "    However, to ensure smooth automatic grading,\n",
    "    <strong>do not remove or alter the metadata of the cells given,</strong>\n",
    "    especially those requiring your input. </mark>\n",
    "\n",
    "- Make sure you fill in any place that says `YOUR CODE HERE` or `YOUR ANSWER HERE`, as well as your name below:"
   ]
  },
  {
   "cell_type": "code",
   "execution_count": null,
   "id": "c77e2552",
   "metadata": {
    "deletable": false,
    "editable": true,
    "slideshow": {
     "slide_type": ""
    },
    "tags": []
   },
   "outputs": [],
   "source": [
    "NAME = \"Prénom Nom\"\n",
    "\n",
    "# By submitting the notebook, you agree with the following sentence\n",
    "println(\"I certify that this notebook is the result of my own independent work. Signed: $NAME\")"
   ]
  },
  {
   "cell_type": "markdown",
   "id": "0802e67b",
   "metadata": {
    "deletable": false,
    "editable": false,
    "nbgrader": {
     "cell_type": "markdown",
     "checksum": "0ae456611e9bc2f24d4db79ae054093d",
     "grade": false,
     "grade_id": "cell-91e09a76-c3d6-4304-877f-4637f844871b",
     "locked": true,
     "schema_version": 3,
     "solution": false,
     "task": false
    },
    "slideshow": {
     "slide_type": ""
    },
    "tags": [
     "DO NOT DELETE THIS CELL"
    ]
   },
   "source": [
    "## Week 1: Introduction to Julia"
   ]
  },
  {
   "cell_type": "code",
   "execution_count": null,
   "id": "9c6987bb",
   "metadata": {},
   "outputs": [],
   "source": [
    "using Plots\n",
    "using LaTeXStrings"
   ]
  },
  {
   "cell_type": "markdown",
   "id": "4d5154dc",
   "metadata": {
    "deletable": false,
    "editable": false,
    "jp-MarkdownHeadingCollapsed": true,
    "nbgrader": {
     "cell_type": "markdown",
     "checksum": "7002ad5dc79279e7ccbcd3b78a0a02c2",
     "grade": false,
     "grade_id": "cell-ce18f9a0-f378-4970-bd09-5a1ca41f5da8",
     "locked": true,
     "schema_version": 3,
     "solution": false,
     "task": false
    },
    "tags": [
     "DO NOT DELETE THIS CELL"
    ]
   },
   "source": [
    "### <font color='green'>Understanding the output of Jupyter cells</font>"
   ]
  },
  {
   "cell_type": "markdown",
   "id": "a4fa18aa",
   "metadata": {
    "deletable": false,
    "editable": false,
    "nbgrader": {
     "cell_type": "markdown",
     "checksum": "e03532fd8c17ab13d8b9d1fc1325b62a",
     "grade": false,
     "grade_id": "cell-80fc1fcf-94bc-49fb-80f4-75de614e6536",
     "locked": true,
     "schema_version": 3,
     "solution": false,
     "task": false
    },
    "tags": [
     "DO NOT DELETE THIS CELL"
    ]
   },
   "source": [
    "- The output of a series of Julia commands is the last expression:"
   ]
  },
  {
   "cell_type": "code",
   "execution_count": null,
   "id": "56ed9d55",
   "metadata": {},
   "outputs": [],
   "source": [
    "# Jupyter will display the result of `a + b` after running the cell\n",
    "\n",
    "a = 5\n",
    "b = 4\n",
    "c = a + b"
   ]
  },
  {
   "cell_type": "markdown",
   "id": "b9cb8ce9",
   "metadata": {
    "deletable": false,
    "editable": false,
    "nbgrader": {
     "cell_type": "markdown",
     "checksum": "4bdfdb5e4e61215e8a9ac4d50a5af0fd",
     "grade": false,
     "grade_id": "cell-72362807-20a5-4728-8818-1ec5a464a47b",
     "locked": true,
     "schema_version": 3,
     "solution": false,
     "task": false
    },
    "tags": [
     "DO NOT DELETE THIS CELL"
    ]
   },
   "source": [
    "- Using `;` at the end of a command suppresses output"
   ]
  },
  {
   "cell_type": "code",
   "execution_count": null,
   "id": "d489cf26",
   "metadata": {},
   "outputs": [],
   "source": [
    "# Jupyter will not display anything\n",
    "\n",
    "a = 5\n",
    "b = 4\n",
    "a + b;"
   ]
  },
  {
   "cell_type": "markdown",
   "id": "f35d95ce",
   "metadata": {
    "deletable": false,
    "editable": false,
    "nbgrader": {
     "cell_type": "markdown",
     "checksum": "03a50268ed5c861b6dfc46cee3939ba6",
     "grade": false,
     "grade_id": "cell-6e675541-a40a-40cd-baeb-29d6bc689cdb",
     "locked": true,
     "schema_version": 3,
     "solution": false,
     "task": false
    },
    "tags": [
     "DO NOT DELETE THIS CELL"
    ]
   },
   "source": [
    "- This holds also for plots. Compare the following two situations:"
   ]
  },
  {
   "cell_type": "code",
   "execution_count": null,
   "id": "782a8010",
   "metadata": {},
   "outputs": [],
   "source": [
    "plot(cos)"
   ]
  },
  {
   "cell_type": "code",
   "execution_count": null,
   "id": "4a4da177",
   "metadata": {},
   "outputs": [],
   "source": [
    "plot(sin);"
   ]
  },
  {
   "cell_type": "markdown",
   "id": "733de2f7",
   "metadata": {
    "deletable": false,
    "editable": false,
    "nbgrader": {
     "cell_type": "markdown",
     "checksum": "9a9e5648f524aa658ec30ae2d2f2a1a8",
     "grade": false,
     "grade_id": "cell-0eecccc2-13c0-4ad6-ba1b-32313d4bb35f",
     "locked": true,
     "schema_version": 3,
     "solution": false,
     "task": false
    },
    "tags": [
     "DO NOT DELETE THIS CELL"
    ]
   },
   "source": [
    "- You can also use `@show` or `print`:"
   ]
  },
  {
   "cell_type": "code",
   "execution_count": null,
   "id": "d06a5ea8",
   "metadata": {},
   "outputs": [],
   "source": [
    "a = 5\n",
    "b = 4\n",
    "@show a\n",
    "println(b)\n",
    "a + b"
   ]
  },
  {
   "cell_type": "markdown",
   "id": "e56d4083",
   "metadata": {
    "deletable": false,
    "editable": false,
    "jp-MarkdownHeadingCollapsed": true,
    "nbgrader": {
     "cell_type": "markdown",
     "checksum": "86b503c3c9b686955b1ac177a3696d2e",
     "grade": false,
     "grade_id": "cell-3148cf72-aaca-48d8-ad45-445936bc027e",
     "locked": true,
     "schema_version": 3,
     "solution": false,
     "task": false
    },
    "tags": [
     "DO NOT DELETE THIS CELL"
    ]
   },
   "source": [
    "### <font color='green'>Manipulation of strings</font>"
   ]
  },
  {
   "cell_type": "markdown",
   "id": "3a5b2b8e",
   "metadata": {
    "deletable": false,
    "editable": false,
    "nbgrader": {
     "cell_type": "markdown",
     "checksum": "0a201c660c28daad9287d71026b5e88e",
     "grade": false,
     "grade_id": "cell-6f59cbdf-c740-4cd4-8d76-1f122806c980",
     "locked": true,
     "schema_version": 3,
     "solution": false,
     "task": false
    },
    "tags": [
     "DO NOT DELETE THIS CELL"
    ]
   },
   "source": [
    "- Strings are defined in Julia between double quotes `\"`. In contrast with Python, single quote `'` are used for single characters only."
   ]
  },
  {
   "cell_type": "code",
   "execution_count": null,
   "id": "5a17590c",
   "metadata": {},
   "outputs": [],
   "source": [
    "s = \"Hello world!\""
   ]
  },
  {
   "cell_type": "code",
   "execution_count": null,
   "id": "fd39da73",
   "metadata": {},
   "outputs": [],
   "source": [
    "'o' ∈ s # ∈ is an alias for in"
   ]
  },
  {
   "cell_type": "markdown",
   "id": "5b9611bc",
   "metadata": {
    "deletable": false,
    "editable": false,
    "nbgrader": {
     "cell_type": "markdown",
     "checksum": "dcb0652465e6516a61b02dc191d92303",
     "grade": false,
     "grade_id": "cell-1b3f8e70-af5c-4084-8e1b-98f77a110154",
     "locked": true,
     "schema_version": 3,
     "solution": false,
     "task": false
    },
    "tags": [
     "DO NOT DELETE THIS CELL"
    ]
   },
   "source": [
    "- Unlike many other languages using `+`, Julia uses `*` for string concatenation. The idea is to emphasize the non-commutativity of this operation"
   ]
  },
  {
   "cell_type": "code",
   "execution_count": null,
   "id": "229b4bd7",
   "metadata": {},
   "outputs": [],
   "source": [
    "s1 = \"Hello \" ; s2 = \"world!\"\n",
    "s = s1 * s2\n",
    "println(s)"
   ]
  },
  {
   "cell_type": "code",
   "execution_count": null,
   "id": "b25b79e7",
   "metadata": {},
   "outputs": [],
   "source": [
    "print(s1^5)"
   ]
  },
  {
   "cell_type": "markdown",
   "id": "2d5314f4",
   "metadata": {
    "deletable": false,
    "editable": false,
    "nbgrader": {
     "cell_type": "markdown",
     "checksum": "fb8df22fc4098fc592e27817008e696f",
     "grade": false,
     "grade_id": "cell-efc91f9f-928c-486e-a8ee-cf2f6d492e7f",
     "locked": true,
     "schema_version": 3,
     "solution": false,
     "task": false
    },
    "tags": [
     "DO NOT DELETE THIS CELL"
    ]
   },
   "source": [
    "- Interpolation within a string can be obtained using `$`"
   ]
  },
  {
   "cell_type": "code",
   "execution_count": null,
   "id": "4eef13ac",
   "metadata": {},
   "outputs": [],
   "source": [
    "col = \"red\" ; x = 20_000 ; discount = 5\n",
    "s = \"My $col car cost $(x*(1-discount/100)) €\"\n",
    "print(s)"
   ]
  },
  {
   "cell_type": "code",
   "execution_count": null,
   "id": "9fe3d3cb",
   "metadata": {},
   "outputs": [],
   "source": [
    "s = \"Hello world!\"\n",
    "ordinal_suffix(i) = i == 1 ? \"st\" : i == 2 ? \"nd\" : \"th\"\n",
    "for (i, c) ∈ enumerate(s) \n",
    "    println(\"The character at $i$(ordinal_suffix(i)) place is $c\") \n",
    "end"
   ]
  },
  {
   "cell_type": "markdown",
   "id": "badd430d",
   "metadata": {
    "deletable": false,
    "editable": false,
    "nbgrader": {
     "cell_type": "markdown",
     "checksum": "aa7319b492971bf0c9dea153a10eb91d",
     "grade": false,
     "grade_id": "cell-c4e5e826-3d7a-421e-b4b4-06063a40cf9f",
     "locked": true,
     "schema_version": 3,
     "solution": false,
     "task": false
    },
    "tags": [
     "DO NOT DELETE THIS CELL"
    ]
   },
   "source": [
    "> Note that LaTeX strings can be built thanks to the [LaTeXStrings](https://github.com/JuliaStrings/LaTeXStrings.jl) package, imported above and used further in this notebook."
   ]
  },
  {
   "cell_type": "markdown",
   "id": "f2b9e180",
   "metadata": {
    "deletable": false,
    "editable": false,
    "jp-MarkdownHeadingCollapsed": true,
    "nbgrader": {
     "cell_type": "markdown",
     "checksum": "8ad0ecf1d329043fa576794f3be52845",
     "grade": false,
     "grade_id": "cell-ac2c72ae-14df-42b2-b348-99bc3cd90c40",
     "locked": true,
     "schema_version": 3,
     "solution": false,
     "task": false
    },
    "tags": [
     "DO NOT DELETE THIS CELL"
    ]
   },
   "source": [
    "### <font color='green'>Using and defining functions</font>"
   ]
  },
  {
   "cell_type": "markdown",
   "id": "ff7a3770",
   "metadata": {
    "deletable": false,
    "editable": false,
    "nbgrader": {
     "cell_type": "markdown",
     "checksum": "545163cf8c40c2bb090d84bd372ba89c",
     "grade": false,
     "grade_id": "cell-75c3c0c9-8b65-437e-aaed-51b1c664c341",
     "locked": true,
     "schema_version": 3,
     "solution": false,
     "task": false
    },
    "tags": [
     "DO NOT DELETE THIS CELL"
    ]
   },
   "source": [
    "#### <font color='orange'>[Exercise 1]</font>\n",
    "Write a function that returns the sum of the `n` first integers using a `for` loop.\n",
    "\n",
    "> *Hints:*\n",
    ">  - read the documentation of `function` (open a REPL and type `?` followed by the searched word, here `function`),\n",
    ">  - a range of integers from `m` to `n` simply writes `m:n` <mark>(unlike Python bounds are included here in the range)</mark>."
   ]
  },
  {
   "cell_type": "code",
   "execution_count": null,
   "id": "23eb9ca0",
   "metadata": {
    "deletable": false,
    "nbgrader": {
     "cell_type": "code",
     "checksum": "0c0fa79174c18f27f0ac3ef8716c1ec1",
     "grade": false,
     "grade_id": "squares",
     "locked": false,
     "schema_version": 3,
     "solution": true,
     "task": false
    },
    "tags": [
     "DO NOT DELETE THIS CELL"
    ]
   },
   "outputs": [],
   "source": [
    "function sum_of_squares(n)\n",
    "    # YOUR CODE HERE [⚠ DO NOT DELETE THIS CELL]\n",
    "    throw(ErrorException(\"No code provided\"))\n",
    "end;"
   ]
  },
  {
   "cell_type": "code",
   "execution_count": null,
   "id": "7e1fc4c1",
   "metadata": {
    "deletable": false,
    "editable": false,
    "nbgrader": {
     "cell_type": "code",
     "checksum": "6278da9ae56e04c3039137ec9340566b",
     "grade": true,
     "grade_id": "squares-tests",
     "locked": true,
     "points": 2,
     "schema_version": 3,
     "solution": false,
     "task": false
    },
    "tags": [
     "DO NOT DELETE THIS CELL"
    ]
   },
   "outputs": [],
   "source": [
    "@assert sum_of_squares(1) == 1 \"❌\"\n",
    "@assert sum_of_squares(2) == 5 \"❌\"\n",
    "@assert sum_of_squares(5) == 55 \"❌\"\n",
    "@assert sum_of_squares(10) == 385 \"❌\""
   ]
  },
  {
   "cell_type": "markdown",
   "id": "3b4506b6",
   "metadata": {
    "deletable": false,
    "editable": false,
    "nbgrader": {
     "cell_type": "markdown",
     "checksum": "b471f0405ffe604cccc0ef5f15a03dad",
     "grade": false,
     "grade_id": "cell-7710a863-3b6b-4ada-b6ed-78712a5fff5c",
     "locked": true,
     "schema_version": 3,
     "solution": false,
     "task": false
    },
    "tags": [
     "DO NOT DELETE THIS CELL"
    ]
   },
   "source": [
    "**Remarks:**\n",
    "- The same function can be written in short form"
   ]
  },
  {
   "cell_type": "code",
   "execution_count": null,
   "id": "ef6f5a97",
   "metadata": {},
   "outputs": [],
   "source": [
    "short_sum_of_squares(n) = (1:n)'*(1:n)\n",
    "\n",
    "@show short_sum_of_squares(2)\n",
    "@show short_sum_of_squares(4);"
   ]
  },
  {
   "cell_type": "markdown",
   "id": "d9d8d43d",
   "metadata": {
    "deletable": false,
    "editable": false,
    "nbgrader": {
     "cell_type": "markdown",
     "checksum": "30d4a15ba542f9efe92c5c1099058cc8",
     "grade": false,
     "grade_id": "cell-d709ba6f-aa9c-420f-98f8-e4eaa47606b2",
     "locked": true,
     "schema_version": 3,
     "solution": false,
     "task": false
    },
    "tags": [
     "DO NOT DELETE THIS CELL"
    ]
   },
   "source": [
    "- Read the documentation of the function `sum` to understand why the following code also works."
   ]
  },
  {
   "cell_type": "code",
   "execution_count": null,
   "id": "2360b01d",
   "metadata": {},
   "outputs": [],
   "source": [
    "other_sum_of_squares(n) = sum(x -> x^2, 1:n)\n",
    "\n",
    "@show other_sum_of_squares(2)\n",
    "@show other_sum_of_squares(4);"
   ]
  },
  {
   "cell_type": "markdown",
   "id": "a592f7d7",
   "metadata": {
    "deletable": false,
    "editable": false,
    "nbgrader": {
     "cell_type": "markdown",
     "checksum": "7d05dbcecbeb4e5feb8104fe84317117",
     "grade": false,
     "grade_id": "cell-10196c18-8fbe-4c1d-8180-aabdad71c339",
     "locked": true,
     "schema_version": 3,
     "solution": false,
     "task": false
    },
    "tags": [
     "DO NOT DELETE THIS CELL"
    ]
   },
   "source": [
    "- The function can be applied elementwise to an array by using the broadcasting operator `.`"
   ]
  },
  {
   "cell_type": "code",
   "execution_count": null,
   "id": "2066d309",
   "metadata": {},
   "outputs": [],
   "source": [
    "@show short_sum_of_squares.([2, 4, 5])\n",
    "\n",
    "# The above command is syntactic sugar for\n",
    "@show broadcast(short_sum_of_squares, [2, 4, 5]);"
   ]
  },
  {
   "cell_type": "markdown",
   "id": "b6587d98",
   "metadata": {
    "deletable": false,
    "editable": false,
    "nbgrader": {
     "cell_type": "markdown",
     "checksum": "8d7b8e615323c98a95de824ca6c12173",
     "grade": false,
     "grade_id": "cell-462fd02f-dfba-4bcd-9369-724be4e75aaf",
     "locked": true,
     "schema_version": 3,
     "solution": false,
     "task": false
    },
    "tags": [
     "DO NOT DELETE THIS CELL"
    ]
   },
   "source": [
    "- Broadcasting works even for functions with multiple arguments"
   ]
  },
  {
   "cell_type": "code",
   "execution_count": null,
   "id": "6011e7a2",
   "metadata": {},
   "outputs": [],
   "source": [
    "geometric_mean(a, b) = √(a*b)\n",
    "@show geometric_mean.(2, [8, 18]);"
   ]
  },
  {
   "cell_type": "markdown",
   "id": "eaf41874",
   "metadata": {
    "deletable": false,
    "editable": false,
    "nbgrader": {
     "cell_type": "markdown",
     "checksum": "f30e206e7d4cf09a36e99741ea9b6ddf",
     "grade": false,
     "grade_id": "cell-4d5ec390-a9d0-47bd-ac26-1d86723bace9",
     "locked": true,
     "schema_version": 3,
     "solution": false,
     "task": false
    },
    "tags": [
     "DO NOT DELETE THIS CELL"
    ]
   },
   "source": [
    "- Sometimes, it is convenient to define *anonymous* functions with the `->` notation:"
   ]
  },
  {
   "cell_type": "code",
   "execution_count": null,
   "id": "fc349cbb",
   "metadata": {},
   "outputs": [],
   "source": [
    "# Plot the sum of cubes for different n\n",
    "scatter(n -> sum(x -> x^3, 1:n), 1:5, label=\"sum of cubes\")"
   ]
  },
  {
   "cell_type": "markdown",
   "id": "5e71b0d9",
   "metadata": {
    "deletable": false,
    "editable": false,
    "nbgrader": {
     "cell_type": "markdown",
     "checksum": "107dd52b0499cc934f43dfd2dcb3776a",
     "grade": false,
     "grade_id": "cell-1a1a11cf-199b-4117-adb9-1f67a0ce8619",
     "locked": true,
     "schema_version": 3,
     "solution": false,
     "task": false
    },
    "tags": [
     "DO NOT DELETE THIS CELL"
    ]
   },
   "source": [
    "#### <font color='orange'>[Exercise 2]</font>\n",
    "\n",
    "The ancient Babylonian method for calculating the square root of $a > 0$ is given by the iteration\n",
    "$$\n",
    "∀k∈\\mathbb{N},\\qquad x_{k+1}=\\frac{1}{2}\\left(x_k+\\frac{a}{x_k}\\right)\n",
    "$$\n",
    "\n",
    "Write a function `my_sqrt(a, x₀)` that returns an approximation of the square root of `a` based on 10 iterations of this method, starting from `x₀`."
   ]
  },
  {
   "cell_type": "code",
   "execution_count": null,
   "id": "28d15393",
   "metadata": {
    "deletable": false,
    "nbgrader": {
     "cell_type": "code",
     "checksum": "47b033047a6a3acc5be6ca6c50216696",
     "grade": false,
     "grade_id": "baby",
     "locked": false,
     "schema_version": 3,
     "solution": true,
     "task": false
    },
    "tags": [
     "DO NOT DELETE THIS CELL"
    ]
   },
   "outputs": [],
   "source": [
    "function my_sqrt(a, x₀)\n",
    "    # YOUR CODE HERE [⚠ DO NOT DELETE THIS CELL]\n",
    "    throw(ErrorException(\"No code provided\"))\n",
    "end;"
   ]
  },
  {
   "cell_type": "code",
   "execution_count": null,
   "id": "f72bd3c0",
   "metadata": {
    "deletable": false,
    "editable": false,
    "nbgrader": {
     "cell_type": "code",
     "checksum": "dee1801dfd4ba2863eca332a6d70c411",
     "grade": true,
     "grade_id": "baby-tests",
     "locked": true,
     "points": 2,
     "schema_version": 3,
     "solution": false,
     "task": false
    },
    "tags": [
     "DO NOT DELETE THIS CELL"
    ]
   },
   "outputs": [],
   "source": [
    "@assert my_sqrt(4, 1) ≈ 2 \"❌\"\n",
    "@assert my_sqrt(144, 1) ≈ 12 \"❌\""
   ]
  },
  {
   "cell_type": "markdown",
   "id": "b805ee3b",
   "metadata": {
    "deletable": false,
    "editable": false,
    "jp-MarkdownHeadingCollapsed": true,
    "nbgrader": {
     "cell_type": "markdown",
     "checksum": "d6510da2ccc4fbfb4ddec60df773fe3c",
     "grade": false,
     "grade_id": "cell-f005498f-6ace-4b80-a8b8-bfd2e83d589a",
     "locked": true,
     "schema_version": 3,
     "solution": false,
     "task": false
    },
    "tags": [
     "DO NOT DELETE THIS CELL"
    ]
   },
   "source": [
    "### <font color='green'>Plotting and creating animations</font>"
   ]
  },
  {
   "cell_type": "markdown",
   "id": "ade22892",
   "metadata": {
    "deletable": false,
    "editable": false,
    "nbgrader": {
     "cell_type": "markdown",
     "checksum": "e8538ea5e0e8650b571a88ab3c920dfd",
     "grade": false,
     "grade_id": "cell-cd22cd67-899d-41c2-8c4b-97e926284603",
     "locked": true,
     "schema_version": 3,
     "solution": false,
     "task": false
    },
    "tags": [
     "DO NOT DELETE THIS CELL"
    ]
   },
   "source": [
    "- The function `plot` can be called in a variety of ways.\n",
    "  One approach is to pass it a function:"
   ]
  },
  {
   "cell_type": "code",
   "execution_count": null,
   "id": "6c416ebf",
   "metadata": {},
   "outputs": [],
   "source": [
    "f(x) = cos(x) * exp(-abs(x))\n",
    "plot(f, xlims=(-5, 5))"
   ]
  },
  {
   "cell_type": "markdown",
   "id": "7f2c4694",
   "metadata": {
    "deletable": false,
    "editable": false,
    "nbgrader": {
     "cell_type": "markdown",
     "checksum": "6f57634a909e398ce1900fcd815c434e",
     "grade": false,
     "grade_id": "cell-dcb8af81-3bc7-462f-834d-577cf7b267dd",
     "locked": true,
     "schema_version": 3,
     "solution": false,
     "task": false
    },
    "tags": [
     "DO NOT DELETE THIS CELL"
    ]
   },
   "source": [
    "- Another, often more flexible, option is pass it $x$ and $y$ arrays:"
   ]
  },
  {
   "cell_type": "code",
   "execution_count": null,
   "id": "1954f1ae",
   "metadata": {},
   "outputs": [],
   "source": [
    "f(x) = cos(x) * exp(-abs(x))\n",
    "x = -5:.01:5\n",
    "plot(x, f.(x))"
   ]
  },
  {
   "cell_type": "markdown",
   "id": "b70a7cd7",
   "metadata": {
    "deletable": false,
    "editable": false,
    "nbgrader": {
     "cell_type": "markdown",
     "checksum": "358eb9ad51a7999b5052703f424d16bb",
     "grade": false,
     "grade_id": "cell-515c43a8-cc8a-4352-9ea8-4f1c723ed082",
     "locked": true,
     "schema_version": 3,
     "solution": false,
     "task": false
    },
    "tags": [
     "DO NOT DELETE THIS CELL"
    ]
   },
   "source": [
    "- Use commands followed by `!` to modify an existing plot."
   ]
  },
  {
   "cell_type": "code",
   "execution_count": null,
   "id": "d5c44aa1",
   "metadata": {},
   "outputs": [],
   "source": [
    "plot(cos, label = \"f1\")\n",
    "plot!(sin, label = \"f2\")\n",
    "xlims!(-5, 5)\n",
    "title!(\"title\")\n",
    "xlabel!(\"x\")\n",
    "ylabel!(\"y\")"
   ]
  },
  {
   "cell_type": "markdown",
   "id": "10251597",
   "metadata": {
    "deletable": false,
    "editable": false,
    "nbgrader": {
     "cell_type": "markdown",
     "checksum": "3ddfec71f6ad08eefc4b56e480d58008",
     "grade": false,
     "grade_id": "cell-f977f4b6-340b-4576-ba21-58d257d63415",
     "locked": true,
     "schema_version": 3,
     "solution": false,
     "task": false
    },
    "tags": [
     "DO NOT DELETE THIS CELL"
    ]
   },
   "source": [
    "- Options can be grouped together within a `plot!` call:"
   ]
  },
  {
   "cell_type": "code",
   "execution_count": null,
   "id": "8470c221",
   "metadata": {},
   "outputs": [],
   "source": [
    "plot(cos, label = \"f1\")\n",
    "plot!(sin, label = \"f2\")\n",
    "plot!(xlims = (-5, 5), title = \"title\", xlabel = \"x\", ylabel = \"y\")"
   ]
  },
  {
   "cell_type": "markdown",
   "id": "6ab123d5",
   "metadata": {
    "deletable": false,
    "editable": false,
    "nbgrader": {
     "cell_type": "markdown",
     "checksum": "496368b3c9a792c5845212f95e963bc3",
     "grade": false,
     "grade_id": "cell-3630c3ff-51fc-461e-ad0f-5f1c0677292a",
     "locked": true,
     "schema_version": 3,
     "solution": false,
     "task": false
    },
    "tags": [
     "DO NOT DELETE THIS CELL"
    ]
   },
   "source": [
    "- Animations can be created as follows:"
   ]
  },
  {
   "cell_type": "code",
   "execution_count": null,
   "id": "86289c1a",
   "metadata": {},
   "outputs": [],
   "source": [
    "anim = Animation()\n",
    "for θ in LinRange(0, 2π, 50)\n",
    "    plot(x -> cos(x - θ), label=nothing)\n",
    "    title!(\"θ = $(round(θ, digits=3))\")\n",
    "    frame(anim)\n",
    "end\n",
    "gif(anim, fps=10)"
   ]
  },
  {
   "cell_type": "markdown",
   "id": "075cfe3c",
   "metadata": {
    "deletable": false,
    "editable": false,
    "nbgrader": {
     "cell_type": "markdown",
     "checksum": "1706ac46acdd915791b7f62d68cac4cb",
     "grade": false,
     "grade_id": "cell-64c1d50f-6046-4382-bb13-374c52db45e5",
     "locked": true,
     "schema_version": 3,
     "solution": false,
     "task": false
    },
    "tags": [
     "DO NOT DELETE THIS CELL"
    ]
   },
   "source": [
    "- The `Plots` library defines the `@animate` macro to simplify the creation of animations:"
   ]
  },
  {
   "cell_type": "code",
   "execution_count": null,
   "id": "c73bbf51",
   "metadata": {},
   "outputs": [],
   "source": [
    "anim = @animate for θ in LinRange(0, 2π, 50)\n",
    "    plot(x -> cos(x - θ), label=nothing)\n",
    "    title!(\"θ = $(round(θ, digits=3))\")\n",
    "end\n",
    "gif(anim, fps=10)"
   ]
  },
  {
   "cell_type": "markdown",
   "id": "9bfdba0a",
   "metadata": {
    "deletable": false,
    "editable": false,
    "nbgrader": {
     "cell_type": "markdown",
     "checksum": "44d6434a20052a5f401fbfeceec8db47",
     "grade": false,
     "grade_id": "cell-e95bf3e1-2749-4924-970c-6e0a0c39b86d",
     "locked": true,
     "schema_version": 3,
     "solution": false,
     "task": false
    },
    "tags": [
     "DO NOT DELETE THIS CELL"
    ]
   },
   "source": [
    "#### <font color='orange'>[Exercise 3]</font>\n",
    "Create an animation illustrating the motion a golf ball whose position in the $x,y$ plane with position\n",
    "$$\n",
    "\\begin{aligned}\n",
    "x(t) &= u_0 t, \\\\\n",
    "y(t) &= v_0 t - g \\frac{t^2}{2},\n",
    "\\end{aligned}\n",
    "$$\n",
    "Use the parameters provided as well as the function `scatter`,\n",
    "and make the animation as good as possible."
   ]
  },
  {
   "cell_type": "code",
   "execution_count": null,
   "id": "3a11d565",
   "metadata": {
    "deletable": false,
    "nbgrader": {
     "cell_type": "code",
     "checksum": "afcaf28a7e4a020d768f1b314afe7195",
     "grade": true,
     "grade_id": "golf",
     "locked": false,
     "points": 4,
     "schema_version": 3,
     "solution": true,
     "task": false
    },
    "tags": [
     "DO NOT DELETE THIS CELL"
    ]
   },
   "outputs": [],
   "source": [
    "u₀ = 50\n",
    "v₀ = 50\n",
    "g = 9.81\n",
    "# YOUR CODE HERE [⚠ DO NOT DELETE THIS CELL]\n",
    "throw(ErrorException(\"No code provided\"))"
   ]
  },
  {
   "cell_type": "markdown",
   "id": "d9a10634",
   "metadata": {
    "deletable": false,
    "editable": false,
    "jp-MarkdownHeadingCollapsed": true,
    "nbgrader": {
     "cell_type": "markdown",
     "checksum": "f1a15de7e2a842dacc16d9cbef51e3da",
     "grade": false,
     "grade_id": "cell-97ca4f2c-8927-4cae-b083-0801243102e8",
     "locked": true,
     "schema_version": 3,
     "solution": false,
     "task": false
    },
    "tags": [
     "DO NOT DELETE THIS CELL"
    ]
   },
   "source": [
    "### <font color='green'>Floating point formats</font>"
   ]
  },
  {
   "cell_type": "markdown",
   "id": "728f3f8d",
   "metadata": {
    "deletable": false,
    "editable": false,
    "nbgrader": {
     "cell_type": "markdown",
     "checksum": "94499cb11ac26557ed1729140c37154f",
     "grade": false,
     "grade_id": "cell-f1a75bdc-d89a-4e18-9528-62193c7f2d91",
     "locked": true,
     "schema_version": 3,
     "solution": false,
     "task": false
    },
    "tags": [
     "DO NOT DELETE THIS CELL"
    ]
   },
   "source": [
    "Only finitely many numbers can be represented exactly on a computer.\n",
    "Consequently, some real numbers can be represented exactly,\n",
    "and some cannot.\n",
    "The IEEE 754 standard,\n",
    "with which virtually all programming languages comply,\n",
    "specifies a small number of **floating point formats**.\n",
    "The set of real numbers representable in each format is of the form\n",
    "$$\n",
    "\\begin{align*}\n",
    "    F(p, E_{\\min}, E_{\\max})\n",
    "    = \\Bigl\\{ & (-1)^s 2^E (b_0. b_1 b_2 \\dots b_{p-1})_2 \\colon \\\\\n",
    "              & \\qquad s \\in \\{0, 1\\}, b_i \\in \\{0, 1\\} \\, \\text{and} \\, E_{\\min} \\leq E \\leq E_{\\max} \\Bigr\\}.\n",
    "\\end{align*}\n",
    "$$\n",
    "Here $(b_0.b_1 b_2 \\dots b_{p-1})_2$ is a number in binary representation, i.e.\n",
    "$$\n",
    "(b_0.b_1 b_2 \\dots b_{p-1})_2 = b_0 + \\frac{1}{2} b_1 + \\dotsc + \\frac{1}{2^{p-1}} b_{p-1}.\n",
    "$$\n",
    "For an element $x \\in F(p, E_{\\min}, E_{\\max})$, $(b_0. b_1 b_2 \\dots b_{p-1})_2$ is called the *significand*, $s$ is the *sign* and $E$ is the *exponent*.\n",
    "Three parameters appear in the set definition given above:\n",
    "- $p$ is the number of significant bits (also called the **precision**),\n",
    "- $E_{\\min}$ is the minimum exponent.\n",
    "- $E_{\\max}$ is the maximum exponent.\n",
    "\n",
    "From the precision, the **machine epsilon** associated with the format is defined as\n",
    "$$\n",
    "\\varepsilon = 2^{-(p-1)}\n",
    "$$\n",
    "\n",
    "The parameters of the most commonly-used formats specified by the standard are the following:\n",
    "\n",
    "| Parameter | Half-precision (`Float16`) | Single precision (`Float32`) | Double precision (`Float64`) |\n",
    "| --- | --- | --- | --- |\n",
    "| $p$ | 11 | 24 | 53 |\n",
    "| $E_{\\min}$ | -14 | -126 | -1022 |\n",
    "| $E_{\\max}$ | 15 | 127 | 1023 |\n",
    "\n",
    "In Julia, half, single and double precision floating point formats are given by\n",
    "`Float16`, `Float32`, and `Float64`, the default one being `Float64`."
   ]
  },
  {
   "cell_type": "code",
   "execution_count": null,
   "id": "fbe14302",
   "metadata": {},
   "outputs": [],
   "source": [
    "a = √2\n",
    "b = Float32(√2)\n",
    "c = Float16(√2)\n",
    "\n",
    "@show a\n",
    "@show b\n",
    "@show c\n",
    "\n",
    "@show typeof(a)\n",
    "@show typeof(b)\n",
    "@show typeof(c);"
   ]
  },
  {
   "cell_type": "markdown",
   "id": "1362af85",
   "metadata": {
    "deletable": false,
    "editable": false,
    "nbgrader": {
     "cell_type": "markdown",
     "checksum": "65b633375b650490809417301cd1c843",
     "grade": false,
     "grade_id": "cell-327828e6-0474-478f-b8e4-d618f6351df6",
     "locked": true,
     "schema_version": 3,
     "solution": false,
     "task": false
    },
    "tags": [
     "DO NOT DELETE THIS CELL"
    ]
   },
   "source": [
    "The machine epsilon should be understood as a measure of the relative spacing between a floating point number and the next one, within a format.\n",
    "Indeed, the number 1 is representable exactly in all formats,\n",
    "and the next representable number is precisely $1 + \\varepsilon$"
   ]
  },
  {
   "cell_type": "code",
   "execution_count": null,
   "id": "0dca17f4",
   "metadata": {},
   "outputs": [],
   "source": [
    "a = Float16(1.0)\n",
    "@show nextfloat(a) - a\n",
    "@show eps(Float16);"
   ]
  },
  {
   "cell_type": "markdown",
   "id": "c2e1430e",
   "metadata": {
    "deletable": false,
    "editable": false,
    "nbgrader": {
     "cell_type": "markdown",
     "checksum": "720065ca2b22666fa0075dbc276afc64",
     "grade": false,
     "grade_id": "cell-0b77e094-e65e-4d1b-aad0-342444f7b283",
     "locked": true,
     "schema_version": 3,
     "solution": false,
     "task": false
    },
    "tags": [
     "DO NOT DELETE THIS CELL"
    ]
   },
   "source": [
    "Likewise, the next representable number from $2$ is $2 + 2\\varepsilon$\n",
    "and the next representable number from $4$ is $4 + 4ε$:"
   ]
  },
  {
   "cell_type": "code",
   "execution_count": null,
   "id": "ccf8bc37",
   "metadata": {},
   "outputs": [],
   "source": [
    "ε = eps(Float64)\n",
    "@show nextfloat(2.0) - 2.0\n",
    "@show 2ε;\n",
    "@show nextfloat(4.0) - 4.0\n",
    "@show 4ε;"
   ]
  },
  {
   "cell_type": "markdown",
   "id": "80716b00",
   "metadata": {
    "deletable": false,
    "editable": false,
    "nbgrader": {
     "cell_type": "markdown",
     "checksum": "94651e5ed732dfd968f0c44d72493846",
     "grade": false,
     "grade_id": "cell-36e3f94a-f7df-4421-a023-2d63feecb79d",
     "locked": true,
     "schema_version": 3,
     "solution": false,
     "task": false
    },
    "tags": [
     "DO NOT DELETE THIS CELL"
    ]
   },
   "source": [
    "As expected from the names,\n",
    "a `Float16` number is stored using 16 bits, \n",
    "a `Float32` is stored using 32 bits, \n",
    "and a `Float64` number is stored using 64 bits.\n",
    "Of these bits, one is used to store the sign, \n",
    "and the rest are used to store the significand and the exponent.\n",
    "Additionally, a few combinations of the bits are reserved to represent the special values\n",
    "`Inf`, `-Inf` and `NaN`, the latter being an acronym for \"not a number\"."
   ]
  },
  {
   "cell_type": "markdown",
   "id": "14cca51a",
   "metadata": {
    "deletable": false,
    "editable": false,
    "nbgrader": {
     "cell_type": "markdown",
     "checksum": "ce5f68368436d0ca8ba2af631e72be74",
     "grade": false,
     "grade_id": "cell-4713518c-949f-4e62-b84b-e8bcffc3aa31",
     "locked": true,
     "schema_version": 3,
     "solution": false,
     "task": false
    },
    "tags": [
     "DO NOT DELETE THIS CELL"
    ]
   },
   "source": [
    "A **byte**, abbreviated with a capital B, is a unit that consists of 8 bits.\n",
    "This is the unit that is usually used to describe the amount of memory available in commercial products;\n",
    "for example, a laptop typically has around 8GB or 16GB of RAM memory.\n",
    "It is often useful to have a rough idea of how much space mathematical objects take in memory.\n",
    "For example, a 1000 x 1000 matrix of `Float64` numbers requires $8 \\times 10^6$ bytes to store,\n",
    "and a 10000 x 10000 matrix of `Float64` numbers requires almost 800MB of RAM."
   ]
  },
  {
   "cell_type": "code",
   "execution_count": null,
   "id": "5b58081a",
   "metadata": {},
   "outputs": [],
   "source": [
    "A = zeros(10_000, 10_000)\n",
    "@show Base.summarysize(A);"
   ]
  },
  {
   "cell_type": "markdown",
   "id": "fa30ed1a",
   "metadata": {
    "deletable": false,
    "editable": false,
    "nbgrader": {
     "cell_type": "markdown",
     "checksum": "68df0d41d24a3d9043381dbf954eef03",
     "grade": false,
     "grade_id": "cell-84f67e93-29d1-4067-89f5-732a726d8fe8",
     "locked": true,
     "schema_version": 3,
     "solution": false,
     "task": false
    },
    "tags": [
     "DO NOT DELETE THIS CELL"
    ]
   },
   "source": [
    "To develop our understanding of floating point format,\n",
    "let us plot on the same graph the spacing between\n",
    "successive `Float16`, `Float32` and `Float64` numbers\n",
    "in the range $[1, 10^4]$. Notice that the density of\n",
    "representable floating point numbers around $x$ decreases\n",
    "with $x$."
   ]
  },
  {
   "cell_type": "code",
   "execution_count": null,
   "id": "d039d277",
   "metadata": {},
   "outputs": [],
   "source": [
    "n = 1000\n",
    "x_16 = (^).(10, LinRange{Float16}(0, 4, n))\n",
    "x_32 = (^).(10, LinRange{Float32}(0, 4, n))\n",
    "x_64 = (^).(10, LinRange{Float64}(0, 4, n))\n",
    "spacing16 = nextfloat.(x_16) - x_16\n",
    "spacing32 = nextfloat.(x_32) - x_32\n",
    "spacing64 = nextfloat.(x_64) - x_64\n",
    "plot(x_16, spacing16, label=\"Float16\", )\n",
    "plot!(x_32, spacing32, label=\"Float32\")\n",
    "plot!(x_64, spacing64, label=\"Float64\")\n",
    "plot!(xscale=:log10, yscale=:log10,\n",
    "      xlabel=\"x\", ylabel=\"Δx\", legend=:bottomright)"
   ]
  },
  {
   "cell_type": "markdown",
   "id": "0b150d3c",
   "metadata": {
    "deletable": false,
    "editable": false,
    "nbgrader": {
     "cell_type": "markdown",
     "checksum": "54c43e9dec8f179bc5152fbd309af396",
     "grade": false,
     "grade_id": "cell-15367dda-cd2a-4c89-9371-163376619f3e",
     "locked": true,
     "schema_version": 3,
     "solution": false,
     "task": false
    },
    "tags": [
     "DO NOT DELETE THIS CELL"
    ]
   },
   "source": [
    "#### <font color='orange'>[Exercise 4]</font>\n",
    "To further develop your understanding,\n",
    "- Read the documentation of the `nextfloat` function.\n",
    "- Using this function,\n",
    "  plot the **relative** spacing, normalized by the machine epsilon of the `Float32` format,\n",
    "  between successive `Float32` numbers in the range $[10^{-2}, 10^2]$.\n",
    "  More precisely, plot the function\n",
    "  $$\n",
    "  x \\mapsto \\frac{\\text{nextfloat}(x) - x}{x \\varepsilon}\n",
    "  $$\n",
    "\n",
    "Use a logarithmic scale for the $x$ axis only.\n",
    "You may find it useful to use `LinRange{Type}(a, b, n)`\n",
    "to create a vector of $n$ equidistant numbers of type `Type` between $a$ and $b$."
   ]
  },
  {
   "cell_type": "code",
   "execution_count": null,
   "id": "01f2dae0",
   "metadata": {
    "deletable": false,
    "nbgrader": {
     "cell_type": "code",
     "checksum": "5b28fa4fcf9ffdcf4adbe652c02ab45a",
     "grade": true,
     "grade_id": "spacing",
     "locked": false,
     "points": 4,
     "schema_version": 3,
     "solution": true,
     "task": false
    },
    "tags": [
     "DO NOT DELETE THIS CELL"
    ]
   },
   "outputs": [],
   "source": [
    "# YOUR CODE HERE [⚠ DO NOT DELETE THIS CELL]\n",
    "throw(ErrorException(\"No code provided\"))"
   ]
  },
  {
   "cell_type": "markdown",
   "id": "33ea1240",
   "metadata": {
    "deletable": false,
    "editable": false,
    "nbgrader": {
     "cell_type": "markdown",
     "checksum": "05ea2b918dfa8f5ed590a9f2d4cf4346",
     "grade": false,
     "grade_id": "cell-19c5b61a-d51a-44cc-b553-dc9bb0912746",
     "locked": true,
     "schema_version": 3,
     "solution": false,
     "task": false
    },
    "tags": [
     "DO NOT DELETE THIS CELL"
    ]
   },
   "source": [
    "Let us now address a natural question stemming from this discussion:\n",
    "what happens if the result of a mathematical operation is not exactly representable in the floating point format?\n",
    "The answer is simple: the result is rounded to the nearest representable number.\n",
    "This explains the following surprising results:"
   ]
  },
  {
   "cell_type": "code",
   "execution_count": null,
   "id": "6d3aa7cc",
   "metadata": {},
   "outputs": [],
   "source": [
    "@show 1 + eps()/3      # the result is 1\n",
    "@show 1 + 2*eps()/3    # the result is 1 + ε\n",
    "@show .1 + .2 == .3    # this is False"
   ]
  },
  {
   "cell_type": "markdown",
   "id": "411223e9",
   "metadata": {
    "deletable": false,
    "editable": false,
    "nbgrader": {
     "cell_type": "markdown",
     "checksum": "dd723d8a1eb3b90ef38dbf2741788dca",
     "grade": false,
     "grade_id": "cell-9b0ba0ac-cfde-4d45-b7a4-9dfb963df440",
     "locked": true,
     "schema_version": 3,
     "solution": false,
     "task": false
    },
    "tags": [
     "DO NOT DELETE THIS CELL"
    ]
   },
   "source": [
    "The errors caused by this rounding process are called **roundoff errors**.\n",
    "They are particularly impactful for the calculation of derivatives.\n",
    "Indeed, suppose that we wish to calculate,\n",
    "for a differentiable function $f\\colon \\mathbb R \\to \\mathbb R$, an approximation of $f'(1)$.\n",
    "The most natural approach to this end is to calculate for small $\\delta > 0$\n",
    "$$\n",
    "d(\\delta) = \\frac{f(1+ \\delta) - f(1)}{\\delta}.\n",
    "$$\n",
    "In exact arithmetic, this would provide an approximation of $f'(1)$ with an error scaling as $\\mathcal O(\\delta)$,\n",
    "assuming $f''(1) \\neq 0$.\n",
    "In computer arithmetic, however, an additional error occurs due to rounding,\n",
    "which can be shown to be of the order $\\mathcal O(\\varepsilon/\\delta)$.\n",
    "The best choice is to set $\\delta \\approx \\sqrt{\\varepsilon}$,\n",
    "so that the errors are approximately of the same order of magnitude."
   ]
  },
  {
   "cell_type": "code",
   "execution_count": null,
   "id": "c552c44c",
   "metadata": {},
   "outputs": [],
   "source": [
    "f(x) = exp(x)\n",
    "d(δ) = (f(1+δ) - f(1))/δ\n",
    "δs = 10 .^(0:-.1:-17)\n",
    "err = abs.(d.(δs) .- exp(1))\n",
    "plot(δs, err, xscale=:log10, yscale=:log10, label=L\"|d(\\delta) - f'(1)|\", size=(900,450))\n",
    "plot!([eps()], seriestype=:vline, label = L\"\\varepsilon\")\n",
    "plot!([sqrt(eps())], seriestype=:vline, label = L\"\\sqrt{\\varepsilon}\")"
   ]
  },
  {
   "cell_type": "markdown",
   "id": "8e2c6700",
   "metadata": {
    "deletable": false,
    "editable": false,
    "nbgrader": {
     "cell_type": "markdown",
     "checksum": "736ee6fc4a9c3e01970d1d7357b30eb5",
     "grade": false,
     "grade_id": "cell-176ae52f-e441-411f-bbef-6b831a89c750",
     "locked": true,
     "schema_version": 3,
     "solution": false,
     "task": false
    },
    "tags": [
     "DO NOT DELETE THIS CELL"
    ]
   },
   "source": [
    "For very small $\\delta$ of the order of the machine $\\varepsilon$, \n",
    "the approximation obtained is completely wrong.\n",
    "Do you understand the following observations?"
   ]
  },
  {
   "cell_type": "code",
   "execution_count": null,
   "id": "5e9f1a8f",
   "metadata": {},
   "outputs": [],
   "source": [
    "δ = eps()/4; @show (exp(δ) - exp(0)) / δ\n",
    "δ = eps()/2; @show (exp(δ) - exp(0)) / δ\n",
    "δ = eps(); @show (exp(δ) - exp(0)) / δ;"
   ]
  },
  {
   "cell_type": "markdown",
   "id": "fb7f25c3",
   "metadata": {
    "deletable": false,
    "editable": false,
    "nbgrader": {
     "cell_type": "markdown",
     "checksum": "a401138fba5f2aecf7c7941c7ec9b579",
     "grade": false,
     "grade_id": "cell-1576e2a3-2a25-4044-b6e8-7e994be2582a",
     "locked": true,
     "schema_version": 3,
     "solution": false,
     "task": false
    },
    "tags": [
     "DO NOT DELETE THIS CELL"
    ]
   },
   "source": [
    "**Remark**. In many settings, it is useful to use floating point numbers with more precision than the standard types,\n",
    "so that the roundoff errors can be reduced and true error, \n",
    "coming from the inexact nature of many algorithms even in exact arithmetic,\n",
    "can be observed.\n",
    "The `BigFloat` in Julia is an arbitrary precision format.\n",
    "The corresponding number of significant bits can be set by using the `setprecision` function."
   ]
  },
  {
   "cell_type": "code",
   "execution_count": null,
   "id": "a1ddecba",
   "metadata": {},
   "outputs": [],
   "source": [
    "@show Float64(π)    \n",
    "\n",
    "setprecision(100, base=10)  # We want 100 digits in base 10\n",
    "BigFloat(π)"
   ]
  },
  {
   "cell_type": "markdown",
   "id": "573bef76",
   "metadata": {
    "deletable": false,
    "editable": false,
    "jp-MarkdownHeadingCollapsed": true,
    "nbgrader": {
     "cell_type": "markdown",
     "checksum": "65b8f6e5481238a3c4eab89a082d474d",
     "grade": false,
     "grade_id": "cell-1af7502e-3cb6-4d8d-a641-8cb8752bc37d",
     "locked": true,
     "schema_version": 3,
     "solution": false,
     "task": false
    },
    "tags": [
     "DO NOT DELETE THIS CELL"
    ]
   },
   "source": [
    "### <font color='green'>Manipulation of arrays</font>"
   ]
  },
  {
   "cell_type": "markdown",
   "id": "b5b5b219",
   "metadata": {
    "deletable": false,
    "editable": false,
    "nbgrader": {
     "cell_type": "markdown",
     "checksum": "25d7d6f2da6ffa12c441dabddf64b32f",
     "grade": false,
     "grade_id": "cell-db526e4c-a5bf-4d60-9dc3-53b237d878f5",
     "locked": true,
     "schema_version": 3,
     "solution": false,
     "task": false
    },
    "tags": [
     "DO NOT DELETE THIS CELL"
    ]
   },
   "source": [
    "- Simple explicit definition"
   ]
  },
  {
   "cell_type": "code",
   "execution_count": null,
   "id": "b4e57bd9",
   "metadata": {},
   "outputs": [],
   "source": [
    "u = [1, 2, 3]  # defines a column Vector\n",
    "display(u)\n",
    "@show typeof(u)"
   ]
  },
  {
   "cell_type": "markdown",
   "id": "79fe21dd",
   "metadata": {
    "deletable": false,
    "editable": false,
    "nbgrader": {
     "cell_type": "markdown",
     "checksum": "e468b1532d5380304b9083c25da024c7",
     "grade": false,
     "grade_id": "cell-917b0295-3312-4a27-b1ad-0242ee8f15af",
     "locked": true,
     "schema_version": 3,
     "solution": false,
     "task": false
    },
    "tags": [
     "DO NOT DELETE THIS CELL"
    ]
   },
   "source": [
    "- Note the difference with"
   ]
  },
  {
   "cell_type": "code",
   "execution_count": null,
   "id": "849a345a",
   "metadata": {},
   "outputs": [],
   "source": [
    "u = [1 2 3] # defines a Matrix of 1 line\n",
    "display(u)\n",
    "@show typeof(u)"
   ]
  },
  {
   "cell_type": "markdown",
   "id": "24b62c26",
   "metadata": {
    "deletable": false,
    "editable": false,
    "nbgrader": {
     "cell_type": "markdown",
     "checksum": "f5ca2af642ea4a1704ab250ba9bcf282",
     "grade": false,
     "grade_id": "cell-d00a4885-3cb6-40f8-99d9-ff6403f26686",
     "locked": true,
     "schema_version": 3,
     "solution": false,
     "task": false
    },
    "tags": [
     "DO NOT DELETE THIS CELL"
    ]
   },
   "source": [
    "- Explicit definition of a matrix"
   ]
  },
  {
   "cell_type": "code",
   "execution_count": null,
   "id": "90664546",
   "metadata": {},
   "outputs": [],
   "source": [
    "A = [1 2 3\n",
    "     4 5 6\n",
    "     7 8 9]"
   ]
  },
  {
   "cell_type": "code",
   "execution_count": null,
   "id": "375cd3ae",
   "metadata": {},
   "outputs": [],
   "source": [
    "A = [1 2 3; 4 5 6; 7 8 9]"
   ]
  },
  {
   "cell_type": "markdown",
   "id": "0012fb86",
   "metadata": {
    "deletable": false,
    "editable": false,
    "nbgrader": {
     "cell_type": "markdown",
     "checksum": "af40f2b3dc518299dd272c2da955c3e3",
     "grade": false,
     "grade_id": "cell-80620a12-8a06-4af8-84d4-726892481852",
     "locked": true,
     "schema_version": 3,
     "solution": false,
     "task": false
    },
    "tags": [
     "DO NOT DELETE THIS CELL"
    ]
   },
   "source": [
    "- Extraction of a column or a line\n",
    "> **Note:** in `Julia`, indices start at `1` as in `Fortran` (**not `0` as in `Python` or `C`**)"
   ]
  },
  {
   "cell_type": "code",
   "execution_count": null,
   "id": "e6e703e3",
   "metadata": {},
   "outputs": [],
   "source": [
    "A[1,:]"
   ]
  },
  {
   "cell_type": "code",
   "execution_count": null,
   "id": "574b5674",
   "metadata": {},
   "outputs": [],
   "source": [
    "A[:,1]"
   ]
  },
  {
   "cell_type": "markdown",
   "id": "47be75a3",
   "metadata": {
    "deletable": false,
    "editable": false,
    "nbgrader": {
     "cell_type": "markdown",
     "checksum": "6160cafde99fc1e6206390e235eb52a2",
     "grade": false,
     "grade_id": "cell-933882be-9d6b-4253-886b-99b0d38c3143",
     "locked": true,
     "schema_version": 3,
     "solution": false,
     "task": false
    },
    "tags": [
     "DO NOT DELETE THIS CELL"
    ]
   },
   "source": [
    "- `:` is a shortcut for `begin:end` or `1:end`"
   ]
  },
  {
   "cell_type": "code",
   "execution_count": null,
   "id": "047615ab",
   "metadata": {},
   "outputs": [],
   "source": [
    "A[2,1:end]"
   ]
  },
  {
   "cell_type": "code",
   "execution_count": null,
   "id": "491333de",
   "metadata": {},
   "outputs": [],
   "source": [
    "A[begin:end,2]"
   ]
  },
  {
   "cell_type": "markdown",
   "id": "b008e551",
   "metadata": {
    "deletable": false,
    "editable": false,
    "nbgrader": {
     "cell_type": "markdown",
     "checksum": "84e93083a297705bd28c7c69314bb4fb",
     "grade": false,
     "grade_id": "cell-24c767ac-c3f9-409e-97c3-f74e90e31a6f",
     "locked": true,
     "schema_version": 3,
     "solution": false,
     "task": false
    },
    "tags": [
     "DO NOT DELETE THIS CELL"
    ]
   },
   "source": [
    "- Construction of an array by comprehension syntax"
   ]
  },
  {
   "cell_type": "code",
   "execution_count": null,
   "id": "021c285b",
   "metadata": {},
   "outputs": [],
   "source": [
    "A = [10i+j for i in 0:2, j in 0:3]\n",
    "display(A)\n",
    "print(\"\\nA = $A\\n\\n\")\n",
    "@show A\n",
    "@show A[1,1]\n",
    "@show A[1,2]\n",
    "@show length(A)\n",
    "@show size(A)\n",
    "@show size(A, 1)\n",
    "@show size(A, 2)\n",
    "@show eltype(A)\n",
    ";"
   ]
  },
  {
   "cell_type": "markdown",
   "id": "af29ed30",
   "metadata": {
    "deletable": false,
    "editable": false,
    "nbgrader": {
     "cell_type": "markdown",
     "checksum": "5266de2caa122efad1f9f79518c8a9b9",
     "grade": false,
     "grade_id": "cell-9d5a0d01-3dfc-4230-9ae8-44cd73aadf91",
     "locked": true,
     "schema_version": 3,
     "solution": false,
     "task": false
    },
    "tags": [
     "DO NOT DELETE THIS CELL"
    ]
   },
   "source": [
    "- Adjoint matrix"
   ]
  },
  {
   "cell_type": "code",
   "execution_count": null,
   "id": "4a9e70a5",
   "metadata": {},
   "outputs": [],
   "source": [
    "A = [1 2 3\n",
    "     4 5 6]\n",
    "A'"
   ]
  },
  {
   "cell_type": "code",
   "execution_count": null,
   "id": "69f8f0c8",
   "metadata": {},
   "outputs": [],
   "source": [
    "display(A'A)\n",
    "display(A*A')"
   ]
  },
  {
   "cell_type": "code",
   "execution_count": null,
   "id": "099113d5",
   "metadata": {},
   "outputs": [],
   "source": [
    "A = [2+3im 4+2im 1+3im\n",
    "     1+2im 2+3im 5+6im]\n",
    "A'"
   ]
  },
  {
   "cell_type": "code",
   "execution_count": null,
   "id": "9b0e1cf7",
   "metadata": {},
   "outputs": [],
   "source": [
    "display(A'A)\n",
    "display(A*A')"
   ]
  },
  {
   "cell_type": "markdown",
   "id": "df9dacea",
   "metadata": {
    "deletable": false,
    "editable": false,
    "nbgrader": {
     "cell_type": "markdown",
     "checksum": "1ba431b3fa2c1164d4996e5898b6bce5",
     "grade": false,
     "grade_id": "cell-85edb322-0637-4a7f-8a7c-6ae89e583535",
     "locked": true,
     "schema_version": 3,
     "solution": false,
     "task": false
    },
    "tags": [
     "DO NOT DELETE THIS CELL"
    ]
   },
   "source": [
    "- Concatenation of arrays"
   ]
  },
  {
   "cell_type": "code",
   "execution_count": null,
   "id": "5ac48a61",
   "metadata": {},
   "outputs": [],
   "source": [
    "A = [1 2 3\n",
    "     4 5 6]\n",
    "u = [10, 20, 30]\n",
    "v = [100, 200]\n",
    ";"
   ]
  },
  {
   "cell_type": "code",
   "execution_count": null,
   "id": "9c513dc2",
   "metadata": {},
   "outputs": [],
   "source": [
    "[A v]"
   ]
  },
  {
   "cell_type": "code",
   "execution_count": null,
   "id": "5ce47fbb",
   "metadata": {},
   "outputs": [],
   "source": [
    "[A; u']"
   ]
  },
  {
   "cell_type": "code",
   "execution_count": null,
   "id": "94c26312",
   "metadata": {},
   "outputs": [],
   "source": [
    "[A A]"
   ]
  },
  {
   "cell_type": "code",
   "execution_count": null,
   "id": "541fa14b",
   "metadata": {},
   "outputs": [],
   "source": [
    "[A; A]"
   ]
  },
  {
   "cell_type": "code",
   "execution_count": null,
   "id": "837984c7",
   "metadata": {},
   "outputs": [],
   "source": [
    "hcat(A, A, A)"
   ]
  },
  {
   "cell_type": "code",
   "execution_count": null,
   "id": "f83f2c59",
   "metadata": {},
   "outputs": [],
   "source": [
    "vcat(A, A, A)"
   ]
  },
  {
   "cell_type": "markdown",
   "id": "7e1e34e0",
   "metadata": {
    "deletable": false,
    "editable": false,
    "nbgrader": {
     "cell_type": "markdown",
     "checksum": "235ab5ba92f46fd9477526ddc45e7541",
     "grade": false,
     "grade_id": "cell-640743c9-44e5-4d9d-9a7b-c240970d4276",
     "locked": true,
     "schema_version": 3,
     "solution": false,
     "task": false
    },
    "tags": [
     "DO NOT DELETE THIS CELL"
    ]
   },
   "source": [
    "- Components are stored column-wise and can be accessed by single index even for multidimensional arrays\n",
    "- `eachindex` and `CartesianIndices` allow to iterate over all the indices of an array (single index for the former, multi-index for the latter)\n",
    "- A `CartesianIndex` can be converted into a `Tuple`\n",
    "- `...` is the splat operator (see the documentation)"
   ]
  },
  {
   "cell_type": "code",
   "execution_count": null,
   "id": "d0fc316d",
   "metadata": {},
   "outputs": [],
   "source": [
    "A = [1 2 3; 4 5 6]\n",
    "\n",
    "for k ∈ eachindex(A)\n",
    "    println(\"A[$k] = \", A[k])\n",
    "end\n",
    "println()\n",
    "\n",
    "for k ∈ CartesianIndices(A)\n",
    "    println(\"A[$k] = A$(Tuple(k)...) = \", A[k])\n",
    "end\n",
    "println()\n",
    "\n",
    "for i in 1:size(A, 1)\n",
    "    for j in 1:size(A, 2)\n",
    "        println(\"A[$i, $j] = \", A[i, j])\n",
    "    end\n",
    "end\n",
    "println()\n",
    "\n",
    "for i in 1:size(A, 1), j in 1:size(A, 2)\n",
    "    println(\"A[$i, $j] = \", A[i, j])\n",
    "end"
   ]
  },
  {
   "cell_type": "markdown",
   "id": "fd6444bb",
   "metadata": {
    "deletable": false,
    "editable": false,
    "nbgrader": {
     "cell_type": "markdown",
     "checksum": "f9910617faf3896d26abddead7e0ff67",
     "grade": false,
     "grade_id": "cell-a365ac6e-900c-4e94-bc58-cd3574a6ba56",
     "locked": true,
     "schema_version": 3,
     "solution": false,
     "task": false
    },
    "tags": [
     "DO NOT DELETE THIS CELL"
    ]
   },
   "source": [
    "- A matrix (array of order 2) is not a vector of vectors"
   ]
  },
  {
   "cell_type": "code",
   "execution_count": null,
   "id": "ff1be21e",
   "metadata": {},
   "outputs": [],
   "source": [
    "B = [[10i+j for i in 0:2] for j in 0:3]\n",
    "display(B)\n",
    "@show B isa Matrix \n",
    ";"
   ]
  },
  {
   "cell_type": "markdown",
   "id": "78a07179",
   "metadata": {
    "deletable": false,
    "editable": false,
    "nbgrader": {
     "cell_type": "markdown",
     "checksum": "e03d5e58828e58aa11f771eaa6b5ba39",
     "grade": false,
     "grade_id": "cell-179ee7d4-b0a4-44f7-8e4d-ad7e02ad0610",
     "locked": true,
     "schema_version": 3,
     "solution": false,
     "task": false
    },
    "tags": [
     "DO NOT DELETE THIS CELL"
    ]
   },
   "source": [
    "- Arrays are mutable (if the type is consistent), tuple are not!"
   ]
  },
  {
   "cell_type": "code",
   "execution_count": null,
   "id": "a4f95d86",
   "metadata": {},
   "outputs": [],
   "source": [
    "v = [1, 2]\n",
    "@show typeof(v)\n",
    "@show eltype(v)\n",
    "@show v\n",
    "v[1] = 3\n",
    "@show v\n",
    "# v[1] = 1.5 # error since v is of type Vector{Int64}\n",
    "# @show v\n",
    "t = (1, 2)\n",
    "@show t[1] ;\n",
    "# t[1] = 3 # error since t is not mutable"
   ]
  },
  {
   "cell_type": "markdown",
   "id": "bbbd6322",
   "metadata": {
    "deletable": false,
    "editable": false,
    "nbgrader": {
     "cell_type": "markdown",
     "checksum": "79ffc061542c9294152d9cd26d81ca49",
     "grade": false,
     "grade_id": "cell-3d191ccc-12d7-4b25-8c5d-abd8d8613773",
     "locked": true,
     "schema_version": 3,
     "solution": false,
     "task": false
    },
    "tags": [
     "DO NOT DELETE THIS CELL"
    ]
   },
   "source": [
    "- Definition of a void array and *a posteriori* construction\n",
    "\n",
    "> Note the difference between `push!` and `append!` (it is recalled that for both `!` expresses that by convention, not obligation, the argument is modified)"
   ]
  },
  {
   "cell_type": "code",
   "execution_count": null,
   "id": "82205ea4",
   "metadata": {},
   "outputs": [],
   "source": [
    "v = [] # void vector containing any type (not optimal!)\n",
    "@show typeof(v)\n",
    "push!(v, 1)\n",
    "append!(v, [2.5, 3.6]) # pushes each item of the vector [2.5, 3.6]\n",
    "@show v\n",
    "push!(v, [4.1, 5.2]) # pushes a vector as new item\n",
    "@show v ;\n",
    "@show v[end]\n",
    "@show v[end-1] ;"
   ]
  },
  {
   "cell_type": "markdown",
   "id": "60986c6f",
   "metadata": {
    "deletable": false,
    "editable": false,
    "nbgrader": {
     "cell_type": "markdown",
     "checksum": "c39bcff64d57a17547b0eb2ff54bf498",
     "grade": false,
     "grade_id": "cell-5c60245c-7257-4177-8ad5-8280736c0bf5",
     "locked": true,
     "schema_version": 3,
     "solution": false,
     "task": false
    },
    "tags": [
     "DO NOT DELETE THIS CELL"
    ]
   },
   "source": [
    "- For better performance, if possible, it is preferable to inform about the type of the elements of the vector at construction"
   ]
  },
  {
   "cell_type": "code",
   "execution_count": null,
   "id": "70e181dd",
   "metadata": {},
   "outputs": [],
   "source": [
    "v = Float64[]\n",
    "@show typeof(v)\n",
    "push!(v, 1)\n",
    "append!(v, [2//3, π]) # pushes each item of the vector [2//3, π] and convert on-the-fly to Float64\n",
    "@show v\n",
    "# push!(v, [4.3, 5.7]) # throws an error since [4.3, 5.7] is not of type Float64\n",
    ";"
   ]
  },
  {
   "cell_type": "markdown",
   "id": "f66580a7",
   "metadata": {
    "deletable": false,
    "editable": false,
    "nbgrader": {
     "cell_type": "markdown",
     "checksum": "c0fb0052cfb2b5c037bd313198d21a52",
     "grade": false,
     "grade_id": "cell-f4977ea1-b5a1-424e-9fee-fdaca980f7bd",
     "locked": true,
     "schema_version": 3,
     "solution": false,
     "task": false
    },
    "tags": [
     "DO NOT DELETE THIS CELL"
    ]
   },
   "source": [
    "- Reference of an array"
   ]
  },
  {
   "cell_type": "code",
   "execution_count": null,
   "id": "53c1ee6e",
   "metadata": {},
   "outputs": [],
   "source": [
    "A = [10i+j for i in 1:2, j in 1:3]\n",
    "@show A\n",
    "B = A # B is a reference to A (both point to the same memory location)\n",
    "@show B == A # same content\n",
    "@show B === A # same memory location\n",
    "B .= 99 # .= assigns all the coefficients of the array to 99\n",
    "@show B\n",
    "@show A # A is of course also affected\n",
    ";"
   ]
  },
  {
   "cell_type": "markdown",
   "id": "9d50e6c2",
   "metadata": {
    "deletable": false,
    "editable": false,
    "nbgrader": {
     "cell_type": "markdown",
     "checksum": "b1bcabf7d9af080342e5feae5d9d86c4",
     "grade": false,
     "grade_id": "cell-be148bef-e60d-49b4-aabf-f6a69ba5b060",
     "locked": true,
     "schema_version": 3,
     "solution": false,
     "task": false
    },
    "tags": [
     "DO NOT DELETE THIS CELL"
    ]
   },
   "source": [
    "- Copy of an array"
   ]
  },
  {
   "cell_type": "code",
   "execution_count": null,
   "id": "82437e64",
   "metadata": {},
   "outputs": [],
   "source": [
    "A = [10i+j for i in 1:2, j in 1:3]\n",
    "@show A\n",
    "B = copy(A) # B and A are two distinct arrays\n",
    "@show B == A # same content\n",
    "@show B === A # not the same memory location\n",
    "B .= 99 # .= assigns all the coefficients of the array to 99\n",
    "@show B\n",
    "@show A # A unaffected\n",
    ";"
   ]
  },
  {
   "cell_type": "markdown",
   "id": "ea206209",
   "metadata": {
    "deletable": false,
    "editable": false,
    "nbgrader": {
     "cell_type": "markdown",
     "checksum": "ba1a126f2febfb397922f6503382c504",
     "grade": false,
     "grade_id": "cell-b8adcc71-989a-4d30-b1c9-98f64040f607",
     "locked": true,
     "schema_version": 3,
     "solution": false,
     "task": false
    },
    "tags": [
     "DO NOT DELETE THIS CELL"
    ]
   },
   "source": [
    "- Slicing as a l-value ≡ **reference**"
   ]
  },
  {
   "cell_type": "code",
   "execution_count": null,
   "id": "d067deb3",
   "metadata": {},
   "outputs": [],
   "source": [
    "A = [10i+j for i in 1:6, j in 1:8]\n",
    "display(A)\n",
    "A[1:2:end, 2:2:end] .= 0 # components of odd line and even column are set to 0\n",
    "display(A)\n",
    ";"
   ]
  },
  {
   "cell_type": "markdown",
   "id": "878d6044",
   "metadata": {
    "deletable": false,
    "editable": false,
    "nbgrader": {
     "cell_type": "markdown",
     "checksum": "6eb86b77c527cb1e0e6aebc468ed5cd2",
     "grade": false,
     "grade_id": "cell-9eb63c65-202a-454e-90f3-1a80f20a34bf",
     "locked": true,
     "schema_version": 3,
     "solution": false,
     "task": false
    },
    "tags": [
     "DO NOT DELETE THIS CELL"
    ]
   },
   "source": [
    "- Slicing as a r-value ≡ **copy**"
   ]
  },
  {
   "cell_type": "code",
   "execution_count": null,
   "id": "ca5cb4b9",
   "metadata": {},
   "outputs": [],
   "source": [
    "A = [10i+j for i in 1:6, j in 1:8]\n",
    "display(A)\n",
    "B = A[1:2:end, 2:2:end] # B is a copy of the submatrix\n",
    "display(B)\n",
    "B .= 0\n",
    "display(B)\n",
    "display(A) # A remains unaffected\n",
    ";"
   ]
  },
  {
   "cell_type": "markdown",
   "id": "27b38007",
   "metadata": {
    "deletable": false,
    "editable": false,
    "nbgrader": {
     "cell_type": "markdown",
     "checksum": "3e56134c555f1e9f2bfecf067b7ba611",
     "grade": false,
     "grade_id": "cell-c2f8b461-95b2-4680-ac0e-cacd4e0c6008",
     "locked": true,
     "schema_version": 3,
     "solution": false,
     "task": false
    },
    "tags": [
     "DO NOT DELETE THIS CELL"
    ]
   },
   "source": [
    "- Reference as r-value by means of `view`"
   ]
  },
  {
   "cell_type": "code",
   "execution_count": null,
   "id": "f0fb1120",
   "metadata": {},
   "outputs": [],
   "source": [
    "A = [10i+j for i in 1:6, j in 1:8]\n",
    "display(A)\n",
    "B = view(A, 1:2:size(A,1), 2:2:size(A,2)) # B is a view of the submatrix (reference not a copy)\n",
    "display(B)\n",
    "B .= 0\n",
    "display(B)\n",
    "display(A) # A is modified\n",
    ";"
   ]
  },
  {
   "cell_type": "markdown",
   "id": "ab5355ff",
   "metadata": {
    "deletable": false,
    "editable": false,
    "nbgrader": {
     "cell_type": "markdown",
     "checksum": "d84734191033d2e3ef9842be5e8d0924",
     "grade": false,
     "grade_id": "cell-7bc38450-9002-4822-b903-0e09c1b3d0c1",
     "locked": true,
     "schema_version": 3,
     "solution": false,
     "task": false
    },
    "tags": [
     "DO NOT DELETE THIS CELL"
    ]
   },
   "source": [
    "- Other ways to define slices by selection of indices"
   ]
  },
  {
   "cell_type": "code",
   "execution_count": null,
   "id": "378951e1",
   "metadata": {},
   "outputs": [],
   "source": [
    "A = [10i+j for i in 1:6, j in 1:8]\n",
    "A[isodd.(1:end), iseven.(1:end)] .= 0 ; display(A)\n",
    "A = [10i+j for i in 1:6, j in 1:8]\n",
    "A[findall(isodd,A)] .= 0 ; display(A) ;"
   ]
  },
  {
   "cell_type": "markdown",
   "id": "0ef446d9",
   "metadata": {
    "deletable": false,
    "editable": false,
    "nbgrader": {
     "cell_type": "markdown",
     "checksum": "4c7ae62da988f2bb0626e473a2390020",
     "grade": false,
     "grade_id": "cell-03d06716-548f-4db9-a191-2c8bb742d39a",
     "locked": true,
     "schema_version": 3,
     "solution": false,
     "task": false
    },
    "tags": [
     "DO NOT DELETE THIS CELL"
    ]
   },
   "source": [
    "- Explain the following lines"
   ]
  },
  {
   "cell_type": "code",
   "execution_count": null,
   "id": "bb3cfeb3",
   "metadata": {},
   "outputs": [],
   "source": [
    "A = [10i+j for i in 1:6, j in 1:8]\n",
    "B = view(A, collect(1:size(A,1)) .% 3 .== 0, collect(1:size(A,2)) .% 5 .!= 0)\n",
    "B .= 0\n",
    "A"
   ]
  },
  {
   "cell_type": "code",
   "execution_count": null,
   "id": "6554cfec",
   "metadata": {},
   "outputs": [],
   "source": [
    "A = rand(5, 5) ; display(A)\n",
    "A[findall(x -> x < 1/2, A)] .= 0\n",
    "A"
   ]
  },
  {
   "cell_type": "code",
   "execution_count": null,
   "id": "7cd08825",
   "metadata": {},
   "outputs": [],
   "source": [
    "n, m = 7, 9\n",
    "B = rand(n, m)\n",
    "u = rand(m)\n",
    "display(B*u)\n",
    "subi = collect(1:n) .% 3 .!= 0 ; @show subi\n",
    "subj = collect(1:m) .% 3 .== 0 ; @show subj\n",
    "B[subi,subj]*u[subj]"
   ]
  },
  {
   "cell_type": "markdown",
   "id": "fcc92e23",
   "metadata": {
    "deletable": false,
    "editable": false,
    "nbgrader": {
     "cell_type": "markdown",
     "checksum": "18bda92fe38d520597f62ef18fa7755d",
     "grade": false,
     "grade_id": "cell-ac9a8ad6-0534-467a-8f28-c2c3a8530acc",
     "locked": true,
     "schema_version": 3,
     "solution": false,
     "task": false
    },
    "tags": [
     "DO NOT DELETE THIS CELL"
    ]
   },
   "source": [
    "#### <font color='orange'>[Exercise 5]</font>\n",
    "\n",
    "Write a function which computes the comatrix of a matrix explicitly from the determinant of submatrices.\n",
    "\n",
    "It is recalled that the component $C_{ij}$ of the comatrix of $A$ is obtained as the determinant of the submatrix obtained from $A$ by removing its $i^\\textrm{th}$ row and $j^\\textrm{th}$ column multiplied by $(-1)^{i+j}.$ The determinant of a small dense matrix is computed by the function `det` available in the library `LinearAlgebra`."
   ]
  },
  {
   "cell_type": "code",
   "execution_count": null,
   "id": "1d8330aa",
   "metadata": {
    "deletable": false,
    "nbgrader": {
     "cell_type": "code",
     "checksum": "f142bb9f6c71cf0ec8260859540144a6",
     "grade": false,
     "grade_id": "comatrix",
     "locked": false,
     "schema_version": 3,
     "solution": true,
     "task": false
    },
    "tags": [
     "DO NOT DELETE THIS CELL"
    ]
   },
   "outputs": [],
   "source": [
    "using LinearAlgebra\n",
    "function comatrix(A)\n",
    "    C = zero(A)\n",
    "    # YOUR CODE HERE [⚠ DO NOT DELETE THIS CELL]\n",
    "    throw(ErrorException(\"No code provided\"))\n",
    "    return C\n",
    "end"
   ]
  },
  {
   "cell_type": "code",
   "execution_count": null,
   "id": "b4e1a9f5",
   "metadata": {
    "deletable": false,
    "editable": false,
    "nbgrader": {
     "cell_type": "code",
     "checksum": "cfbe10445cf14f31d83e97ca4391ed86",
     "grade": true,
     "grade_id": "comatrix-test",
     "locked": true,
     "points": 4,
     "schema_version": 3,
     "solution": false,
     "task": false
    },
    "tags": [
     "DO NOT DELETE THIS CELL"
    ]
   },
   "outputs": [],
   "source": [
    "n = 10\n",
    "A = rand(n, n)\n",
    "C = comatrix(A)\n",
    "display(C'A)\n",
    "@assert C'A ≈ det(A)*LinearAlgebra.I"
   ]
  },
  {
   "cell_type": "markdown",
   "id": "d91e1597",
   "metadata": {
    "deletable": false,
    "editable": false,
    "jp-MarkdownHeadingCollapsed": true,
    "nbgrader": {
     "cell_type": "markdown",
     "checksum": "d90749302305f87f17379e089a1af93f",
     "grade": false,
     "grade_id": "cell-5c0f7b54-1d45-46fb-bee4-91fa178a7f6b",
     "locked": true,
     "schema_version": 3,
     "solution": false,
     "task": false
    },
    "tags": [
     "DO NOT DELETE THIS CELL"
    ]
   },
   "source": [
    "### <font color='green'>Creating custom structures</font>"
   ]
  },
  {
   "cell_type": "markdown",
   "id": "8a76fbb3",
   "metadata": {
    "deletable": false,
    "editable": false,
    "nbgrader": {
     "cell_type": "markdown",
     "checksum": "251f2efbaa0d988ac711686c8cc3b8bc",
     "grade": false,
     "grade_id": "cell-a8f02660-4f8e-4246-be1c-f07ceb73dd24",
     "locked": true,
     "schema_version": 3,
     "solution": false,
     "task": false
    },
    "tags": [
     "DO NOT DELETE THIS CELL"
    ]
   },
   "source": [
    "Julia is not an object-oriented language.\n",
    "Instead, it supports *multiple dispatch*,\n",
    "which is eloquently motivated in the [Julia documentation](https://docs.julialang.org/en/v1/manual/methods/)\n",
    "\n",
    "> The choice of which method to execute when a function is applied is called dispatch. Julia allows the dispatch process to choose which of a function's methods to call based on the number of arguments given, and on the types of all of the function's arguments. This is different from traditional object-oriented languages, where dispatch occurs based only on the first argument, which often has a special argument syntax, and is sometimes implied rather than explicitly written as an argument. Using all of a function's arguments to choose which method should be invoked, rather than just the first, is known as multiple dispatch. Multiple dispatch is particularly useful for mathematical code, where it makes little sense to artificially deem the operations to \"belong\" to one argument more than any of the others: does the addition operation in x + y belong to x any more than it does to y? The implementation of a mathematical operator generally depends on the types of all of its arguments. Even beyond mathematical operations, however, multiple dispatch ends up being a powerful and convenient paradigm for structuring and organizing programs."
   ]
  },
  {
   "cell_type": "code",
   "execution_count": null,
   "id": "78ef0871",
   "metadata": {},
   "outputs": [],
   "source": [
    "struct Dog\n",
    "  name::String\n",
    "end\n",
    "\n",
    "struct Cat\n",
    "  name::String\n",
    "end\n",
    "\n",
    "greet(a::Dog, b::Dog) = \"$(a.name): Wouf wouf $(b.name), content de te revoir mon vieux\"\n",
    "greet(a::Dog, b::Cat) = \"$(a.name): Wouf wouf wouf wouf !\"\n",
    "greet(a::Cat, b::Dog) = \"$(a.name) s'éloigne discrètement de $(b.name)\"\n",
    "greet(a::Cat, b::Cat) = \"$(a.name) commence à ronronner\"\n",
    "\n",
    "milou = Dog(\"Milou\")\n",
    "rantanplan = Dog(\"Rantanplan\")\n",
    "miaouss = Cat(\"Miaouss\")\n",
    "mrMoustache = Cat(\"MrMoustache\")\n",
    "\n",
    "@show greet(milou, rantanplan)\n",
    "@show greet(milou, mrMoustache)\n",
    "@show greet(mrMoustache, miaouss)\n",
    "@show greet(mrMoustache, rantanplan);"
   ]
  },
  {
   "cell_type": "markdown",
   "id": "cf23cac4",
   "metadata": {
    "deletable": false,
    "editable": false,
    "nbgrader": {
     "cell_type": "markdown",
     "checksum": "684194be9d5ba2eca887479d8ff0f455",
     "grade": false,
     "grade_id": "cell-219a484b-a3fc-4e52-8f54-f0f750d68dc0",
     "locked": true,
     "schema_version": 3,
     "solution": false,
     "task": false
    },
    "tags": [
     "DO NOT DELETE THIS CELL"
    ]
   },
   "source": [
    "To conclude this session,\n",
    "let us illustrate the power of multiple disptach using two other examples.\n",
    "First, let us create a specific type for the identity matrix,\n",
    "and redefine the operations `+` and `*` on matrices so that they work with this new type."
   ]
  },
  {
   "cell_type": "code",
   "execution_count": null,
   "id": "1028ece2",
   "metadata": {},
   "outputs": [],
   "source": [
    "struct IdentityMatrix end\n",
    "\n",
    "# This is required to redefine + and *\n",
    "import Base: +,*\n",
    "\n",
    "function +(A::Matrix, Id::IdentityMatrix)\n",
    "    result = copy(A)\n",
    "    for i in 1:size(A, 1)\n",
    "        result[i, i] += 1\n",
    "    end\n",
    "    return result\n",
    "end\n",
    "\n",
    "+(Id::IdentityMatrix, A::Matrix) = +(A, Id)\n",
    "*(A::Matrix, Id::IdentityMatrix) = copy(A)\n",
    "*(Id::IdentityMatrix, A::Matrix) = copy(A)\n",
    "\n",
    "A = ones(3, 3)\n",
    "Id = IdentityMatrix()\n",
    "\n",
    "# We can now write operations such as\n",
    "@show A\n",
    "@show A + Id\n",
    "@show Id + A\n",
    "@show A * Id;"
   ]
  },
  {
   "cell_type": "markdown",
   "id": "05e62f86",
   "metadata": {
    "deletable": false,
    "editable": false,
    "nbgrader": {
     "cell_type": "markdown",
     "checksum": "624ce49e675efe448328584d79c6e2e8",
     "grade": false,
     "grade_id": "cell-239c44ed-4233-480b-a908-c9cb46d552e0",
     "locked": true,
     "schema_version": 3,
     "solution": false,
     "task": false
    },
    "tags": [
     "DO NOT DELETE THIS CELL"
    ]
   },
   "source": [
    "Note that we did not need to modify the internal implementation of matrices.\n",
    "Remark also that, with our implementation of the identity matrix,\n",
    "the product `A*I` is virtually free.\n",
    "Had the identity matrix been stored as a full matrix,\n",
    "a lot of computing power would have been wasted in the matrix multiplication."
   ]
  },
  {
   "cell_type": "code",
   "execution_count": null,
   "id": "02681d85",
   "metadata": {},
   "outputs": [],
   "source": [
    "n = 5000\n",
    "A = rand(n, n)\n",
    "I1 = IdentityMatrix()\n",
    "I2 = [(i == j)*1.0 for i in 1:n, j in 1:n]\n",
    "\n",
    "@time A*I1;\n",
    "@time A*I2;"
   ]
  },
  {
   "cell_type": "markdown",
   "id": "0fd0592c",
   "metadata": {
    "deletable": false,
    "editable": false,
    "nbgrader": {
     "cell_type": "markdown",
     "checksum": "4324b9904d1c5894ab5b8c290af713de",
     "grade": false,
     "grade_id": "cell-221271bd-4684-418a-8e4e-0076dfcbd667",
     "locked": true,
     "schema_version": 3,
     "solution": false,
     "task": false
    },
    "tags": [
     "DO NOT DELETE THIS CELL"
    ]
   },
   "source": [
    "#### <font color='orange'>[Exercise 6]</font>\n",
    "The aim of this exercise is to create a structure to represent dual numbers.\n",
    "Dual numbers are a mathematical construct that extends\n",
    "the real numbers by introducing a new element, often\n",
    "denoted by $\\varepsilon$, such that $\\varepsilon^2 = 0$.\n",
    "A dual number is composed of a real part and a dual part,\n",
    "where the dual part behaves like an infinitesimal quantity.\n",
    "They will be very useful later in the course,\n",
    "when we study automatic differentiation, a technique\n",
    "for efficiently computing derivatives numerically.\n",
    "Complete the structure definition below by adding the operations `-`, `*` and `/` to the dual numbers."
   ]
  },
  {
   "cell_type": "code",
   "execution_count": null,
   "id": "68aadf95",
   "metadata": {
    "deletable": false,
    "jupyter": {
     "source_hidden": true
    },
    "nbgrader": {
     "cell_type": "code",
     "checksum": "6ec3a0f9e7690e11ffbf57af42c1e80c",
     "grade": false,
     "grade_id": "dual",
     "locked": false,
     "schema_version": 3,
     "solution": true,
     "task": false
    },
    "tags": [
     "DO NOT DELETE THIS CELL"
    ]
   },
   "outputs": [],
   "source": [
    "import Base: +, -, *, /, show\n",
    "\n",
    "struct Dual\n",
    "    real::Float64\n",
    "    dual::Float64\n",
    "end\n",
    "\n",
    "+(x::Dual, y::Dual) = Dual(x.real + y.real, x.dual + y.dual)\n",
    "# YOUR CODE HERE [⚠ DO NOT DELETE THIS CELL]\n",
    "throw(ErrorException(\"No code provided\"))\n",
    "\n",
    "show(io::IO, x::Dual) = print(io, x.real, x.dual ≥ 0 ? \" + $(x.dual)\" : \" - $(-x.dual)\", \" ε\")\n",
    "\n",
    "# Example usage\n",
    "a = Dual(3.0, 2.0)  # 3 + 2ε\n",
    "b = Dual(1.0, 4.0)  # 1 + 4ε\n",
    "\n",
    "@show a + b\n",
    "@show a - b\n",
    "@show a * b\n",
    "@show a / b;"
   ]
  },
  {
   "cell_type": "code",
   "execution_count": null,
   "id": "20bffba7",
   "metadata": {
    "deletable": false,
    "editable": false,
    "nbgrader": {
     "cell_type": "code",
     "checksum": "aa3ff27557d4736c72cbfc8196f88f12",
     "grade": true,
     "grade_id": "dual-tests",
     "locked": true,
     "points": 4,
     "schema_version": 3,
     "solution": false,
     "task": false
    },
    "tags": [
     "DO NOT DELETE THIS CELL"
    ]
   },
   "outputs": [],
   "source": [
    "@assert a + b == Dual(4, 6)\n",
    "@assert a - b == Dual(2, -2)\n",
    "@assert a * b == Dual(3, 14)\n",
    "@assert a / b == Dual(3, -10)"
   ]
  }
 ],
 "metadata": {
  "jupytext": {
   "encoding": "# -*- coding: utf-8 -*-"
  },
  "kernelspec": {
   "display_name": "Julia 1.11.4",
   "language": "julia",
   "name": "julia-1.11"
  },
  "language_info": {
   "file_extension": ".jl",
   "mimetype": "application/julia",
   "name": "julia",
   "version": "1.11.4"
  }
 },
 "nbformat": 4,
 "nbformat_minor": 5
}
