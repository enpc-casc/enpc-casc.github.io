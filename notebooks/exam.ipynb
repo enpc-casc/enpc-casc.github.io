{
 "cells": [
  {
   "cell_type": "markdown",
   "id": "d2efc695",
   "metadata": {
    "deletable": false,
    "editable": false,
    "nbgrader": {
     "cell_type": "markdown",
     "checksum": "7fed134749c7f97f752db58234b409d9",
     "grade": false,
     "grade_id": "cell-e4f9a84ea7547eac",
     "locked": true,
     "schema_version": 3,
     "solution": false,
     "task": false
    }
   },
   "source": [
    "# Cours ENPC - Pratique du calcul scientifique"
   ]
  },
  {
   "cell_type": "markdown",
   "id": "a365de08",
   "metadata": {
    "deletable": false,
    "editable": false,
    "nbgrader": {
     "cell_type": "markdown",
     "checksum": "65271d1e40abdf55d097eb6740bce2d6",
     "grade": false,
     "grade_id": "cell-fd8fe66990449d77",
     "locked": true,
     "schema_version": 3,
     "solution": false,
     "task": false
    },
    "slideshow": {
     "slide_type": ""
    },
    "tags": []
   },
   "source": [
    "#### Instructions:\n",
    "\n",
    "- Before you turn in this assignment, make sure everything runs as expected. To check this, **restart VS Code** and then **run all cells**.\n",
    "\n",
    "- <mark style=\"color: red;\">\n",
    "    Most of the exercises in this notebook will be graded automatically.\n",
    "    You may modify the content of existing cells and add new cells.\n",
    "    However, to ensure smooth automatic grading,\n",
    "    <strong>do not remove or alter the metadata of the cells given,</strong>\n",
    "    especially those requiring your input. </mark>\n",
    "\n",
    "- Make sure you fill in any place that says `YOUR CODE HERE` or `YOUR ANSWER HERE`, as well as your name below:\n",
    "\n",
    "- Make sure to remove the lines `error(\"No code provided\")` once you have filled in your solution."
   ]
  },
  {
   "cell_type": "code",
   "execution_count": null,
   "id": "0a3e620f",
   "metadata": {
    "deletable": false,
    "editable": true,
    "slideshow": {
     "slide_type": ""
    },
    "tags": []
   },
   "outputs": [],
   "source": [
    "NAME = \"Prénom Nom\"\n",
    "\n",
    "# By submitting the notebook, you agree with the following sentence\n",
    "println(\"I certify that this notebook is the result of my own independent work. Signed: $NAME\")"
   ]
  },
  {
   "cell_type": "markdown",
   "id": "0136f8ef",
   "metadata": {
    "deletable": false,
    "editable": false,
    "nbgrader": {
     "cell_type": "markdown",
     "checksum": "5e1d2c292d31e2f6f806350e33db43f9",
     "grade": false,
     "grade_id": "cell-cf7f65d0-4b27-4745-9d8f-2d6073d1b4bd",
     "locked": true,
     "schema_version": 3,
     "solution": false,
     "task": false
    },
    "tags": [
     "DO NOT DELETE THIS CELL"
    ]
   },
   "source": [
    "## Examen final\n",
    "\n",
    "- Ce notebook est à soumettre sur <a href=\"https://educnet.enpc.fr/mod/assign/view.php?id=70941\">Educnet</a> avant 11h30.\n",
    "\n",
    "- L’examen comporte trois exercices indépendants. Dans chaque exercice,\n",
    "  les cellules peuvent éventuellement dependre des cellules précèdentes.\n",
    "\n",
    "- Afin de faciliter l'évaluation de votre code,\n",
    "  ne pas changer les signatures des fonctions à implémenter.\n",
    "\n",
    "- La cellule ci-dessous importe les bibliothèques utilisées dans ce notebook. Ce sont *a priori* des bibliothèques déjà présentes dans l'installation de base de Julia ou déjà installées en TD. Si une ou plusieurs d'entre elles manquent sur votre machine, vous êtes invités à les installer au préalable dans le gestionnaire de bibliothèques d'une console."
   ]
  },
  {
   "cell_type": "code",
   "execution_count": null,
   "id": "a57b1a8f",
   "metadata": {
    "deletable": false,
    "editable": false,
    "lines_to_next_cell": 2,
    "nbgrader": {
     "cell_type": "code",
     "checksum": "d77bcfa8751fa261410c5e23c023c0f3",
     "grade": false,
     "grade_id": "cell-4d638a879ba6f86e",
     "locked": true,
     "schema_version": 3,
     "solution": false,
     "task": false
    },
    "tags": [
     "DO NOT DELETE THIS CELL"
    ]
   },
   "outputs": [],
   "source": [
    "using ForwardDiff\n",
    "using LaTeXStrings\n",
    "using LinearAlgebra\n",
    "using Plots\n",
    "using Polynomials\n",
    "using Random\n",
    "\n",
    "Plots.default(titlefontsize=12,\n",
    "              xlabelfontsize=10,\n",
    "              ylabelfontsize=10,\n",
    "              legendfontsize=10,\n",
    "              xtickfontsize=10,\n",
    "              ytickfontsize=10)"
   ]
  },
  {
   "cell_type": "markdown",
   "id": "ee1f7b73",
   "metadata": {
    "deletable": false,
    "editable": false,
    "nbgrader": {
     "cell_type": "markdown",
     "checksum": "8b1a2a31a012c93f64005ec021617762",
     "grade": false,
     "grade_id": "cell-5668502a-1f3f-45fc-b3e8-c852bf3be1f5",
     "locked": true,
     "schema_version": 3,
     "solution": false,
     "task": false
    },
    "tags": [
     "DO NOT DELETE THIS CELL"
    ]
   },
   "source": [
    "### <font color='orange'>[Exercice 1]</font> Intégration par interpolation\n",
    "Le but de cet exercice est de calculer l'intégrale de la fonction $f \\colon [-5, \\,5] \\to \\mathbb{R} $ donnée par\n",
    "\n",
    "$$\n",
    "    f (x) = \\log(1 + |x| - x^3 + x^4).\n",
    "$$\n",
    "\n",
    "Pour cela, nous vous proposons d'interpoler cette fonction par un polynome sur l'intervalle $[-5, \\, 5]$,\n",
    "puis d'intégrer ce dernier."
   ]
  },
  {
   "cell_type": "markdown",
   "id": "b1dfb275",
   "metadata": {
    "deletable": false,
    "editable": false,
    "nbgrader": {
     "cell_type": "markdown",
     "checksum": "52559f17d73039356329d7e24c366d7a",
     "grade": false,
     "grade_id": "cell-6f2c4c97-6d6a-409a-9d4b-5cc9fd5ab5fc",
     "locked": true,
     "schema_version": 3,
     "solution": false,
     "task": false
    },
    "tags": [
     "DO NOT DELETE THIS CELL"
    ]
   },
   "source": [
    "1. Ecrire une fonction `interpolate(func, d, a)` qui retourne le polynôme $p$ (de type `Polynomial` de la bibliothèque `Polynomials.jl`) résultant de l'interpolation polyonmiale de la fonction `func` sur l'intervalle $[-a, a]$ de degré $d$.\n",
    "   Pour cela, vous pourrez utiliser la fonction `fit` de la bibliothèque `Polynomials.jl`,\n",
    "   et choisir les nœuds d'interpolation de la manière qui vous semble la mieux adaptée."
   ]
  },
  {
   "cell_type": "code",
   "execution_count": null,
   "id": "937ba795",
   "metadata": {
    "deletable": false,
    "nbgrader": {
     "cell_type": "code",
     "checksum": "dc5e1ddcdcbdf2a742a924db11cd120d",
     "grade": false,
     "grade_id": "cell-9394231c33976f4e",
     "locked": false,
     "schema_version": 3,
     "solution": true,
     "task": false
    },
    "tags": [
     "DO NOT DELETE THIS CELL"
    ]
   },
   "outputs": [],
   "source": [
    "f(x) = log(1 + abs(x) - x^3 + x^4)\n",
    "\n",
    "function interpolate(func, d, a)\n",
    "    # YOUR CODE HERE [⚠ DO NOT DELETE THIS CELL]\n",
    "    error(\"No code provided\")\n",
    "    return p\n",
    "end;"
   ]
  },
  {
   "cell_type": "code",
   "execution_count": null,
   "id": "8af3318b",
   "metadata": {
    "deletable": false,
    "editable": false,
    "nbgrader": {
     "cell_type": "code",
     "checksum": "0596bf0bbbf63839e1d462095d743b1f",
     "grade": true,
     "grade_id": "cell-03231e23438c80ba",
     "locked": true,
     "points": 2,
     "schema_version": 3,
     "solution": false,
     "task": false
    },
    "tags": [
     "DO NOT DELETE THIS CELL"
    ]
   },
   "outputs": [],
   "source": [
    "@assert typeof(interpolate(f, 20, 5)) <: Polynomial\n",
    "@assert length(interpolate(f, 20, 5).coeffs) == 21\n",
    "@assert begin xs = LinRange(-1, 1, 200); interpolate(cos, 20, 1).(xs) .- cos.(xs) |> maximum end ≤ 1e-14\n",
    "@assert begin xs = LinRange(-1, 1, 200); func = x -> x^3; p = interpolate(func, 20, 1); sum(abs2, p.(xs) - func.(xs)) end ≤ 1e-14"
   ]
  },
  {
   "cell_type": "markdown",
   "id": "a016791b",
   "metadata": {
    "deletable": false,
    "editable": false,
    "nbgrader": {
     "cell_type": "markdown",
     "checksum": "373da0c1e6b5d2282dea426c0b0c8b5c",
     "grade": false,
     "grade_id": "cell-1bcc298c-a8f3-4bb3-8c18-c88cf7a5500b",
     "locked": true,
     "schema_version": 3,
     "solution": false,
     "task": false
    },
    "tags": [
     "DO NOT DELETE THIS CELL"
    ]
   },
   "source": [
    "2. Illustrer sur un même graphique la fonction `f` définie ci-dessus,\n",
    "   ainsi que son interpolation de degré 20."
   ]
  },
  {
   "cell_type": "code",
   "execution_count": null,
   "id": "0e6e31b7",
   "metadata": {
    "deletable": false,
    "nbgrader": {
     "cell_type": "code",
     "checksum": "c19c44651f8131c6c18f5548aaa28f50",
     "grade": true,
     "grade_id": "cell-126090ab174ebfad",
     "locked": false,
     "points": 1,
     "schema_version": 3,
     "solution": true,
     "task": false
    },
    "tags": [
     "DO NOT DELETE THIS CELL"
    ]
   },
   "outputs": [],
   "source": [
    "# YOUR CODE HERE [⚠ DO NOT DELETE THIS CELL]\n",
    "error(\"No code provided\")"
   ]
  },
  {
   "cell_type": "markdown",
   "id": "df697514",
   "metadata": {
    "deletable": false,
    "editable": false,
    "nbgrader": {
     "cell_type": "markdown",
     "checksum": "50c8893414a76806521e6df0af4000c8",
     "grade": false,
     "grade_id": "cell-9ac3d4ab-80e2-4267-a41e-ff793e35e103",
     "locked": true,
     "schema_version": 3,
     "solution": false,
     "task": false
    },
    "tags": [
     "DO NOT DELETE THIS CELL"
    ]
   },
   "source": [
    "3. Écrire une fonction `integrate_via_interp(func, d, a)` qui retourne une approximation de l'intégrale\n",
    "   $$\n",
    "   \\int_{-a}^a \\mathrm{func}(x) \\, \\mathrm{d} x\\, ,\n",
    "   $$\n",
    "   en calculant d'abord une interpolation de degré `d` de la fonction passée en argument,\n",
    "   puis en intégrant cette dernière de manière exacte.\n",
    "   Pour cela,\n",
    "   on pourra utiliser la fonction `integrate` de la bibliothèque `Polynomials.jl`,\n",
    "   qui permet de calculer la primitve d'un polynôme:\n",
    "\n",
    "   ```julia\n",
    "       P = integrate(p)\n",
    "   ```"
   ]
  },
  {
   "cell_type": "code",
   "execution_count": null,
   "id": "dbc97a90",
   "metadata": {
    "deletable": false,
    "nbgrader": {
     "cell_type": "code",
     "checksum": "85aa1f245f738dcd230d26b08a8cc4ac",
     "grade": false,
     "grade_id": "cell-e297b806594c629b",
     "locked": false,
     "schema_version": 3,
     "solution": true,
     "task": false
    },
    "tags": [
     "DO NOT DELETE THIS CELL"
    ]
   },
   "outputs": [],
   "source": [
    "function integrate_via_interp(func, d, a)\n",
    "    # YOUR CODE HERE [⚠ DO NOT DELETE THIS CELL]\n",
    "    error(\"No code provided\")\n",
    "end;"
   ]
  },
  {
   "cell_type": "code",
   "execution_count": null,
   "id": "f38f0dd1",
   "metadata": {
    "deletable": false,
    "editable": false,
    "nbgrader": {
     "cell_type": "code",
     "checksum": "970e46cc69fa771b54871fa8ce362c26",
     "grade": true,
     "grade_id": "cell-089a2cc5c9c44ecc",
     "locked": true,
     "points": 1,
     "schema_version": 3,
     "solution": false,
     "task": false
    },
    "tags": [
     "DO NOT DELETE THIS CELL"
    ]
   },
   "outputs": [],
   "source": [
    "funcs = [x -> 1, x -> x, x -> x^2, x -> x^3]\n",
    "@assert integrate_via_interp.(funcs, 20, 1) ≈ [2, 0, 2/3, 0]\n",
    "@assert integrate_via_interp(exp, 20, 1) ≈ exp(1) - exp(-1)\n",
    "@assert integrate_via_interp(cos, 20, 5) ≈ sin(5) - sin(-5)\n",
    "@assert integrate_via_interp(x -> 1 + 3x^3, 5, 1) ≈ 2.0\n",
    "@assert abs(integrate_via_interp(f, 20, 5) - 34.070458) ≤ 0.5"
   ]
  },
  {
   "cell_type": "markdown",
   "id": "d4141705",
   "metadata": {
    "deletable": false,
    "editable": false,
    "nbgrader": {
     "cell_type": "markdown",
     "checksum": "bfac2379ec876fe0a6bd806b8fefc3b0",
     "grade": false,
     "grade_id": "cell-6f72c334-f58f-4bd3-a539-ed2f41634402",
     "locked": true,
     "schema_version": 3,
     "solution": false,
     "task": false
    },
    "tags": [
     "DO NOT DELETE THIS CELL"
    ]
   },
   "source": [
    "### <font color='orange'>[Exercice 2]</font> Une méthode d'ordre élevé pour les équations non-linéaires"
   ]
  },
  {
   "cell_type": "markdown",
   "id": "a9d93a90",
   "metadata": {
    "deletable": false,
    "editable": false,
    "nbgrader": {
     "cell_type": "markdown",
     "checksum": "22d8cb51035efe4cd222ca03a6639ac5",
     "grade": false,
     "grade_id": "cell-4685e5c0-1ff7-4f29-a00f-cb90e54a0dc7",
     "locked": true,
     "schema_version": 3,
     "solution": false,
     "task": false
    },
    "tags": [
     "DO NOT DELETE THIS CELL"
    ]
   },
   "source": [
    "Le but de cet exercice est de mettre en œuvre une méthode de résolution pour l'équation non-linéaire **scalaire** suivante :\n",
    "$$\n",
    "f(x) = 0,\n",
    "\\qquad f \\colon \\mathbb R \\to \\mathbb R\n",
    "$$\n",
    "Inspiré par la méthode de Newton-Raphson,\n",
    "qui est basée sur une approximation affine de $f$ à chaque itération,\n",
    "on a l'idée de définir un schéma itératif basé sur des approximations quadratiques de $f$.\n",
    "Plus précisément, on considère la méthode itérative qui consiste à définir,\n",
    "étant donné une approximation $x_k$,\n",
    "l'approximation $x_{k+1}$ de la manière suivante :\n",
    "\n",
    "- Considérons le polynôme de Taylor quadratique $p_k$ approximant $f$ autour de $x_k$:\n",
    "  $$\n",
    "  p_k(x) = \\frac{f''(x_k)}{2} (x - x_k)^2 + f'(x_k) (x - x_k) + f(x_k).\n",
    "  $$\n",
    "\n",
    "- Si ce polynôme admet deux racines $r_1 \\leqslant r_2$ (éventuellement égales),\n",
    "  alors on pose $x_{k+1} = r_1$ si $|x_k - r_1| \\leqslant |x_k - r_2|$,\n",
    "  et $x_{k+1} = r_2$ sinon.\n",
    "\n",
    "- Si ce polynôme n'admet pas de racine,\n",
    "  on considérera que la méthode ne fonctionne pas.\n",
    "  La fonction à implémenter ci-dessous devra retourner `nothing`."
   ]
  },
  {
   "cell_type": "markdown",
   "id": "c3d20342",
   "metadata": {
    "deletable": false,
    "editable": false,
    "nbgrader": {
     "cell_type": "markdown",
     "checksum": "359a7bee81514b6762691ffef275a781",
     "grade": false,
     "grade_id": "cell-0a9c804e-bd2f-47fa-b9d5-417d11d8f474",
     "locked": true,
     "schema_version": 3,
     "solution": false,
     "task": false
    },
    "tags": [
     "DO NOT DELETE THIS CELL"
    ]
   },
   "source": [
    "1. Implémenter la méthode suggérée\n",
    "   et retourner l'ensemble des itérations,\n",
    "   y compris le point initial `x` passé en argument et l'approximation finale, dans un vecteur `xs`.\n",
    "   On supposera que l'argument `x` est un nombre flottant (`Float16`, `Float32`, `Float64` ou `BigFloat`),\n",
    "   et on demande de retourner dans le vecteur `xs` des flottants du même type.\n",
    "   Ici `f` est une fonction, `df` est sa dérivée, et `ddf` sa dérivée seconde."
   ]
  },
  {
   "cell_type": "code",
   "execution_count": null,
   "id": "94188e2a",
   "metadata": {
    "deletable": false,
    "nbgrader": {
     "cell_type": "code",
     "checksum": "fb1b7fec0706367b2ae6bee661aab732",
     "grade": false,
     "grade_id": "cell-cf42831c0ef782c8",
     "locked": false,
     "schema_version": 3,
     "solution": true,
     "task": false
    },
    "tags": [
     "DO NOT DELETE THIS CELL"
    ]
   },
   "outputs": [],
   "source": [
    "function super_newton(x, f, df, ddf; maxiter=100, ε = 1e-12)\n",
    "    xs = [x]\n",
    "    # YOUR CODE HERE [⚠ DO NOT DELETE THIS CELL]\n",
    "    error(\"No code provided\")\n",
    "    return xs\n",
    "end;"
   ]
  },
  {
   "cell_type": "code",
   "execution_count": null,
   "id": "8b28140c",
   "metadata": {
    "deletable": false,
    "editable": false,
    "nbgrader": {
     "cell_type": "code",
     "checksum": "dbf72a0ed1aab193ae68e1c5e323947e",
     "grade": true,
     "grade_id": "cell-eeaaf997aeb28407",
     "locked": true,
     "points": 2,
     "schema_version": 3,
     "solution": false,
     "task": false
    },
    "tags": [
     "DO NOT DELETE THIS CELL"
    ]
   },
   "outputs": [],
   "source": [
    "funs = x -> exp(x) - 2, exp, exp\n",
    "@assert super_newton(1., funs...) |> typeof === Vector{Float64}\n",
    "@assert super_newton(1.f0, funs...) |> typeof === Vector{Float32}\n",
    "@assert super_newton(BigFloat(1.), funs...) |> typeof === Vector{BigFloat}\n",
    "@assert super_newton(1., funs...)[end] ≈ log(2)\n",
    "@assert super_newton(3., x -> x^3 - x - 6, x -> 3*x^2 - 1, x -> 6x)[end] ≈ 2\n",
    "@assert super_newton(1., x -> sin(x) - .5, cos, x -> -sin(x))[end] ≈ π/6\n",
    "@assert super_newton(1., x -> x^3, x -> 3x^2, x -> 6x) === nothing"
   ]
  },
  {
   "cell_type": "markdown",
   "id": "ec8cdd87",
   "metadata": {
    "deletable": false,
    "editable": false,
    "nbgrader": {
     "cell_type": "markdown",
     "checksum": "5e49abe99493e07bb2f0eb01dc12e6ca",
     "grade": false,
     "grade_id": "cell-42195e86-be81-4514-bd33-f13e98968b7c",
     "locked": true,
     "schema_version": 3,
     "solution": false,
     "task": false
    },
    "tags": [
     "DO NOT DELETE THIS CELL"
    ]
   },
   "source": [
    "2. Faire un graphique illustrant l'évolution de l'erreur dans le cas où $f(x) = x^3 - 2$.\n",
    "   Initialiser l'itération à $x_0 = 1$,\n",
    "   et utiliser le format `BigFloat` avec une grande précision,\n",
    "   ainsi qu'une très petite tolérance $ε = 10^{-200}$,\n",
    "   afin d'illustrer la convergence aussi clairement que possible.\n",
    "   Pour éviter d'encombrer le namespace global,\n",
    "   on encapsulera le code du graphique dans une fonction."
   ]
  },
  {
   "cell_type": "code",
   "execution_count": null,
   "id": "b9087f01",
   "metadata": {
    "deletable": false,
    "nbgrader": {
     "cell_type": "code",
     "checksum": "1efddffed8491b0e3cb7752ae0ed4a52",
     "grade": true,
     "grade_id": "cell-ae6e3ff1f9ad4065",
     "locked": false,
     "points": 2,
     "schema_version": 3,
     "solution": true,
     "task": false
    },
    "tags": [
     "DO NOT DELETE THIS CELL"
    ]
   },
   "outputs": [],
   "source": [
    "# Augmentation de la précision pour le format BigFloat\n",
    "setprecision(1000, base=10)\n",
    "\n",
    "# Fonction dont on cherche une racine\n",
    "f(x) = x^3 - 2.0\n",
    "\n",
    "function my_plot_error()\n",
    "    p = plot(title=L\"Evolution of the error for $f(x) = x^3 - 2$\")\n",
    "    # YOUR CODE HERE [⚠ DO NOT DELETE THIS CELL]\n",
    "    error(\"No code provided\")\n",
    "    return p\n",
    "end\n",
    "my_plot_error()"
   ]
  },
  {
   "cell_type": "markdown",
   "id": "71ac4553",
   "metadata": {
    "deletable": false,
    "editable": false,
    "nbgrader": {
     "cell_type": "markdown",
     "checksum": "1b6ffc1d17f17ba4b21426d7ec05f061",
     "grade": false,
     "grade_id": "cell-296c4e4c-8c55-46ff-978c-5ebc25811207",
     "locked": true,
     "schema_version": 3,
     "solution": false,
     "task": false
    },
    "tags": [
     "DO NOT DELETE THIS CELL"
    ]
   },
   "source": [
    "3. Supposons qu'une suite $(x_0, x_1, \\dotsc)$,\n",
    "   dont on ne connaît qu'un nombre fini d'éléments $(x_0, \\dotsc, x_K)$,\n",
    "   converge à l'ordre $q$ vers une limite $x_{*} \\in \\mathbb R$,\n",
    "   c'est à dire que\n",
    "   $$\n",
    "   \\lim_{k \\to \\infty}\n",
    "   \\frac{|x_{k+1} - x_{\\infty}|}{|x_{k} - x_{\\infty}|^q} \\in \\mathbb R.\n",
    "   $$\n",
    "   Écrire une fonction `estimate_order(xs, x∞)` permettant d'estimer l'ordre de convergence $q$."
   ]
  },
  {
   "cell_type": "code",
   "execution_count": null,
   "id": "515eedfa",
   "metadata": {
    "deletable": false,
    "nbgrader": {
     "cell_type": "code",
     "checksum": "b2fddcbcea93466b10714506a418381e",
     "grade": false,
     "grade_id": "cell-9b87a75d5dd1d036",
     "locked": false,
     "schema_version": 3,
     "solution": true,
     "task": false
    },
    "tags": [
     "DO NOT DELETE THIS CELL"
    ]
   },
   "outputs": [],
   "source": [
    "function estimate_order(xs, x∞)\n",
    "    # YOUR CODE HERE [⚠ DO NOT DELETE THIS CELL]\n",
    "    error(\"No code provided\")\n",
    "end;"
   ]
  },
  {
   "cell_type": "code",
   "execution_count": null,
   "id": "1ed7b68c",
   "metadata": {
    "deletable": false,
    "editable": false,
    "nbgrader": {
     "cell_type": "code",
     "checksum": "6fb465cc8e15c41288253ec8613f4ad4",
     "grade": true,
     "grade_id": "cell-c6a95ccedaea61cd",
     "locked": true,
     "points": 1,
     "schema_version": 3,
     "solution": false,
     "task": false
    },
    "tags": [
     "DO NOT DELETE THIS CELL"
    ]
   },
   "outputs": [],
   "source": [
    "@assert estimate_order([1e-1, 1e-2, 1e-4, 1e-8, 1e-16], 0.) ≈ 2\n",
    "@assert estimate_order([1e-1, 1e-3, 1e-9, 1e-27], 0.) ≈ 3\n",
    "@assert estimate_order([1e-1, 1e-2, 1e-3, 1e-4], 0.) ≈ 1\n",
    "\n",
    "# Estimation de l'ordre de convergence de la méthode `super_newton`\n",
    "function get_order_super_newton()\n",
    "    x∞ = cbrt(BigFloat(2.0))\n",
    "    xs = super_newton(BigFloat(2.), x -> x^3 - 2, x -> 3x^2, x -> 6x; ε = 1e-200)\n",
    "    q = round(Float64(estimate_order(xs, x∞)), sigdigits=5)\n",
    "end\n",
    "println(\"Order of the proposed method: \", get_order_super_newton())"
   ]
  },
  {
   "cell_type": "markdown",
   "id": "d0540971",
   "metadata": {
    "deletable": false,
    "editable": false,
    "nbgrader": {
     "cell_type": "markdown",
     "checksum": "4109b20712c3c9d99f8766551f7dc00a",
     "grade": false,
     "grade_id": "cell-4f1e78cd-30f4-4c1a-9d8e-b0ae2e219f12",
     "locked": true,
     "schema_version": 3,
     "solution": false,
     "task": false
    },
    "tags": [
     "DO NOT DELETE THIS CELL"
    ]
   },
   "source": [
    "4. Pour éviter de calculer des dérivées manuellement,\n",
    "   on souhaite utiliser la différentiation automatique.\n",
    "   Écrire une fonction `super_newton_auto` implémentant la méthode tout en exploitant la différentiation automatique.\n",
    "   Il peut être utile pour ce faire d'utiliser la fonction `ForwardDiff.derivative`,\n",
    "   et de réutiliser la méthode `super_newton` définie ci-dessus."
   ]
  },
  {
   "cell_type": "code",
   "execution_count": null,
   "id": "40c5b77b",
   "metadata": {
    "deletable": false,
    "nbgrader": {
     "cell_type": "code",
     "checksum": "f3d4e2b17baf13b4a0447b88f89fb180",
     "grade": false,
     "grade_id": "cell-faead50c4b210b1a",
     "locked": false,
     "schema_version": 3,
     "solution": true,
     "task": false
    },
    "tags": [
     "DO NOT DELETE THIS CELL"
    ]
   },
   "outputs": [],
   "source": [
    "function super_newton_auto(x, f; maxiter=100, ε=1e-12)\n",
    "    # YOUR CODE HERE [⚠ DO NOT DELETE THIS CELL]\n",
    "    error(\"No code provided\")\n",
    "end;"
   ]
  },
  {
   "cell_type": "code",
   "execution_count": null,
   "id": "8ac1822d",
   "metadata": {
    "deletable": false,
    "editable": false,
    "nbgrader": {
     "cell_type": "code",
     "checksum": "442cdec4fd8226cbd309d6aecbf1cec2",
     "grade": true,
     "grade_id": "cell-e24668a0a1d97b66",
     "locked": true,
     "points": 1,
     "schema_version": 3,
     "solution": false,
     "task": false
    },
    "tags": [
     "DO NOT DELETE THIS CELL"
    ]
   },
   "outputs": [],
   "source": [
    "@assert super_newton_auto(1., x -> exp(x) - 2) |> typeof === Vector{Float64}\n",
    "@assert super_newton_auto(1., x -> exp(x) - 2)[end] ≈ log(2)\n",
    "@assert super_newton_auto(1., x -> sin(x) - .5)[end] ≈ π/6\n",
    "@assert super_newton_auto(3., x -> x^3 - x - 6)[end] ≈ 2"
   ]
  },
  {
   "cell_type": "markdown",
   "id": "dae48036",
   "metadata": {
    "deletable": false,
    "editable": false,
    "nbgrader": {
     "cell_type": "markdown",
     "checksum": "d9d5c5ca615f9472628e2b23263e57a8",
     "grade": false,
     "grade_id": "cell-496255f6-d9d3-4f05-a264-9f10d1bf395d",
     "locked": true,
     "schema_version": 3,
     "solution": false,
     "task": false
    },
    "tags": [
     "DO NOT DELETE THIS CELL"
    ]
   },
   "source": [
    "### <font color='orange'>[Exercice 3]</font> Équation de Lotka-Volterra"
   ]
  },
  {
   "cell_type": "markdown",
   "id": "380dbf24",
   "metadata": {
    "deletable": false,
    "editable": false,
    "nbgrader": {
     "cell_type": "markdown",
     "checksum": "6f461c9d029afcf1741de806dd3fa118",
     "grade": false,
     "grade_id": "cell-63053646-c58c-4d77-ac55-b49522aa485d",
     "locked": true,
     "schema_version": 3,
     "solution": false,
     "task": false
    },
    "tags": [
     "DO NOT DELETE THIS CELL"
    ]
   },
   "source": [
    "Dans le cadre d’une étude écologique sur une île isolée,\n",
    "on aimerait étudier l’interaction entre deux populations animales :\n",
    "\n",
    "- 🐇 des **lapins sauvages**, qui se reproduisent rapidement en l’absence de prédateurs,\n",
    "- 🦊 des **renards**, qui se nourrissent exclusivement de lapins.\n",
    "\n",
    "Leur dynamique est modélisée par les équations classiques de **Lotka-Volterra** :\n",
    "\n",
    "$$\n",
    "\\left\\{\n",
    "\\begin{aligned}\n",
    " X'(s) &= \\alpha \\, X(s) - \\beta \\, X(s)\\,Y(s), \\\\\n",
    " Y'(s) &= - \\gamma \\, Y(s) + \\delta \\, X(s)\\,Y(s),\n",
    "\\end{aligned}\n",
    "\\right.\n",
    "$$\n",
    "\n",
    "où :\n",
    "- $s$ représente le temps.\n",
    "- $X(s)$ représente la population de **lapins** à l’instant $ s $,\n",
    "- $Y(s)$ représente la population de **renards** à l’instant $ s $,\n",
    "- $\\alpha$ est le **taux de reproduction** naturelle des lapins en l’absence de renards,\n",
    "- $\\beta$ est la contribution de chaque renard au **taux de mortalité** des lapins,\n",
    "- $\\delta$ est la contribution de chaque lapin au **taux de reproduction** des renards,\n",
    "- $\\gamma$ est le **taux de mortalité** naturelle des renards en l’absence de nourriture.\n",
    "\n",
    "Ce modèle permet d’analyser les cycles prédateur-proie typiques dans les écosystèmes fermés.\n",
    "Il est simple de montrer que l'unique état d'équilibre non trivial\n",
    "est donné par $(X_{\\rm eq}, Y_{\\rm eq}) = (\\gamma/\\delta, \\alpha/\\beta)$.\n",
    "Afin d'éliminer certains paramètres,\n",
    "on a l'idée d'introduire les variables adimensionnées $X/X_{\\rm eq}$ et $Y/Y_{\\rm eq}$.\n",
    "Pour simplifier encore davantage, on prendra comme nouvelle unité temporelle la constante de temps\n",
    "associée à l'extinction exponentielle de renards en l'absence de lapins,\n",
    "ce qui revient à poser $x(t) = X(t/γ)/X_{\\rm eq}$ et $y(t) = Y(t/γ)/Y_{\\rm eq}$.\n",
    "L'évolution du couple $(x, y)$ est alors donnée par\n",
    "$$\n",
    "\\left\\{\n",
    "\\begin{aligned}\n",
    " x'(t) &= r \\, x(t) - r \\, x(t)\\,y(t), \\\\\n",
    " y'(t) &= - y(t) + x(t)\\,y(t),\n",
    "\\end{aligned}\n",
    "\\right.\n",
    "\\qquad r := \\frac{\\alpha}{\\gamma}\n",
    "\\tag{Lotka-Volterra}\n",
    "$$\n",
    "On supposera dans la première partie de l'exercice que tous les paramètres α,β,γ,δ sont scalaires avec de plus $α = γ$,\n",
    "de sorte que $r = 1$.\n",
    "Dans la seconde partie, on adoptera un modèle plus réaliste dans lequel $α$ dépend de $x$."
   ]
  },
  {
   "cell_type": "markdown",
   "id": "1c39ea17",
   "metadata": {
    "deletable": false,
    "editable": false,
    "nbgrader": {
     "cell_type": "markdown",
     "checksum": "e861f447ac0b5a9f100e3b1f739d65f9",
     "grade": false,
     "grade_id": "cell-3c946f66-4cdb-489b-b22c-6438bb33cc3b",
     "locked": true,
     "schema_version": 3,
     "solution": false,
     "task": false
    },
    "tags": [
     "DO NOT DELETE THIS CELL"
    ]
   },
   "source": [
    "1. En posant $\\mathbf Z := (x, y)^\\top$,\n",
    "   on peut réécrire l'équation de <a href=\"#Lotka-Volterra\">(Lotka-Volterra)</a> sous la forme générique suivante :\n",
    "   $$\n",
    "   \\mathbf Z'(t) = \\mathbf f\\bigl(t, \\mathbf Z(s)\\bigr).\n",
    "   \\tag{Generic-ODE}\n",
    "   $$\n",
    "   <a id=\"generic-ode\"></a>\n",
    "   Écrire la fonction $\\mathbf f$ sous forme d'une fonction Julia `f(t, Z)`."
   ]
  },
  {
   "cell_type": "code",
   "execution_count": null,
   "id": "d6313e72",
   "metadata": {
    "deletable": false,
    "nbgrader": {
     "cell_type": "code",
     "checksum": "141f72ea8730a4fa78025ea1263c22e4",
     "grade": false,
     "grade_id": "cell-6e408daee7346fcf",
     "locked": false,
     "schema_version": 3,
     "solution": true,
     "task": false
    },
    "tags": [
     "DO NOT DELETE THIS CELL"
    ]
   },
   "outputs": [],
   "source": [
    "function f(t, Z)\n",
    "    # YOUR CODE HERE [⚠ DO NOT DELETE THIS CELL]\n",
    "    error(\"No code provided\")\n",
    "end;"
   ]
  },
  {
   "cell_type": "code",
   "execution_count": null,
   "id": "c51105eb-3e44-4b0e-b4a7-b31d8bae833f",
   "metadata": {
    "deletable": false,
    "editable": false,
    "nbgrader": {
     "cell_type": "code",
     "checksum": "1f9098c3bb7879d040c04985ceae9cd0",
     "grade": true,
     "grade_id": "cell-395d9e647527706a",
     "locked": true,
     "points": 0.5,
     "schema_version": 3,
     "solution": false,
     "task": false
    },
    "tags": [
     "DO NOT DELETE THIS CELL"
    ]
   },
   "outputs": [],
   "source": [
    "@assert f(1, [0, 1]) ≈ [0, -1]\n",
    "@assert f(1, [1, 0]) ≈ [1, 0]\n",
    "@assert f(1, [5, 2]) ≈ [5 - 10, -2 + 10]"
   ]
  },
  {
   "cell_type": "markdown",
   "id": "8c84ff33",
   "metadata": {
    "deletable": false,
    "editable": false,
    "nbgrader": {
     "cell_type": "markdown",
     "checksum": "77aec7c4ff9e9cba5b360f1af0e73a18",
     "grade": false,
     "grade_id": "cell-c76d7b26-5235-4333-b4a1-64477fedba7a",
     "locked": true,
     "schema_version": 3,
     "solution": false,
     "task": false
    },
    "tags": [
     "DO NOT DELETE THIS CELL"
    ]
   },
   "source": [
    "2. Écrire une fonction `heun3(g, tₙ, Zₙ, Δ)` implémentant un pas de temps de taille $\\Delta$ de la méthode de Heun d'ordre 3 pour une équation différentielle générique de la forme $\\mathbf Z' = \\mathbf g(t, \\mathbf Z)$.\n",
    "   Cette méthode est basée sur l'itération suivante:\n",
    "   $$\n",
    "      \\mathbf Z_{n+1} = \\mathbf Z_n + \\frac{\\Delta}{4}\\left(\\mathbf k_1 + 3 \\mathbf k_3 \\right),\n",
    "   $$\n",
    "   où\n",
    "   \\begin{align*}\n",
    "   \\mathbf k_1 &= \\ \\mathbf g(t_n, \\mathbf Z_n), \\\\\n",
    "   \\mathbf k_2 &= \\ \\mathbf g\\!\\left(t_n + \\frac{\\Delta}{3}, \\mathbf Z_n + \\frac{\\Delta}{3} \\mathbf k_1\\right), \\\\\n",
    "   \\mathbf k_3 &= \\ \\mathbf g\\!\\left(t_n + \\frac{2\\Delta}{3}, \\mathbf Z_n + \\frac{2\\Delta}{3} \\mathbf k_2\\right), \\\\\n",
    "   \\end{align*}\n",
    "   La fonction devra renvoyer $\\mathbf Z_{n+1}$."
   ]
  },
  {
   "cell_type": "code",
   "execution_count": null,
   "id": "ac6d4a1e",
   "metadata": {
    "deletable": false,
    "nbgrader": {
     "cell_type": "code",
     "checksum": "61dc3553b8959cd7ba00531debf2d396",
     "grade": false,
     "grade_id": "cell-0df010b4bba838dc",
     "locked": false,
     "schema_version": 3,
     "solution": true,
     "task": false
    },
    "tags": [
     "DO NOT DELETE THIS CELL"
    ]
   },
   "outputs": [],
   "source": [
    "function heun3(g, tₙ, Zₙ, Δ)\n",
    "    # YOUR CODE HERE [⚠ DO NOT DELETE THIS CELL]\n",
    "    error(\"No code provided\")\n",
    "end;"
   ]
  },
  {
   "cell_type": "code",
   "execution_count": null,
   "id": "7dbd42d6-8cb1-40fb-8b32-3d815db40bb2",
   "metadata": {
    "deletable": false,
    "editable": false,
    "nbgrader": {
     "cell_type": "code",
     "checksum": "fe41614d0146df11eade8c21a4919748",
     "grade": true,
     "grade_id": "cell-87c5ee4bccc22ff7",
     "locked": true,
     "points": 0.5,
     "schema_version": 3,
     "solution": false,
     "task": false
    },
    "tags": [
     "DO NOT DELETE THIS CELL"
    ]
   },
   "outputs": [],
   "source": [
    "@assert heun3((t, Z) -> [1.],0., [0.], 1.) ≈ [1.0]\n",
    "@assert heun3((t, Z) -> [t], 1., [0.], 1.)  ≈ [3/2]\n",
    "@assert heun3((t, Z) -> [1.; t; t^2], 0., [2.; 2.; 2.], 1.) ≈ [3., 5/2, 7/3]"
   ]
  },
  {
   "cell_type": "markdown",
   "id": "eae9f07b",
   "metadata": {
    "deletable": false,
    "editable": false,
    "nbgrader": {
     "cell_type": "markdown",
     "checksum": "3298e2c66965c8ef288c2977adf31280",
     "grade": false,
     "grade_id": "cell-1e03fe3e-05b6-46fa-8986-1e5417d5d3d5",
     "locked": true,
     "schema_version": 3,
     "solution": false,
     "task": false
    },
    "tags": [
     "DO NOT DELETE THIS CELL"
    ]
   },
   "source": [
    "3. Écrire une fonction `solve_ode(g, Z₀, Δ, niter)` pour résoudre <a href=\"#generic-ode\">(Generic-ODE)</a>\n",
    "   en effectuant `niter` itérations de la méthode de Heun d'ordre 3 avec un pas de temps fixe `Δ`.\n",
    "   Votre fonction devra renvoyer un vecteur de temps `ts`\n",
    "   (comprenant le temps initial, donc de taille `niter + 1`),\n",
    "   ainsi qu'un vecteur de vecteurs contenant la solution à ces temps."
   ]
  },
  {
   "cell_type": "code",
   "execution_count": null,
   "id": "3379468a",
   "metadata": {
    "deletable": false,
    "nbgrader": {
     "cell_type": "code",
     "checksum": "b717788668e399e1405c3a2c163aa188",
     "grade": false,
     "grade_id": "cell-e99d0f0e47907b00",
     "locked": false,
     "schema_version": 3,
     "solution": true,
     "task": false
    },
    "tags": [
     "DO NOT DELETE THIS CELL"
    ]
   },
   "outputs": [],
   "source": [
    "function solve_ode(g, Z₀, Δ, niter)\n",
    "    # YOUR CODE HERE [⚠ DO NOT DELETE THIS CELL]\n",
    "    error(\"No code provided\")\n",
    "end;"
   ]
  },
  {
   "cell_type": "code",
   "execution_count": null,
   "id": "bfe6c1fe",
   "metadata": {
    "deletable": false,
    "editable": false,
    "nbgrader": {
     "cell_type": "code",
     "checksum": "a5f751bf4be31e556285c05f330461da",
     "grade": true,
     "grade_id": "cell-19ec9fba246eab4a",
     "locked": true,
     "points": 1,
     "schema_version": 3,
     "solution": false,
     "task": false
    },
    "tags": [
     "DO NOT DELETE THIS CELL"
    ]
   },
   "outputs": [],
   "source": [
    "@assert solve_ode(f, [1.0, 0.0], 0.01, 100) |> length == 2\n",
    "@assert solve_ode(f, [1.0, 0.0], 0.01, 100)[1] |> length == 101\n",
    "@assert solve_ode(f, [1.0, 0.0], 0.01, 100)[1][101] ≈ 1\n",
    "@assert solve_ode(f, [1.0, 0.0], 0.01, 100)[1] ≈ 0:.01:1\n",
    "@assert solve_ode(f, [1.0, 0.0], 0.01, 100)[2] |> x -> sum(z -> z[2], x) == 0.\n",
    "@assert solve_ode(f, [0.0, 1.0], 0.1, 1000)[2][end][2] ≤ 1e-3"
   ]
  },
  {
   "cell_type": "markdown",
   "id": "0515043c",
   "metadata": {
    "deletable": false,
    "editable": false,
    "nbgrader": {
     "cell_type": "markdown",
     "checksum": "b55bbda55ef95f665841f8fbb9b4228a",
     "grade": false,
     "grade_id": "cell-a734a03b-735c-454d-a5ed-2c3c449bdeee",
     "locked": true,
     "schema_version": 3,
     "solution": false,
     "task": false
    },
    "tags": [
     "DO NOT DELETE THIS CELL"
    ]
   },
   "source": [
    "4. Écrire une fonction `my_plot_evolution(g, Z₀, Δ, niter)` permettant d'illustrer sur un même graphique l'évolution des populations de lapins et de renards en fonction du temps,\n",
    "   pour une condition initiale `Z₀` donnée.\n",
    "   Cette fonction prendra explicitement en argument une function `g`,\n",
    "   car on l'utilisera plus tard avec un autre modèle d'évolution des populations.\n",
    "   La cellule en dessous vous permettra de tester votre code."
   ]
  },
  {
   "cell_type": "code",
   "execution_count": null,
   "id": "7ee53eaa",
   "metadata": {
    "deletable": false,
    "nbgrader": {
     "cell_type": "code",
     "checksum": "a63a60a78446e03d726174d2ab6e9f89",
     "grade": true,
     "grade_id": "cell-4900030731fc059f",
     "locked": false,
     "points": 1,
     "schema_version": 3,
     "solution": true,
     "task": false
    },
    "tags": [
     "DO NOT DELETE THIS CELL"
    ]
   },
   "outputs": [],
   "source": [
    "function my_plot_evolution(g, Z₀, Δ, niter)\n",
    "    x₀, y₀ = Z₀\n",
    "    p = plot(title=\"(x₀, y₀) = ($x₀, $y₀)\")\n",
    "    # YOUR CODE HERE [⚠ DO NOT DELETE THIS CELL]\n",
    "    error(\"No code provided\")\n",
    "    return p\n",
    "end;"
   ]
  },
  {
   "cell_type": "code",
   "execution_count": null,
   "id": "03b923bf",
   "metadata": {},
   "outputs": [],
   "source": [
    "Δ, niter1, niter2 = .01, 1000, 3000\n",
    "p1 = my_plot_evolution(f, [1.0, 0.0], Δ, niter1)\n",
    "p2 = my_plot_evolution(f, [0.0, 1.0], Δ, niter1)\n",
    "p3 = my_plot_evolution(f, [1.0, 1.0], Δ, niter1)\n",
    "p4 = my_plot_evolution(f, [3.0, 1.0], Δ, niter2)\n",
    "p5 = my_plot_evolution(f, [5.0, 2.0], Δ, niter2)\n",
    "p6 = my_plot_evolution(f, [0.5, 0.5], Δ, niter2)\n",
    "plot(p1, p2, p3, p4, p5, p6; layout=(2, 3), size=(900, 600))"
   ]
  },
  {
   "cell_type": "markdown",
   "id": "580132d7",
   "metadata": {
    "deletable": false,
    "editable": false,
    "nbgrader": {
     "cell_type": "markdown",
     "checksum": "0f61b7de3e783ef3d9118521abbe0998",
     "grade": false,
     "grade_id": "cell-a0a416db-2629-44ad-a563-ee0804cc2766",
     "locked": true,
     "schema_version": 3,
     "solution": false,
     "task": false
    },
    "tags": [
     "DO NOT DELETE THIS CELL"
    ]
   },
   "source": [
    "5. Dans la cellule suivante (qui ne doit en aucun cas être détruite), commenter les figures obtenues au point précédent pour les conditions initiales suivantes\n",
    "\n",
    "- $(0.1, 0.0)$\n",
    "- $(0.0, 1.0)$\n",
    "- $(1.0, 1.0)$\n",
    "- $(3.0, 1.0)$"
   ]
  },
  {
   "cell_type": "markdown",
   "id": "a8d93f51",
   "metadata": {
    "deletable": false,
    "nbgrader": {
     "cell_type": "markdown",
     "checksum": "48509025528108a24eda6c928d1d7f94",
     "grade": true,
     "grade_id": "cell-2f9b0362-404a-49bc-bfd0-2345d2ab6093",
     "locked": false,
     "points": 0.5,
     "schema_version": 3,
     "solution": true,
     "task": false
    },
    "tags": [
     "DO NOT DELETE THIS CELL"
    ]
   },
   "source": [
    "YOUR ANSWER HERE"
   ]
  },
  {
   "cell_type": "markdown",
   "id": "13d5ab40",
   "metadata": {
    "deletable": false,
    "editable": false,
    "nbgrader": {
     "cell_type": "markdown",
     "checksum": "885985ab49408be6a94df4eabe9d0016",
     "grade": false,
     "grade_id": "cell-36c0632f-4feb-48bb-8e9a-2143bcc05f25",
     "locked": true,
     "schema_version": 3,
     "solution": false,
     "task": false
    },
    "tags": [
     "DO NOT DELETE THIS CELL"
    ]
   },
   "source": [
    "6. Écrire une fonction `my_plot_phase(g, all_Z₀, Δ, niter)` permettant d'illustrer,\n",
    "   sur un même graphique,\n",
    "   l'évolution des populations de lapins et de renards dans le plan $xy$ (lapins en abscisse et renards en ordonnée)\n",
    "   pour toutes les conditions initiales contenues dans le vecteur `all_Z₀`, supposé de type `Vector{Vector{Float64}}`.\n",
    "   La cellule suivante vous permettra de tester votre code."
   ]
  },
  {
   "cell_type": "code",
   "execution_count": null,
   "id": "52c64c45",
   "metadata": {
    "deletable": false,
    "nbgrader": {
     "cell_type": "code",
     "checksum": "e885e8ee09cf88db2013fbee92152a19",
     "grade": true,
     "grade_id": "cell-509fa2dc86cdac55",
     "locked": false,
     "points": 1,
     "schema_version": 3,
     "solution": true,
     "task": false
    },
    "tags": [
     "DO NOT DELETE THIS CELL"
    ]
   },
   "outputs": [],
   "source": [
    "function my_plot_phase(g, all_Z₀, Δ, niter)\n",
    "    p = plot(title=\"Evolution in the phase space\")\n",
    "    # YOUR CODE HERE [⚠ DO NOT DELETE THIS CELL]\n",
    "    error(\"No code provided\")\n",
    "    return p\n",
    "end;"
   ]
  },
  {
   "cell_type": "code",
   "execution_count": null,
   "id": "a230e284",
   "metadata": {},
   "outputs": [],
   "source": [
    "all_Z₀ = [[3.0, 1.0],\n",
    "          [5.0, 2.0],\n",
    "          [0.5, 0.5]]\n",
    "\n",
    "my_plot_phase(f, all_Z₀, .01, 3000)"
   ]
  },
  {
   "cell_type": "markdown",
   "id": "67806a61",
   "metadata": {
    "deletable": false,
    "editable": false,
    "nbgrader": {
     "cell_type": "markdown",
     "checksum": "44d508c83a32c67f64e118aa0f8bc692",
     "grade": false,
     "grade_id": "cell-8b86e126-a58d-4f51-898d-bcfb9a8cee32",
     "locked": true,
     "schema_version": 3,
     "solution": false,
     "task": false
    },
    "tags": [
     "DO NOT DELETE THIS CELL"
    ]
   },
   "source": [
    "7. Suite à un problème technique, les données sur les conditions initiales de l’étude écologique ont été perdues.\n",
    "   Les populations animales ont néanmoins été observées au temps $t=1$,\n",
    "   où elles étaient données par $(x₁, y₁) = (2, 2)$.\n",
    "   En se basant sur ce point d'observation et sur le modèle d'évolution de <a>(Lotka-Volterra)</a>,\n",
    "   estimer les populations au temps $t = 0$.\n",
    "   Il peut être utile pour cela d'utiliser la bibliothèque `ForwardDiff.jl`,\n",
    "   en particulier la fonction `ForwardDiff.jacobian`."
   ]
  },
  {
   "cell_type": "code",
   "execution_count": null,
   "id": "f4447bab",
   "metadata": {
    "deletable": false,
    "nbgrader": {
     "cell_type": "code",
     "checksum": "cae5ae41036d0a2b57766128c37cad68",
     "grade": false,
     "grade_id": "cell-87a4b402028e9741",
     "locked": false,
     "schema_version": 3,
     "solution": true,
     "task": false
    },
    "tags": [
     "DO NOT DELETE THIS CELL"
    ]
   },
   "outputs": [],
   "source": [
    "function recover_initial_data()\n",
    "    Z₁ = [2., 2.]\n",
    "    # YOUR CODE HERE [⚠ DO NOT DELETE THIS CELL]\n",
    "    error(\"No code provided\")\n",
    "    return Z₀\n",
    "end\n",
    "\n",
    "Z₀ = recover_initial_data()\n",
    "@show Z₀\n",
    "my_plot_evolution(f, Z₀, .01, 100)"
   ]
  },
  {
   "cell_type": "code",
   "execution_count": null,
   "id": "9ffa7123-2f51-4e57-97bf-ecc424c0a25d",
   "metadata": {
    "deletable": false,
    "editable": false,
    "nbgrader": {
     "cell_type": "code",
     "checksum": "32a05ef39748acfe1fb1d731538ffb6a",
     "grade": true,
     "grade_id": "cell-24a697094b78118a",
     "locked": true,
     "points": 1,
     "schema_version": 3,
     "solution": false,
     "task": false
    },
    "tags": [
     "DO NOT DELETE THIS CELL"
    ]
   },
   "outputs": [],
   "source": [
    "@assert length(Z₀) == 2"
   ]
  },
  {
   "cell_type": "markdown",
   "id": "ce08602b",
   "metadata": {
    "deletable": false,
    "editable": false,
    "nbgrader": {
     "cell_type": "markdown",
     "checksum": "2e98a26593a10ff479e321d2dce3a41d",
     "grade": false,
     "grade_id": "cell-8d884330-0ab6-4592-bd3a-bd35b393cf13",
     "locked": true,
     "schema_version": 3,
     "solution": false,
     "task": false
    },
    "tags": [
     "DO NOT DELETE THIS CELL"
    ]
   },
   "source": [
    "8. L'évolution de Lotka-Volterra avec $r = 1$ conserve la quantité $V(x, y) = x - \\ln(x) + y - \\ln(y)$ (pour mémoire le logarithme népérien est donné par `log` en Julia).\n",
    "   Écrire une fonction `calculate_energy_mismatch` retournant,\n",
    "   pour la fonction `solve_ode` avec le pas de temps donné en argument,\n",
    "   la déviation maximale de l'énergie sur l'intervalle de temps $[0, 1]$.\n",
    "   Plus précisément, la fonction devra retourner\n",
    "   $$\n",
    "   E(Δ) := \\max_{n \\in \\mathbb N,  nΔ \\in [0, 1]} \\Bigl| V\\bigl( x_n, y_n \\bigr) - V\\bigl( x(0), y(0) \\bigr) \\Bigr|\n",
    "   $$"
   ]
  },
  {
   "cell_type": "code",
   "execution_count": null,
   "id": "34d747bc",
   "metadata": {
    "deletable": false,
    "nbgrader": {
     "cell_type": "code",
     "checksum": "b7e2b6ec0271b19ff8d23fddf61e424b",
     "grade": false,
     "grade_id": "cell-79dea70b22e3796f",
     "locked": false,
     "schema_version": 3,
     "solution": true,
     "task": false
    },
    "tags": [
     "DO NOT DELETE THIS CELL"
    ]
   },
   "outputs": [],
   "source": [
    "V(z) = z[1] - log(z[1]) + z[2] - log(z[2])\n",
    "\n",
    "function calculate_energy_mismatch(Z₀, Δ)\n",
    "    # YOUR CODE HERE [⚠ DO NOT DELETE THIS CELL]\n",
    "    error(\"No code provided\")\n",
    "    return E\n",
    "end;"
   ]
  },
  {
   "cell_type": "code",
   "execution_count": null,
   "id": "c519f5e8",
   "metadata": {
    "deletable": false,
    "editable": false,
    "nbgrader": {
     "cell_type": "code",
     "checksum": "fd5fad2925eaf2d3af04d6dcfd975174",
     "grade": true,
     "grade_id": "cell-aa8421fb1650206e",
     "locked": true,
     "points": 1,
     "schema_version": 3,
     "solution": false,
     "task": false
    },
    "tags": [
     "DO NOT DELETE THIS CELL"
    ]
   },
   "outputs": [],
   "source": [
    "Z₀ = [2.0, 2.0]\n",
    "@assert calculate_energy_mismatch(Z₀, .1) > 1e-8\n",
    "@assert calculate_energy_mismatch(Z₀, .1) < 1e-3\n",
    "@assert calculate_energy_mismatch(Z₀, .01) > 1e-12\n",
    "@assert calculate_energy_mismatch(Z₀, .01) < 1e-6\n",
    "@assert calculate_energy_mismatch(Z₀, .001) < 1e8"
   ]
  },
  {
   "cell_type": "markdown",
   "id": "8245486d",
   "metadata": {
    "deletable": false,
    "editable": false,
    "nbgrader": {
     "cell_type": "markdown",
     "checksum": "3b6d38c2eab5b87af757548365a83562",
     "grade": false,
     "grade_id": "cell-8c558833-5434-4a6f-9ea1-a7a704afeef3",
     "locked": true,
     "schema_version": 3,
     "solution": false,
     "task": false
    },
    "tags": [
     "DO NOT DELETE THIS CELL"
    ]
   },
   "source": [
    "9. Il est possible de montrer que $E(Δ) \\propto Δ^q$, de manière approximative.\n",
    "   Estimer l'exposant $q$.\n",
    "   Pour cela, approximer par une droite la fonction $\\log(Δ) \\mapsto \\log\\bigl(E(Δ)\\bigr)$,\n",
    "   et déduire la valeur de $q$ du coefficient directeur de cette droite."
   ]
  },
  {
   "cell_type": "code",
   "execution_count": null,
   "id": "6a7aa148",
   "metadata": {
    "deletable": false,
    "nbgrader": {
     "cell_type": "code",
     "checksum": "0087020611b322db9f146ce24de9130f",
     "grade": false,
     "grade_id": "cell-aaea376852e88ab2",
     "locked": false,
     "schema_version": 3,
     "solution": true,
     "task": false
    },
    "tags": [
     "DO NOT DELETE THIS CELL"
    ]
   },
   "outputs": [],
   "source": [
    "function estimate_q()\n",
    "    # YOUR CODE HERE [⚠ DO NOT DELETE THIS CELL]\n",
    "    error(\"No code provided\")\n",
    "    return q\n",
    "end;\n",
    "\n",
    "println(\"Order of convergence: \", estimate_q())"
   ]
  },
  {
   "cell_type": "code",
   "execution_count": null,
   "id": "300bcba7-3188-4a9a-b519-61cf78ba7a72",
   "metadata": {
    "deletable": false,
    "editable": false,
    "nbgrader": {
     "cell_type": "code",
     "checksum": "80ba3343d45a26fbe6ebf5d640537635",
     "grade": true,
     "grade_id": "cell-593007c6d67a3823",
     "locked": true,
     "points": 1,
     "schema_version": 3,
     "solution": false,
     "task": false
    },
    "tags": [
     "DO NOT DELETE THIS CELL"
    ]
   },
   "outputs": [],
   "source": [
    "@assert estimate_q() > 0"
   ]
  },
  {
   "cell_type": "markdown",
   "id": "82c8db91",
   "metadata": {
    "deletable": false,
    "editable": false,
    "nbgrader": {
     "cell_type": "markdown",
     "checksum": "5574cbc320c2caa05dcb1b4b96b09f13",
     "grade": false,
     "grade_id": "cell-332518c9-fdb6-4039-bfa3-d85213974536",
     "locked": true,
     "schema_version": 3,
     "solution": false,
     "task": false
    },
    "tags": [
     "DO NOT DELETE THIS CELL"
    ]
   },
   "source": [
    "10. **On considère à partir de maintenant un modèle plus réaliste**,\n",
    "    incluant une saturation du taux de reproduction des lapins\n",
    "    lorsque leur population devient trop importante.\n",
    "    Concrètement, on considère que le taux de reproduction des lapins est désormais donné par $\\widehat α(x) = α (1-\\frac{x}{4})$,\n",
    "    où $α$ désigne le même paramètre scalaire que précédemment.\n",
    "    Ce choix mène aux équations d'évolution suivantes :\n",
    "    $$\n",
    "    \\left\\{\n",
    "    \\begin{aligned}\n",
    "     x'(t) &= \\left( 1 - \\frac{x(t)}{4} \\right) x(t) - x(t)\\,y(t), \\\\\n",
    "     y'(t) &= - y(t) + x(t)\\,y(t).\n",
    "    \\end{aligned}\n",
    "    \\right.\n",
    "    \\tag{Modified-Lotka-Volterra}\n",
    "    $$\n",
    "    Avec ce modèle, le nombre de lapins en l'absence de renards ne diverge plus dans la limite $t \\to \\infty$.\n",
    "    Tout comme les équations de Lotka-Volterra classiques étudiées précédemment,\n",
    "    les équations <a>(Modified-Lotka-Volterra)</a> peuvent s'écrire sous la forme d'une équation différentielle générique $\\mathbf Z' = \\mathbf g(t, \\mathbf Z)$.\n",
    "    Écrire la fonction $\\mathbf g$ correspondante sous forme d'une fonction Julia."
   ]
  },
  {
   "cell_type": "code",
   "execution_count": null,
   "id": "69087d2e",
   "metadata": {
    "deletable": false,
    "nbgrader": {
     "cell_type": "code",
     "checksum": "e82de2dd5b9e1443259db6aae47bf70a",
     "grade": false,
     "grade_id": "cell-c5a7997b98ce8574",
     "locked": false,
     "schema_version": 3,
     "solution": true,
     "task": false
    },
    "tags": [
     "DO NOT DELETE THIS CELL"
    ]
   },
   "outputs": [],
   "source": [
    "function g(t, Z)\n",
    "    # YOUR CODE HERE [⚠ DO NOT DELETE THIS CELL]\n",
    "    error(\"No code provided\")\n",
    "end;"
   ]
  },
  {
   "cell_type": "code",
   "execution_count": null,
   "id": "bff4b695",
   "metadata": {
    "deletable": false,
    "editable": false,
    "nbgrader": {
     "cell_type": "code",
     "checksum": "ef61821f350156dccad07dad87fee584",
     "grade": true,
     "grade_id": "cell-e652fa30b6da7545",
     "locked": true,
     "points": 0.5,
     "schema_version": 3,
     "solution": false,
     "task": false
    },
    "tags": [
     "DO NOT DELETE THIS CELL"
    ]
   },
   "outputs": [],
   "source": [
    "@assert g(1, [0, 1]) ≈ [0, -1]\n",
    "@assert g(0, [4, 1]) ≈ [-4, 3]\n",
    "@assert g(10, [8, 2]) ≈ [-24.0, 14.0]"
   ]
  },
  {
   "cell_type": "markdown",
   "id": "af071a6c",
   "metadata": {
    "deletable": false,
    "editable": false,
    "nbgrader": {
     "cell_type": "markdown",
     "checksum": "0baf6768c0401d4ba8e44fffcf9a706c",
     "grade": false,
     "grade_id": "cell-6ad3b514-8534-4ca1-958c-d854ff9c5eb4",
     "locked": true,
     "schema_version": 3,
     "solution": false,
     "task": false
    },
    "tags": [
     "DO NOT DELETE THIS CELL"
    ]
   },
   "source": [
    "Il est possible de montrer qu'avec ce nouveau modèle,\n",
    "pour toute condition initiale telle que $x₀ > 0$ et $y₀ > 0$, les populations de lapins et de renards tendent vers l'équilibre $(x_{\\infty}, y_{\\infty}) := \\bigl( 1, \\frac{3}{4} \\bigr)$ dans la limite $t \\to \\infty$,\n",
    "comme illustré ci-dessous."
   ]
  },
  {
   "cell_type": "code",
   "execution_count": null,
   "id": "0ecb5805",
   "metadata": {},
   "outputs": [],
   "source": [
    "Δ, niter = .01, 8_000\n",
    "p1 = my_plot_evolution(g, [1.0, .1], Δ, niter)\n",
    "p2 = my_plot_evolution(g, [3.0, .1], Δ, niter)\n",
    "p3 = my_plot_evolution(g, [0.5, .75], Δ, niter)\n",
    "plot(p1, p2, p3; layout=(1, 3), size=(900, 300))"
   ]
  },
  {
   "cell_type": "markdown",
   "id": "6d29163f",
   "metadata": {
    "deletable": false,
    "editable": false,
    "nbgrader": {
     "cell_type": "markdown",
     "checksum": "454296bb58217d8d455a56ed14c34aa7",
     "grade": false,
     "grade_id": "cell-491fc6bd-b37c-4103-8919-d2cfe1bf7a2b",
     "locked": true,
     "schema_version": 3,
     "solution": false,
     "task": false
    },
    "tags": [
     "DO NOT DELETE THIS CELL"
    ]
   },
   "source": [
    "11. On suppose maintenant que les populations animales de l'île sont à l'équilibre pour $t < 0$,\n",
    "    donc en particulier $x(0^-) = x_{\\infty}$ et $y(0^-) = y_{\\infty}$.\n",
    "    Afin de repeupler les îles voisines, des lapins sont extraits de l'île considérée au temps $t = 0$.\n",
    "\n",
    "    Soucieux de préserver l'équilibre écologique de l'île,\n",
    "    les habitants souhaitent déterminer la proportion maximale de lapins pouvant être extraite\n",
    "    tout en s'assurant que la population de **renards** ne s'écarte jamais (pour aucun $t \\geq 0$) de plus de 20% de sa valeur d'équilibre $y_{\\infty} = \\frac{3}{4}$.\n",
    "\n",
    "    Pour cela, commencer par écrire une fonction `max_fox_deviation` afin d'estimer la déviation maximale de la population de renards,\n",
    "    en proportion (la fonction devra donc retourner un réel compris entre 0 et 1)."
   ]
  },
  {
   "cell_type": "code",
   "execution_count": null,
   "id": "ad30ecf2",
   "metadata": {
    "deletable": false,
    "nbgrader": {
     "cell_type": "code",
     "checksum": "5c69ac4097873863069dd4782aaabd99",
     "grade": false,
     "grade_id": "cell-51409e553d37690a",
     "locked": false,
     "schema_version": 3,
     "solution": true,
     "task": false
    },
    "tags": [
     "DO NOT DELETE THIS CELL"
    ]
   },
   "outputs": [],
   "source": [
    "function max_fox_deviation(x₀)\n",
    "    # YOUR CODE HERE [⚠ DO NOT DELETE THIS CELL]\n",
    "    error(\"No code provided\")\n",
    "end;"
   ]
  },
  {
   "cell_type": "code",
   "execution_count": null,
   "id": "c5581570-a5e6-4829-87d8-dd02464d6dd2",
   "metadata": {
    "deletable": false,
    "editable": false,
    "nbgrader": {
     "cell_type": "code",
     "checksum": "982745a7a2bce6cfc5a1264c194b71b7",
     "grade": true,
     "grade_id": "cell-371bb4798b9ce4a0",
     "locked": true,
     "points": 1,
     "schema_version": 3,
     "solution": false,
     "task": false
    },
    "tags": [
     "DO NOT DELETE THIS CELL"
    ]
   },
   "outputs": [],
   "source": [
    "@assert max_fox_deviation(0.) ≈ 1.\n",
    "@assert max_fox_deviation(1.) ≈ 0.\n",
    "@assert max_fox_deviation(1.e-10) > 1.9\n",
    "@assert round(max_fox_deviation(0.5), digits=3) ≈ 0.481"
   ]
  },
  {
   "cell_type": "markdown",
   "id": "4900e6bf",
   "metadata": {
    "deletable": false,
    "editable": false,
    "nbgrader": {
     "cell_type": "markdown",
     "checksum": "0ba8f46e36665d7db9af725f5b9421b0",
     "grade": false,
     "grade_id": "cell-ee8d9f67-9648-4155-91cb-05f013418fb0",
     "locked": true,
     "schema_version": 3,
     "solution": false,
     "task": false
    },
    "tags": [
     "DO NOT DELETE THIS CELL"
    ]
   },
   "source": [
    "12. Estimer graphiquement la valeur minimale de $x₀$ qui est admissible. On pourra utiliser les fonctions `hline` et `vline` (ou leurs homologues `hline!` et `vline!`) pour tracer des droites horizontales ou verticales."
   ]
  },
  {
   "cell_type": "code",
   "execution_count": null,
   "id": "8425f0e8",
   "metadata": {
    "deletable": false,
    "nbgrader": {
     "cell_type": "code",
     "checksum": "46bce71568750ef052b93c7334ca2d6e",
     "grade": true,
     "grade_id": "cell-a8d0c1fc52e9d00c",
     "locked": false,
     "points": 1,
     "schema_version": 3,
     "solution": true,
     "task": false
    },
    "tags": [
     "DO NOT DELETE THIS CELL"
    ]
   },
   "outputs": [],
   "source": [
    "# YOUR CODE HERE [⚠ DO NOT DELETE THIS CELL]\n",
    "error(\"No code provided\")"
   ]
  },
  {
   "cell_type": "markdown",
   "id": "c1582502",
   "metadata": {
    "deletable": false,
    "editable": false,
    "nbgrader": {
     "cell_type": "markdown",
     "checksum": "777ce620de129394ebcc77866f536e60",
     "grade": false,
     "grade_id": "cell-b9ed8b30-1264-4714-a4ea-e1dbaeaf861f",
     "locked": true,
     "schema_version": 3,
     "solution": false,
     "task": false
    },
    "tags": [
     "DO NOT DELETE THIS CELL"
    ]
   },
   "source": [
    "13. (**Bonus**) Ayant constaté à la question précédente l'existence d'un $x_0$ minimal \n",
    "    satisfaisant la contrainte sur la population de renard,\n",
    "    on se propose ici de déterminer cette valeur de manière très précise.\n",
    "    Pour cela, on suggère de procéder par une méthode de Newton-Raphson s'appuyant sur les nombres duaux.\n",
    "    Écrire une fonction `newton_raphson_dual(x, f, maxiter=100; ε = 1e-12)` renvoyant une racine de la fonction `f` en partant d'un point initial `x`.\n",
    "\n",
    "    <details>\n",
    "        <summary>\n",
    "            <em><font color='gray'> Indication (cliquer pour afficher)</font></em>\n",
    "        </summary>\n",
    "\n",
    "    On rappelle que l'on peut obtenir simultanément la valeur et la dérivée d'une fonction `f` en `x` par la méthode suivante\n",
    "\n",
    "    ```julia\n",
    "    y = f(ForwardDiff.Dual(x, 1.))\n",
    "    fx = y.value  # renvoie f(x)\n",
    "    dfx = y.partials[1]  # renvoie f'(x)\n",
    "    ```\n",
    "    </details>"
   ]
  },
  {
   "cell_type": "code",
   "execution_count": null,
   "id": "347f6be9",
   "metadata": {
    "deletable": false,
    "nbgrader": {
     "cell_type": "code",
     "checksum": "b9ec7f0f5fbd2f052782b620693605db",
     "grade": false,
     "grade_id": "cell-2e40b13a44d591bd",
     "locked": false,
     "schema_version": 3,
     "solution": true,
     "task": false
    },
    "tags": [
     "DO NOT DELETE THIS CELL"
    ]
   },
   "outputs": [],
   "source": [
    "function newton_raphson_dual(x, f; maxiter=100, ε = 1e-12)\n",
    "    # YOUR CODE HERE [⚠ DO NOT DELETE THIS CELL]\n",
    "    error(\"No code provided\")\n",
    "end;"
   ]
  },
  {
   "cell_type": "code",
   "execution_count": null,
   "id": "c455bfc3",
   "metadata": {
    "deletable": false,
    "editable": false,
    "nbgrader": {
     "cell_type": "code",
     "checksum": "463021b973e7f895ec3fc037ae8585da",
     "grade": true,
     "grade_id": "cell-e9ecb19d9e3bae0d",
     "locked": true,
     "points": 1,
     "schema_version": 3,
     "solution": false,
     "task": false
    },
    "tags": [
     "DO NOT DELETE THIS CELL"
    ]
   },
   "outputs": [],
   "source": [
    "@assert newton_raphson_dual(1, x -> x^2 - 2) ≈ √2\n",
    "@assert newton_raphson_dual(-1, x -> x^2 - 2) ≈ -√2\n",
    "@assert newton_raphson_dual(1, x -> x^3 - 2) ≈ cbrt(2)\n",
    "@assert newton_raphson_dual(2, x -> cos(x) - .5) ≈ acos(.5)"
   ]
  },
  {
   "cell_type": "markdown",
   "id": "c7415402",
   "metadata": {
    "deletable": false,
    "editable": false,
    "nbgrader": {
     "cell_type": "markdown",
     "checksum": "8461fefa4cbfe8e10f15172d7269e528",
     "grade": false,
     "grade_id": "cell-4079f319-032f-4550-81ab-50cba2bfc763",
     "locked": true,
     "schema_version": 3,
     "solution": false,
     "task": false
    },
    "tags": [
     "DO NOT DELETE THIS CELL"
    ]
   },
   "source": [
    "14. (**Bonus**) À l'aide des fonctions `max_fox_deviation` et `newton_raphson_dual`,\n",
    "    déterminer la valeur minimale de `x₀` qui est acceptable,\n",
    "    et vérifier cette solution en traçant un graphe présentant l'évolution des populations pour le `x₀` obtenu."
   ]
  },
  {
   "cell_type": "code",
   "execution_count": null,
   "id": "0dc1bd8c",
   "metadata": {
    "deletable": false,
    "nbgrader": {
     "cell_type": "code",
     "checksum": "4d055200cb42166c1d603faa901419c4",
     "grade": false,
     "grade_id": "cell-bccb89969ba1d000",
     "locked": false,
     "schema_version": 3,
     "solution": true,
     "task": false
    },
    "tags": [
     "DO NOT DELETE THIS CELL"
    ]
   },
   "outputs": [],
   "source": [
    "# YOUR CODE HERE [⚠ DO NOT DELETE THIS CELL]\n",
    "error(\"No code provided\")"
   ]
  },
  {
   "cell_type": "code",
   "execution_count": null,
   "id": "10992af8-eb3c-42bb-80de-190077ef3a0c",
   "metadata": {
    "deletable": false,
    "editable": false,
    "nbgrader": {
     "cell_type": "code",
     "checksum": "1f6b8aaa0b0ce1acf6fadd81e9219fc9",
     "grade": true,
     "grade_id": "cell-da37b9d625c49563",
     "locked": true,
     "points": 1,
     "schema_version": 3,
     "solution": false,
     "task": false
    },
    "tags": [
     "DO NOT DELETE THIS CELL"
    ]
   },
   "outputs": [],
   "source": [
    "@assert x₀ > 0.5"
   ]
  }
 ],
 "metadata": {
  "citation-manager": {
   "items": {}
  },
  "jupytext": {
   "encoding": "# -*- coding: utf-8 -*-"
  },
  "kernelspec": {
   "display_name": "Julia 1.11.5",
   "language": "julia",
   "name": "julia-1.11"
  },
  "language_info": {
   "file_extension": ".jl",
   "mimetype": "application/julia",
   "name": "julia",
   "version": "1.11.5"
  }
 },
 "nbformat": 4,
 "nbformat_minor": 5
}
