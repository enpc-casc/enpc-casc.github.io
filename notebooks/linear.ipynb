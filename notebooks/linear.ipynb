{
 "cells": [
  {
   "cell_type": "markdown",
   "id": "79f566ca",
   "metadata": {
    "deletable": false,
    "editable": false,
    "nbgrader": {
     "cell_type": "markdown",
     "checksum": "7fed134749c7f97f752db58234b409d9",
     "grade": false,
     "grade_id": "cell-e4f9a84ea7547eac",
     "locked": true,
     "schema_version": 3,
     "solution": false,
     "task": false
    }
   },
   "source": [
    "# Cours ENPC - Pratique du calcul scientifique"
   ]
  },
  {
   "cell_type": "markdown",
   "id": "ee1b8d76",
   "metadata": {
    "deletable": false,
    "editable": false,
    "nbgrader": {
     "cell_type": "markdown",
     "checksum": "65271d1e40abdf55d097eb6740bce2d6",
     "grade": false,
     "grade_id": "cell-fd8fe66990449d77",
     "locked": true,
     "schema_version": 3,
     "solution": false,
     "task": false
    },
    "slideshow": {
     "slide_type": ""
    },
    "tags": []
   },
   "source": [
    "#### Instructions:\n",
    "\n",
    "- Before you turn in this assignment, make sure everything runs as expected. To check this, **restart VS Code** and then **run all cells**.\n",
    "\n",
    "- <mark style=\"color: red;\">\n",
    "    Most of the exercises in this notebook will be graded automatically.\n",
    "    You may modify the content of existing cells and add new cells.\n",
    "    However, to ensure smooth automatic grading,\n",
    "    <strong>do not remove or alter the metadata of the cells given,</strong>\n",
    "    especially those requiring your input. </mark>\n",
    "\n",
    "- Make sure you fill in any place that says `YOUR CODE HERE` or `YOUR ANSWER HERE`, as well as your name below:\n",
    "\n",
    "- Make sure to remove the lines `error(\"No code provided\")` once you have filled in your solution."
   ]
  },
  {
   "cell_type": "code",
   "execution_count": null,
   "id": "84fce1be",
   "metadata": {
    "deletable": false,
    "editable": true,
    "slideshow": {
     "slide_type": ""
    },
    "tags": []
   },
   "outputs": [],
   "source": [
    "NAME = \"Prénom Nom\"\n",
    "\n",
    "# By submitting the notebook, you agree with the following sentence\n",
    "println(\"I certify that this notebook is the result of my own independent work. Signed: $NAME\")"
   ]
  },
  {
   "cell_type": "markdown",
   "id": "4b257e8f",
   "metadata": {
    "deletable": false,
    "editable": false,
    "nbgrader": {
     "cell_type": "markdown",
     "checksum": "d6a6a86aaa7910acbb0dd93b1843d9c7",
     "grade": false,
     "grade_id": "cell-b6ca83d0-852f-4da3-a7a6-38b5655e4379",
     "locked": true,
     "schema_version": 3,
     "solution": false,
     "task": false
    },
    "tags": [
     "DO NOT DELETE THIS CELL"
    ]
   },
   "source": [
    "## Week 3: Linear systems"
   ]
  },
  {
   "cell_type": "code",
   "execution_count": null,
   "id": "97bd381e",
   "metadata": {
    "deletable": false,
    "editable": false,
    "nbgrader": {
     "cell_type": "code",
     "checksum": "c378e74068c6db9b81dd8345c932f15b",
     "grade": false,
     "grade_id": "cell-4d638a879ba6f86e",
     "locked": true,
     "schema_version": 3,
     "solution": false,
     "task": false
    }
   },
   "outputs": [],
   "source": [
    "using LaTeXStrings\n",
    "using LinearAlgebra\n",
    "using Plots\n",
    "using Polynomials\n",
    "import Random"
   ]
  },
  {
   "cell_type": "markdown",
   "id": "181d8b3b",
   "metadata": {
    "deletable": false,
    "editable": false,
    "nbgrader": {
     "cell_type": "markdown",
     "checksum": "5a9cb0d91950945b1f25c26408357f58",
     "grade": false,
     "grade_id": "cell-79522e8c-100c-4cfb-9b7e-390ea1f65702",
     "locked": true,
     "schema_version": 3,
     "solution": false,
     "task": false
    },
    "tags": [
     "DO NOT DELETE THIS CELL"
    ]
   },
   "source": [
    "### <font color='green'>Interpolation and approximation</font>"
   ]
  },
  {
   "cell_type": "markdown",
   "id": "3aedf007",
   "metadata": {
    "deletable": false,
    "editable": false,
    "nbgrader": {
     "cell_type": "markdown",
     "checksum": "21e0a85b5cdba4dfbc7029cf9a91e293",
     "grade": false,
     "grade_id": "cell-f435cc48-d17b-4679-826e-61b0efdc4252",
     "locked": true,
     "schema_version": 3,
     "solution": false,
     "task": false
    },
    "tags": [
     "DO NOT DELETE THIS CELL"
    ]
   },
   "source": [
    "#### <font color='orange'>[Exercise 1]</font> Least squares approximation"
   ]
  },
  {
   "cell_type": "markdown",
   "id": "74bf196c",
   "metadata": {
    "deletable": false,
    "editable": false,
    "nbgrader": {
     "cell_type": "markdown",
     "checksum": "5a4d9b3d897a6dd5cd0c5522823226bc",
     "grade": false,
     "grade_id": "cell-66badfa0-2eff-46c9-8a20-48463df1a375",
     "locked": true,
     "schema_version": 3,
     "solution": false,
     "task": false
    },
    "tags": [
     "DO NOT DELETE THIS CELL"
    ]
   },
   "source": [
    "The objective of this exercise is to approximate some given data `x`, `y` using a\n",
    "polynomial of a given degree,\n",
    "potentially much lower than the number of data points.\n",
    "\n",
    "1. Without using any library,\n",
    "   write a function `polyfit(x, y, d)` which,\n",
    "   given data points\n",
    "   $\n",
    "       (x_1, y_1), \\dotsc, (x_N, y_N)\n",
    "   $\n",
    "   and an integer $0 \\leq d \\leq N-1$,\n",
    "   calculates the unique polynomial $p \\in \\mathbb R[x]$ of degree at most $d$ minimizing the total error\n",
    "\n",
    "   $$\n",
    "       E := \\frac{1}{2} \\sum_{n=0}^{N} \\bigl\\lvert p(x_n) - y_n \\bigr\\rvert^2.\n",
    "   $$\n",
    "   Your function should return a vector containing the $d+1$ coefficients of $p$,\n",
    "   starting from the constant term.\n",
    "   <details>\n",
    "       <summary>\n",
    "           <em><font color='gray'>Hint (click to display)</font></em>\n",
    "       </summary>\n",
    "\n",
    "   Within the function, you can proceed as follows.\n",
    "   First, create the following matrix and vector:\n",
    "   $$\n",
    "       \\mathbf{A} =\n",
    "       \\begin{pmatrix}\n",
    "           1 & x_0 & \\dots & x_0^d \\\\\n",
    "           \\vdots & \\vdots & & \\vdots \\\\\n",
    "           1 & x_{N} & \\dots & x_N^d\n",
    "       \\end{pmatrix},\n",
    "       \\qquad\n",
    "       \\mathbf{b} =\n",
    "       \\begin{pmatrix}\n",
    "           y_0 \\\\\n",
    "           \\vdots \\\\\n",
    "           y_N\n",
    "       \\end{pmatrix}.\n",
    "   $$\n",
    "   Note that the error $E$ rewrites as follows:\n",
    "   $$\n",
    "   E(\\boldsymbol \\alpha) = \\frac{1}{2} \\bigl\\lVert \\mathsf A \\boldsymbol \\alpha - \\boldsymbol b \\bigr\\rVert^2,\n",
    "   $$\n",
    "   where $\\boldsymbol \\alpha$ is a vector containing the coefficients\n",
    "   of the polynomial, in order of increasing degree, and $\\lVert \\cdot \\rVert$\n",
    "   is the Euclidean norm.\n",
    "   In other words, the function $E$ is a quadratic function of the\n",
    "   vector of coefficients of the polynomial.\n",
    "   Writing $\\nabla E(\\boldsymbol \\alpha) = 0$ leads to the so-called **normal equations**:\n",
    "   $$\n",
    "       \\mathsf{A}^\\top \\mathsf{A} \\boldsymbol{\\alpha} = \\mathsf{A}^\\top \\mathbf{b}.\n",
    "   $$\n",
    "   This is a linear system with a square invertible matrix on the left-hand side,\n",
    "   which can be solved using the backslash operator `\\`;\n",
    "   in fact you can write just `A\\b` instead of `(A'A)\\(A'b)`,\n",
    "   because the operator `\\` performs a least squares approximation by default.\n",
    "   </details>"
   ]
  },
  {
   "cell_type": "code",
   "execution_count": null,
   "id": "27b92634",
   "metadata": {
    "deletable": false,
    "nbgrader": {
     "cell_type": "code",
     "checksum": "98e6a5df69f5eb97fae853025053f369",
     "grade": false,
     "grade_id": "polyfit",
     "locked": false,
     "schema_version": 3,
     "solution": true,
     "task": false
    }
   },
   "outputs": [],
   "source": [
    "function polyfit(x, y, d)\n",
    "    # YOUR CODE HERE [⚠ DO NOT DELETE THIS CELL]\n",
    "    error(\"No code provided\")\n",
    "end;"
   ]
  },
  {
   "cell_type": "code",
   "execution_count": null,
   "id": "792419fc",
   "metadata": {
    "deletable": false,
    "editable": false,
    "nbgrader": {
     "cell_type": "code",
     "checksum": "6776feb7f3042d19101310622abb04c0",
     "grade": true,
     "grade_id": "test_polyfit",
     "locked": true,
     "points": 1,
     "schema_version": 3,
     "solution": false,
     "task": false
    },
    "tags": [
     "DO NOT DELETE THIS CELL"
    ]
   },
   "outputs": [],
   "source": [
    "n = 10 ; x = 1:n ; Random.seed!(2025); y = randn(n)\n",
    "@assert polyfit([0.], [0.], 0) ≈ [0.]\n",
    "@assert polyfit(1:5, 1:5, 1) ≈ [0., 1.]\n",
    "@assert polyfit(x, y, 0) ≈ [sum(y)/n]\n",
    "@assert polyfit(x, y, 0) ≈ [sum(y)/n]\n",
    "@assert polyfit(x, y, 2) ≈ fit(x, y, 2).coeffs"
   ]
  },
  {
   "cell_type": "markdown",
   "id": "a4738652",
   "metadata": {
    "deletable": false,
    "editable": false,
    "nbgrader": {
     "cell_type": "markdown",
     "checksum": "367b84e335fbef492a20f7e13928a9da",
     "grade": false,
     "grade_id": "cell-4644819f-2339-4e2b-aae2-c1d05db770f3",
     "locked": true,
     "schema_version": 3,
     "solution": false,
     "task": false
    },
    "tags": [
     "DO NOT DELETE THIS CELL"
    ]
   },
   "source": [
    "2. Write also a function `polyval(α, X)`\n",
    "   to evaluate the polynomial\n",
    "   $$\n",
    "       p(x) = \\alpha_0 + \\alpha_1 x + \\dotsc + \\alpha_d x^d\n",
    "   $$\n",
    "   at all the points in `X`.\n",
    "   The function should return the result in a vector."
   ]
  },
  {
   "cell_type": "code",
   "execution_count": null,
   "id": "50aa35cc",
   "metadata": {
    "deletable": false,
    "nbgrader": {
     "cell_type": "code",
     "checksum": "6afa0baed40e07445ea61182fff5888d",
     "grade": false,
     "grade_id": "polyval",
     "locked": false,
     "schema_version": 3,
     "solution": true,
     "task": false
    }
   },
   "outputs": [],
   "source": [
    "function polyval(α, X)\n",
    "    # YOUR CODE HERE [⚠ DO NOT DELETE THIS CELL]\n",
    "    error(\"No code provided\")\n",
    "end;"
   ]
  },
  {
   "cell_type": "code",
   "execution_count": null,
   "id": "5670626b",
   "metadata": {
    "deletable": false,
    "editable": false,
    "nbgrader": {
     "cell_type": "code",
     "checksum": "ab7bf7e63f2f8b67f139f7398b3faced",
     "grade": true,
     "grade_id": "test_polyval",
     "locked": true,
     "points": 1,
     "schema_version": 3,
     "solution": false,
     "task": false
    },
    "tags": [
     "DO NOT DELETE THIS CELL"
    ]
   },
   "outputs": [],
   "source": [
    "n = 10 ; Random.seed!(2025); α = randn(n)\n",
    "@assert polyval([0.], [1., 2., 3.]) == [0., 0., 0.]\n",
    "@assert polyval(α, [0., 1.]) ≈ [α[1], sum(α)]"
   ]
  },
  {
   "cell_type": "markdown",
   "id": "d2b6b636",
   "metadata": {
    "deletable": false,
    "editable": false,
    "nbgrader": {
     "cell_type": "markdown",
     "checksum": "7ecc57ff1fa413328864862ff78a38ab",
     "grade": false,
     "grade_id": "cell-3c6d426b-2b70-4020-bf0c-b4e363bdf521",
     "locked": true,
     "schema_version": 3,
     "solution": false,
     "task": false
    },
    "tags": [
     "DO NOT DELETE THIS CELL"
    ]
   },
   "source": [
    "Use the data given below,\n",
    "of the altitude of a marble in free fall as a function of time on a remote planet, to test your code.\n",
    "The experiment was performed on a different planet. \n",
    "Can you find which one based on the coefficient of the quadratic term? See [Gravitational acceleration](https://en.wikipedia.org/wiki/Gravitational_acceleration)."
   ]
  },
  {
   "cell_type": "code",
   "execution_count": null,
   "id": "4e44b037",
   "metadata": {},
   "outputs": [],
   "source": [
    "# Time since dropping the marble\n",
    "x = [0., 1., 2., 3., 4., 5.]\n",
    "\n",
    "# Altitude of the marble\n",
    "y = [100., 98.26, 93.56, 81.79, 71.25, 53.22]\n",
    "\n",
    "# Fit using polyfit\n",
    "α = polyfit(x, y, 2)\n",
    "\n",
    "# Evalutate at X\n",
    "X = LinRange(0, 5, 200)\n",
    "Y = polyval(α, X)\n",
    "\n",
    "plot(X, Y, label=\"My approximation\")\n",
    "scatter!(x, y, label=\"Data\")"
   ]
  },
  {
   "cell_type": "code",
   "execution_count": null,
   "id": "3d919efa",
   "metadata": {
    "deletable": false,
    "nbgrader": {
     "cell_type": "code",
     "checksum": "0f7550fc5c79998172553cfbfd80822a",
     "grade": false,
     "grade_id": "test_planet",
     "locked": false,
     "schema_version": 3,
     "solution": true,
     "task": false
    }
   },
   "outputs": [],
   "source": [
    "# Modify the planet, in lowercase English, then remove the exception\n",
    "planet = \"earth\"\n",
    "# YOUR CODE HERE [⚠ DO NOT DELETE THIS CELL]\n",
    "error(\"No code provided\")"
   ]
  },
  {
   "cell_type": "code",
   "execution_count": null,
   "id": "642c77ae",
   "metadata": {
    "deletable": false,
    "editable": false,
    "nbgrader": {
     "cell_type": "code",
     "checksum": "55f8d5b3a3bb9b84082c03a8d30da7c9",
     "grade": true,
     "grade_id": "cell-006e8ab7e7dccb35",
     "locked": true,
     "points": 1,
     "schema_version": 3,
     "solution": false,
     "task": false
    },
    "tags": [
     "DO NOT DELETE THIS CELL"
    ]
   },
   "outputs": [],
   "source": [
    "@assert planet != \"earth\""
   ]
  },
  {
   "cell_type": "markdown",
   "id": "db37553f",
   "metadata": {
    "deletable": false,
    "editable": false,
    "nbgrader": {
     "cell_type": "markdown",
     "checksum": "17f6a6275cb34bf9c8c11ef8627123f6",
     "grade": false,
     "grade_id": "cell-6a193f2a-b89b-4e57-86ea-727e603dec50",
     "locked": true,
     "schema_version": 3,
     "solution": false,
     "task": false
    },
    "tags": [
     "DO NOT DELETE THIS CELL"
    ]
   },
   "source": [
    "   <details>\n",
    "       <summary>\n",
    "           <em><font color='gray'>Least squares approximation using `Polynomials.fit` (click to display)</font></em>\n",
    "       </summary>\n",
    "\n",
    "   We saw in the previous class that `Polynomials.fit` could be employed for\n",
    "   polynomial interpolation. This function also be used for fitting\n",
    "   data by minimizing the sum of squared residuals,\n",
    "   which can be achieved as follows:\n",
    "   </details>"
   ]
  },
  {
   "cell_type": "code",
   "execution_count": null,
   "id": "ade224ef",
   "metadata": {
    "deletable": false,
    "editable": false,
    "lines_to_next_cell": 2,
    "nbgrader": {
     "cell_type": "code",
     "checksum": "e0cc27e2e533e19c2a8c803ab068763c",
     "grade": false,
     "grade_id": "cell-aa104b090b54806d",
     "locked": true,
     "schema_version": 3,
     "solution": false,
     "task": false
    }
   },
   "outputs": [],
   "source": [
    "# This returns structure of type `Polynomial`, with associated degree 2\n",
    "p = fit(x, y, 2)\n",
    "@show p\n",
    "\n",
    "# The coefficients can be obtained as follows\n",
    "@show p.coeffs\n",
    "\n",
    "# The structure `p` behaves like a function\n",
    "@show p(0)\n",
    "\n",
    "X = LinRange(0, 5, 200)\n",
    "plot(X, p.(X), label=\"Polynomials.jl approximation\")"
   ]
  },
  {
   "cell_type": "markdown",
   "id": "13ab9eb8",
   "metadata": {
    "deletable": false,
    "editable": false,
    "nbgrader": {
     "cell_type": "markdown",
     "checksum": "c53bba40865fbd78d8f30be674a12c69",
     "grade": false,
     "grade_id": "cell-32bc47ea-7217-49aa-a101-48a267acbe00",
     "locked": true,
     "schema_version": 3,
     "solution": false,
     "task": false
    },
    "tags": [
     "DO NOT DELETE THIS CELL"
    ]
   },
   "source": [
    "### <font color='green'>Direct methods</font>"
   ]
  },
  {
   "cell_type": "markdown",
   "id": "fe54016f",
   "metadata": {
    "deletable": false,
    "editable": false,
    "nbgrader": {
     "cell_type": "markdown",
     "checksum": "6970f1e441dc934ab08d3ab4b16e694f",
     "grade": false,
     "grade_id": "cell-8574a5a5-2de4-4ea1-a45a-935044f9ad18",
     "locked": true,
     "schema_version": 3,
     "solution": false,
     "task": false
    },
    "tags": [
     "DO NOT DELETE THIS CELL"
    ]
   },
   "source": [
    "#### <font color='orange'>[Exercise 2]</font> LU decomposition without Gaussian elimination\n",
    "\n",
    "L'objectif de cet exercice est de proposer un algorithme permettant de réaliser la décomposition LU d'une matrice réelle $\\mathsf{A}\\in\\mathbb{R}^{n×n}$,\n",
    "**non pas par élimination gaussienne** mais par identification des entrées de $\\mathsf A$ avec celles de $\\mathsf L \\mathsf U$.\n",
    "Il s'agit de trouver un matrice triangulaire inférieure $\\mathsf L$ formée de 1 sur la diagonale\n",
    "et une matrice triangulaire supérieure $\\mathsf U$ telles que :\n",
    "<a id=\"LU\"></a>\n",
    "$$\n",
    "\\tag{LU}\n",
    "\\mathsf{A}=\\mathsf{L}\\mathsf{U}\n",
    "$$\n",
    "\n",
    "1. Écrire une fonction `my_lu(A)` qui prend comme argument une matrice `A` et qui renvoie les matrices `L` et `U`.\n",
    "   Pour calculer ces matrices, s'appuyer sur une identification successive des éléments des deux membres de <a href=\"#LU\">(LU)</a>,\n",
    "   ligne par ligne de haut en bas, et de gauche à droite au sein de chaque ligne.\n",
    "\n",
    "   <details>\n",
    "       <summary>\n",
    "           <em><font color='gray'>Hint (click to display)</font></em>\n",
    "       </summary>\n",
    "\n",
    "   Lorsqu'on suit l'ordre conseillé,\n",
    "   la comparaison de l'élément $(i, j)$ fournit une équation pour $\\ell_{ij}$ si $j < i$,\n",
    "   et une équation pour $u_{ij}$ si $j \\geq i$.\n",
    "   Notons qu'il est possible de parcourir les éléments dans d'autres ordres.\n",
    "   </details>"
   ]
  },
  {
   "cell_type": "code",
   "execution_count": null,
   "id": "35bafc16",
   "metadata": {
    "deletable": false,
    "nbgrader": {
     "cell_type": "code",
     "checksum": "7c1cd38f6365d6515efeb0e15458cb88",
     "grade": false,
     "grade_id": "my_lu",
     "locked": false,
     "schema_version": 3,
     "solution": true,
     "task": false
    }
   },
   "outputs": [],
   "source": [
    "function my_lu(A)\n",
    "    # YOUR CODE HERE [⚠ DO NOT DELETE THIS CELL]\n",
    "    error(\"No code provided\")\n",
    "    return L, U\n",
    "end;"
   ]
  },
  {
   "cell_type": "code",
   "execution_count": null,
   "id": "959b8697",
   "metadata": {
    "deletable": false,
    "editable": false,
    "nbgrader": {
     "cell_type": "code",
     "checksum": "e751e931bee28b6133f6e42fc854d1a4",
     "grade": true,
     "grade_id": "my_lu_tests",
     "locked": true,
     "points": 3,
     "schema_version": 3,
     "solution": false,
     "task": false
    },
    "tags": [
     "DO NOT DELETE THIS CELL"
    ]
   },
   "outputs": [],
   "source": [
    "ref_lu(A) = LinearAlgebra.lu(A, NoPivot())\n",
    "@assert my_lu(diagm([1; 2; 3])) == (diagm([1; 1; 1]), diagm([1; 2; 3]))\n",
    "@assert my_lu([2 -1 0; -1 2 -1; 0 -1 2])[1] ≈ [1 0 0; -1/2 1 0; 0 -2/3 1]\n",
    "@assert my_lu([2 -1 0; -1 2 -1; 0 -1 2])[2] ≈ [2 -1 0; 0 3/2 -1; 0 0 4/3]\n",
    "@assert (C = [1 2 3 4; 4 3 2 1; 1 2 1 2; 1 5 4 1]; my_lu(C)[1] ≈ ref_lu(C).L)\n",
    "@assert (C = [1 2 3 4; 4 3 2 1; 1 2 1 2; 1 5 4 1]; my_lu(C)[2] ≈ ref_lu(C).U)\n",
    "@assert (C = randn(100, 100); my_lu(C)[1] ≈ ref_lu(C).L)\n",
    "@assert (C = randn(100, 100); my_lu(C)[2] ≈ ref_lu(C).U)"
   ]
  },
  {
   "cell_type": "markdown",
   "id": "0f0677ba",
   "metadata": {
    "deletable": false,
    "editable": false,
    "nbgrader": {
     "cell_type": "markdown",
     "checksum": "32e046345bdb69ccfcff731f7eb5fca3",
     "grade": false,
     "grade_id": "cell-bd108cb9-52a4-4ba2-80e9-ebe1276a141f",
     "locked": true,
     "schema_version": 3,
     "solution": false,
     "task": false
    },
    "tags": [
     "DO NOT DELETE THIS CELL"
    ]
   },
   "source": [
    "2. On suppose maintenant que la matrice réelle définie positive `A` est à largeur de bande `b` supposée beaucoup plus petite que `n`.\n",
    "   Réécrire la fonction de décomposition LU en exploitant la largeur de bande.\n",
    "\n",
    "   <details>\n",
    "       <summary>\n",
    "           <em><font color='gray'>Hint (click to display)</font></em>\n",
    "       </summary>\n",
    "\n",
    "   Pour rappel, la largeur de bande est le plus petit nombre naturel $b$ tel que $a_{ij} = 0$ pour tout $i,j \\in \\{1, \\dots, n\\}$ tels que $|i-j| > b$.\n",
    "   </details>"
   ]
  },
  {
   "cell_type": "code",
   "execution_count": null,
   "id": "4c564d39",
   "metadata": {
    "deletable": false,
    "nbgrader": {
     "cell_type": "code",
     "checksum": "47275201995ef695226b2619afc572c6",
     "grade": false,
     "grade_id": "my_banded_lu",
     "locked": false,
     "schema_version": 3,
     "solution": true,
     "task": false
    }
   },
   "outputs": [],
   "source": [
    "function my_banded_lu(A, b)\n",
    "    # YOUR CODE HERE [⚠ DO NOT DELETE THIS CELL]\n",
    "    error(\"No code provided\")\n",
    "    return L, U\n",
    "end;"
   ]
  },
  {
   "cell_type": "code",
   "execution_count": null,
   "id": "6918d358",
   "metadata": {
    "deletable": false,
    "editable": false,
    "nbgrader": {
     "cell_type": "code",
     "checksum": "ca189c8be3054bdf3abec4a350bb45b5",
     "grade": true,
     "grade_id": "my_banded_lu_tests",
     "locked": true,
     "points": 2,
     "schema_version": 3,
     "solution": false,
     "task": false
    },
    "tags": [
     "DO NOT DELETE THIS CELL"
    ]
   },
   "outputs": [],
   "source": [
    "@assert begin C = randn(100, 100); my_banded_lu(C, 99)[1] ≈ ref_lu(C).L end\n",
    "@assert begin C = randn(100, 100); my_banded_lu(C, 99)[2] ≈ ref_lu(C).U end\n"
   ]
  },
  {
   "cell_type": "markdown",
   "id": "47799f1e",
   "metadata": {
    "deletable": false,
    "editable": false,
    "nbgrader": {
     "cell_type": "markdown",
     "checksum": "fd4e3596c389f76ac4733e7f16f6a4a8",
     "grade": false,
     "grade_id": "cell-3417c5ef-7dd7-4764-a548-3074c4fd5b76",
     "locked": true,
     "schema_version": 3,
     "solution": false,
     "task": false
    },
    "tags": [
     "DO NOT DELETE THIS CELL"
    ]
   },
   "source": [
    "3. Construire une fonction `generate_banded(n, b)` permettant de générer une matrice carrée aléatoire de taille `n` à largeur de bande donnée `b`."
   ]
  },
  {
   "cell_type": "code",
   "execution_count": null,
   "id": "84d806ec",
   "metadata": {
    "deletable": false,
    "nbgrader": {
     "cell_type": "code",
     "checksum": "6c14df7ad7526bc26e081d10374f75f2",
     "grade": false,
     "grade_id": "generate_banded",
     "locked": false,
     "schema_version": 3,
     "solution": true,
     "task": false
    }
   },
   "outputs": [],
   "source": [
    "function generate_banded(n, b)\n",
    "    # YOUR CODE HERE [⚠ DO NOT DELETE THIS CELL]\n",
    "    error(\"No code provided\")\n",
    "end;"
   ]
  },
  {
   "cell_type": "code",
   "execution_count": null,
   "id": "805404b9",
   "metadata": {
    "deletable": false,
    "editable": false,
    "nbgrader": {
     "cell_type": "code",
     "checksum": "38c64b58d8ead45cf615e8e7c9e526a4",
     "grade": true,
     "grade_id": "generate_banded_tests",
     "locked": true,
     "points": 2,
     "schema_version": 3,
     "solution": false,
     "task": false
    },
    "tags": [
     "DO NOT DELETE THIS CELL"
    ]
   },
   "outputs": [],
   "source": [
    "@assert generate_banded(10, 2)[1, 5] == 0\n",
    "@assert generate_banded(10, 2)[2, 5] == 0\n",
    "@assert generate_banded(10, 2)[3, 5] != 0\n",
    "@assert generate_banded(10, 2)[4, 5] != 0\n",
    "@assert generate_banded(10, 2)[5, 5] != 0\n",
    "@assert generate_banded(10, 2)[6, 5] != 0\n",
    "@assert generate_banded(10, 2)[7, 5] != 0\n",
    "@assert generate_banded(10, 2)[8, 5] == 0\n",
    "@assert generate_banded(10, 2)[9, 5] == 0"
   ]
  },
  {
   "cell_type": "markdown",
   "id": "18c785c8",
   "metadata": {
    "deletable": false,
    "editable": false,
    "nbgrader": {
     "cell_type": "markdown",
     "checksum": "2d74586b252c3ded9f54a929e75bcb2a",
     "grade": false,
     "grade_id": "cell-77cd2112-9711-4e58-b0ec-637bc7aa4a78",
     "locked": true,
     "schema_version": 3,
     "solution": false,
     "task": false
    },
    "tags": [
     "DO NOT DELETE THIS CELL"
    ]
   },
   "source": [
    "4. En utilisant `generate_banded`, tester votre implémentation de `my_banded_lu`,\n",
    "   pour `n = 100` et des valeurs de `b` égales à 2, 3 et 10.\n",
    "   <details>\n",
    "       <summary>\n",
    "           <em><font color='gray'>Hint (click to display)</font></em>\n",
    "       </summary>\n",
    "\n",
    "   Vous pouvez utiliser la fonction `lu` de la bibliothèque `LinearAlgebra`,\n",
    "   avec l'argument `NoPivot()`, correspondant à la fonnction `ref_lu` définie ci-dessus,\n",
    "   comme fonction de référence.\n",
    "   Vous pouvez également utiliser la macro `@assert` pour vos tests.\n",
    "   </details>"
   ]
  },
  {
   "cell_type": "code",
   "execution_count": null,
   "id": "4920e91f",
   "metadata": {
    "deletable": false,
    "nbgrader": {
     "cell_type": "code",
     "checksum": "494e7893118458f19efaa604a10a5093",
     "grade": true,
     "grade_id": "student_tests",
     "locked": false,
     "points": 1,
     "schema_version": 3,
     "solution": true,
     "task": false
    },
    "tags": [
     "DO NOT DELETE THIS CELL"
    ]
   },
   "outputs": [],
   "source": [
    "# YOUR CODE HERE [⚠ DO NOT DELETE THIS CELL]\n",
    "error(\"No code provided\")"
   ]
  },
  {
   "cell_type": "markdown",
   "id": "bf105816",
   "metadata": {
    "deletable": false,
    "editable": false,
    "nbgrader": {
     "cell_type": "markdown",
     "checksum": "cfa49555ee1ade401ccd45632107e8ea",
     "grade": false,
     "grade_id": "cell-886d4750-141c-407d-b9f1-47c47712aab9",
     "locked": true,
     "schema_version": 3,
     "solution": false,
     "task": false
    },
    "tags": [
     "DO NOT DELETE THIS CELL"
    ]
   },
   "source": [
    "### <font color='green'>Basic iterative methods</font>"
   ]
  },
  {
   "cell_type": "markdown",
   "id": "4f029899",
   "metadata": {
    "deletable": false,
    "editable": false,
    "nbgrader": {
     "cell_type": "markdown",
     "checksum": "47fff56097856d81df28c830b984a7b8",
     "grade": false,
     "grade_id": "cell-b5083fd7-03d6-4601-9683-a2e3e7be4142",
     "locked": true,
     "schema_version": 3,
     "solution": false,
     "task": false
    },
    "tags": [
     "DO NOT DELETE THIS CELL"
    ]
   },
   "source": [
    "#### <font color='orange'>[Exercise 3]</font> Richardson's iteration\n",
    "\n",
    "Considérer le système linéaire suivant:\n",
    "$$\n",
    "    \\mathsf A \\mathbf x :=\n",
    "    \\begin{pmatrix}\n",
    "        3 & 1 \\\\ 1 & 3\n",
    "    \\end{pmatrix}\n",
    "    \\begin{pmatrix}\n",
    "        x_1 \\\\\n",
    "        x_2\n",
    "    \\end{pmatrix}\n",
    "    =\n",
    "    \\begin{pmatrix}\n",
    "        11 \\\\\n",
    "        9\n",
    "    \\end{pmatrix} =: \\mathbf b.\n",
    "$$\n",
    "\n",
    " 1. Illustrer à l'aide de la fonction `Plots.contourf` les lignes de niveau de la fonction\n",
    " $$\n",
    "     f(\\mathbf x) = \\frac{1}{2} \\mathbf x^T \\mathsf A \\mathbf x - \\mathbf b^T \\mathbf x.\n",
    " $$"
   ]
  },
  {
   "cell_type": "code",
   "execution_count": null,
   "id": "a75e87a2",
   "metadata": {
    "deletable": false,
    "nbgrader": {
     "cell_type": "code",
     "checksum": "e603d9d172727d0c0efad69aafcaf2c6",
     "grade": true,
     "grade_id": "richardson",
     "locked": false,
     "points": 1,
     "schema_version": 3,
     "solution": true,
     "task": false
    },
    "tags": [
     "DO NOT DELETE THIS CELL"
    ]
   },
   "outputs": [],
   "source": [
    "A = [3. 1.; 1. 3.]\n",
    "b = [11.; 9.]\n",
    "sol = A\\b\n",
    "\n",
    "# YOUR CODE HERE [⚠ DO NOT DELETE THIS CELL]\n",
    "error(\"No code provided\")"
   ]
  },
  {
   "cell_type": "markdown",
   "id": "e9de4f3a",
   "metadata": {
    "deletable": false,
    "editable": false,
    "nbgrader": {
     "cell_type": "markdown",
     "checksum": "6c3183a2d7ae6318d0303f2e97e7e89d",
     "grade": false,
     "grade_id": "cell-e690821e-1caa-4448-98c7-3af10b3e59dc",
     "locked": true,
     "schema_version": 3,
     "solution": false,
     "task": false
    },
    "tags": [
     "DO NOT DELETE THIS CELL"
    ]
   },
   "source": [
    " 2. Implémenter l'itération de Richardson avec $\\omega = 0.1$ pour résoudre le système.\n",
    "    Votre fonction devra renvoyer une liste contenant toutes les itérations.\n",
    "    Initialiser l'algorithme à $\\mathbf x = 0$ et,\n",
    "    comme critère d'arrêt, utiliser\n",
    "    $$\n",
    "    \\lVert \\mathsf A \\mathbf x - \\mathbf b \\lVert \\leq \\varepsilon \\lVert \\mathbf b \\lVert, \\qquad \\varepsilon = 10^{-50}\n",
    "    $$\n",
    "    <details>\n",
    "        <summary>\n",
    "            <em><font color='gray'>Hint (click to display)</font></em>\n",
    "        </summary>\n",
    "\n",
    "    Pour ajouter un élément à la fin d'une liste,\n",
    "    utiliser la fonction `push!`:\n",
    "\n",
    "    ```julia\n",
    "    push!(xs, x)  # Adds x at the end of xs\n",
    "    ```\n",
    "    </details>"
   ]
  },
  {
   "cell_type": "code",
   "execution_count": null,
   "id": "f282f8c9",
   "metadata": {
    "deletable": false,
    "nbgrader": {
     "cell_type": "code",
     "checksum": "160d1ab709681a0f65ae8ac756e72ee8",
     "grade": true,
     "grade_id": "cell-2304e66a1cccd8ea",
     "locked": false,
     "points": 2,
     "schema_version": 3,
     "solution": true,
     "task": false
    },
    "tags": [
     "DO NOT DELETE THIS CELL"
    ]
   },
   "outputs": [],
   "source": [
    "function richardson(ω)\n",
    "    ε = 1e-50\n",
    "    x = zeros(BigFloat, 2)\n",
    "    xs = [x]\n",
    "    # YOUR CODE HERE [⚠ DO NOT DELETE THIS CELL]\n",
    "    error(\"No code provided\")\n",
    "    return xs\n",
    "end\n",
    "\n",
    "ω = .1\n",
    "xs = richardson(ω)\n",
    "scatter!(eachrow(hcat(xs...))...)\n",
    "plot!(eachrow(hcat(xs...))...)"
   ]
  },
  {
   "cell_type": "markdown",
   "id": "86106501",
   "metadata": {
    "deletable": false,
    "editable": false,
    "nbgrader": {
     "cell_type": "markdown",
     "checksum": "2fe6a12ece9596ba3503ae4bc6f96751",
     "grade": false,
     "grade_id": "cell-d16a4554-1d4d-44e8-8234-f1926b8bf91b",
     "locked": true,
     "schema_version": 3,
     "solution": false,
     "task": false
    },
    "tags": [
     "DO NOT DELETE THIS CELL"
    ]
   },
   "source": [
    " 3. Faire un plot de la norme du résidu $\\lVert r_k \\rVert := \\lVert \\mathsf A \\mathbf x^{(k)} - \\mathbf b \\rVert$ en fonction de $k$,\n",
    "    en utilisant une échelle linéaire pour l'axe des abcisses et une échelle logarithmique pour l'axe des ordonnées,\n",
    "    gràce à l'argument `yscale=:log` passé à la fonction `Plots.plot`."
   ]
  },
  {
   "cell_type": "code",
   "execution_count": null,
   "id": "a4400cd1",
   "metadata": {
    "deletable": false,
    "nbgrader": {
     "cell_type": "code",
     "checksum": "85585a41a4642b301be9448a7eebf557",
     "grade": true,
     "grade_id": "plot_error",
     "locked": false,
     "points": 1,
     "schema_version": 3,
     "solution": true,
     "task": false
    },
    "tags": [
     "DO NOT DELETE THIS CELL"
    ]
   },
   "outputs": [],
   "source": [
    "# YOUR CODE HERE [⚠ DO NOT DELETE THIS CELL]\n",
    "error(\"No code provided\")"
   ]
  },
  {
   "cell_type": "markdown",
   "id": "f73ec011",
   "metadata": {
    "deletable": false,
    "editable": false,
    "nbgrader": {
     "cell_type": "markdown",
     "checksum": "f7a9417219036f3ef514ce1d51b72b50",
     "grade": false,
     "grade_id": "cell-04f67d5a-a92b-460c-8adc-fafb64acfecb",
     "locked": true,
     "schema_version": 3,
     "solution": false,
     "task": false
    },
    "tags": [
     "DO NOT DELETE THIS CELL"
    ]
   },
   "source": [
    " 4. En utilisant `Polynomials.fit`, calculer une approximation du type\n",
    "    $$\n",
    "    \\log(r_k) \\approx α + βk \\qquad \\Leftrightarrow \\qquad r_k \\approx \\exp(α) \\times \\exp(β)^k.\n",
    "    $$\n",
    "    Comparer la valeur de $\\exp(β)$ au rayon spectral $\\rho(\\mathsf I - \\omega \\mathsf A)$."
   ]
  },
  {
   "cell_type": "code",
   "execution_count": null,
   "id": "20d1df7d",
   "metadata": {
    "deletable": false,
    "nbgrader": {
     "cell_type": "code",
     "checksum": "42acb58ad190f45b4df67de7ddd98a38",
     "grade": true,
     "grade_id": "cell-0dcbe1c4e4e61806",
     "locked": false,
     "points": 1,
     "schema_version": 3,
     "solution": true,
     "task": false
    },
    "tags": [
     "DO NOT DELETE THIS CELL"
    ]
   },
   "outputs": [],
   "source": [
    "# Define β and ρ below\n",
    "# YOUR CODE HERE [⚠ DO NOT DELETE THIS CELL]\n",
    "error(\"No code provided\")\n",
    "\n",
    "exp(β), ρ"
   ]
  },
  {
   "cell_type": "markdown",
   "id": "59a679eb",
   "metadata": {
    "deletable": false,
    "editable": false,
    "nbgrader": {
     "cell_type": "markdown",
     "checksum": "92269fffaef27567f631191a50cbbe20",
     "grade": false,
     "grade_id": "cell-f502f48b-6978-4e25-b8d4-106dbc8c4e66",
     "locked": true,
     "schema_version": 3,
     "solution": false,
     "task": false
    },
    "tags": [
     "DO NOT DELETE THIS CELL"
    ]
   },
   "source": [
    "5. Calculer le paramètre $\\omega$ optimal et refaire le plot de la décroissance de la norme du résidu dans ce cas."
   ]
  },
  {
   "cell_type": "code",
   "execution_count": null,
   "id": "3b57cbae",
   "metadata": {
    "deletable": false,
    "nbgrader": {
     "cell_type": "code",
     "checksum": "3c66db3a784b013f3b47fa5259f2a69e",
     "grade": true,
     "grade_id": "cell-f2d06f69cd09a3aa",
     "locked": false,
     "points": 1,
     "schema_version": 3,
     "solution": true,
     "task": false
    },
    "tags": [
     "DO NOT DELETE THIS CELL"
    ]
   },
   "outputs": [],
   "source": [
    "# YOUR CODE HERE [⚠ DO NOT DELETE THIS CELL]\n",
    "error(\"No code provided\")"
   ]
  },
  {
   "cell_type": "markdown",
   "id": "da4ef384",
   "metadata": {
    "deletable": false,
    "editable": false,
    "nbgrader": {
     "cell_type": "markdown",
     "checksum": "c02337f1daaaa05fe7e23ddff3ae64c7",
     "grade": false,
     "grade_id": "cell-ea619fb2-9f3f-4d37-bf9d-1c5e46984678",
     "locked": true,
     "schema_version": 3,
     "solution": false,
     "task": false
    },
    "tags": [
     "DO NOT DELETE THIS CELL"
    ]
   },
   "source": [
    "### <font color='green'>La méthode des gradients conjugués</font>"
   ]
  },
  {
   "cell_type": "markdown",
   "id": "47a0936a",
   "metadata": {
    "deletable": false,
    "editable": false,
    "nbgrader": {
     "cell_type": "markdown",
     "checksum": "729f74e80f420ef5dd0a24863836412d",
     "grade": false,
     "grade_id": "cell-ec208fe3-2fb2-4439-8f40-c03b9a6d8a6c",
     "locked": true,
     "schema_version": 3,
     "solution": false,
     "task": false
    },
    "tags": [
     "DO NOT DELETE THIS CELL"
    ]
   },
   "source": [
    "On considère un système linéaire de la forme\n",
    "$$\n",
    "\\tag{*} \\mathsf A \\mathbf x = \\mathbf b,\n",
    "$$\n",
    "<span id=\"system\"></span>\n",
    "où $\\mathsf A \\in \\mathbb R^{n\\times n}$ est une matrice symétrique définie positive.\n",
    "On note $\\mathbf x_*$ la solution exacte du système.\n",
    "L'objectif de cet exercice est de dériver théoriquement puis implémenter la *méthode des gradients conjugués*.\n",
    "Afin de se concentrer sur la seconde partie,\n",
    "les solutions de la première partie sont données."
   ]
  },
  {
   "cell_type": "markdown",
   "id": "1b574187",
   "metadata": {
    "deletable": false,
    "editable": false,
    "nbgrader": {
     "cell_type": "markdown",
     "checksum": "171456702ac581e43b8b32da83609c49",
     "grade": false,
     "grade_id": "cell-48fd4a31-5364-43f8-a279-55920a22cb85",
     "locked": true,
     "schema_version": 3,
     "solution": false,
     "task": false
    },
    "tags": [
     "DO NOT DELETE THIS CELL"
    ]
   },
   "source": [
    "#### <font color='orange'>[Optional exercise]</font> Dérivation théorique de la méthode\n",
    "\n",
    "On suppose qu'un vecteur $\\mathbf x_0$ est donné et on définit, pour $k \\in \\mathbb N$,\n",
    "l'espace de Krylov\n",
    "$$\n",
    "\\mathcal K_k := \\text{Span} \\Bigl\\{ \\mathbf r_0, \\mathsf A \\mathbf r_0, \\mathsf A^2 \\mathbf r_0, \\dotsc, \\mathsf A^{k-1} \\mathbf r_0 \\Bigr\\},\n",
    "\\qquad \\mathbf r_0 := \\mathsf A \\mathbf x_0 - \\mathbf b.\n",
    "$$\n",
    "Soit $\\mathbf x_k$ le minimiseur de $f$ sur l'espace affine $\\mathbf x_0 + \\mathcal K_k$,\n",
    "où $f$ est la fonction\n",
    "$$\n",
    "f(\\mathbf x) := \\frac{1}{2} \\mathbf x^T \\mathsf A \\mathbf x - \\mathbf b^T \\mathbf x.\n",
    "$$\n",
    "Rappelons que le vecteur $\\mathbf x_*$ est minimiseur global de cette fonction strictement convexe.\n",
    "Le but de cet exercice est de motiver la *méthode des gradients conjugés*, \n",
    "qui peut être vue comme une formule de récurence simple pour construire les $\\mathbf x_k$ de manière itérative.\n",
    "Pour ce faire, nous allons suivre les étapes suivantes :\n"
   ]
  },
  {
   "cell_type": "markdown",
   "id": "f3bd2a65",
   "metadata": {
    "deletable": false,
    "editable": false,
    "nbgrader": {
     "cell_type": "markdown",
     "checksum": "f69605646c388460b7e486fdb9741c3c",
     "grade": false,
     "grade_id": "cell-42091f83-0913-4314-8757-695525411482",
     "locked": true,
     "schema_version": 3,
     "solution": false,
     "task": false
    },
    "tags": [
     "DO NOT DELETE THIS CELL"
    ]
   },
   "source": [
    "1. Montrer qu'il existe $k_* \\in \\{0, \\dotsc, n\\}$ tel que $\\mathbf x_k = \\mathbf x_*$ pour tout $k \\geq k_*$.\n",
    "\n",
    "   <details>\n",
    "       <summary>\n",
    "           <em><font color='blue'>Solution (click to display)</font></em>\n",
    "       </summary>\n",
    "\n",
    "   - La suite des sous-espaces $\\{\\mathcal K_k\\}$ est croissante et ces sous-espaces sont de dimension au plus $n$,\n",
    "     donc il existe $k_* \\in \\{0, \\dotsc, n\\}$ tel que $\\mathcal K_{k_* + 1} = \\mathcal K_{k_*}$.\n",
    "     En particulier $\\mathsf A \\mathcal K_{k_*} \\subset \\mathcal K_{k_*}$.\n",
    "\n",
    "   - Comme $\\mathsf A$ est inversible,\n",
    "     les deux sous-espaces $\\mathsf A \\mathcal K_{k_*}$ et $\\mathcal K_{k_*}$ sont de même dimension.\n",
    "     Par conséquent, l'inclusion $\\mathsf A \\mathcal K_{k_*} \\subset \\mathcal K_{k_*}$\n",
    "     implique qu'en fait $\\mathsf A \\mathcal K_{k_*} = \\mathcal K_{k_*}$.\n",
    "\n",
    "   - En particulier $\\mathbf r_0 \\in \\mathsf A \\mathcal K_{k_*}$,\n",
    "     donc il existe $\\mathbf z_* \\in \\mathcal K_{k_*}$ tel que $\\mathsf A \\mathbf z_* = -\\mathbf r_0$.\n",
    "\n",
    "   - On conclut car alors $\\mathsf A (\\mathbf x_0 + \\mathbf z_*) = \\mathbf b$,\n",
    "     et donc $\\mathbf x_* = \\mathbf x_0 + \\mathbf z_*$\n",
    "     appartient à l'espace affine $\\mathbf x_0 + \\mathcal K_{k_*}$.\n",
    "   </details>\n",
    "   <br>\n",
    "2. Montrer que\n",
    "   $f(\\mathbf x) = \\frac{1}{2} \\lVert \\mathbf x - \\mathbf x_* \\lVert_{\\mathsf A}^2 + f(\\mathbf x_*)$,\n",
    "   où $\\langle \\mathbf x, \\mathbf y \\rangle_{\\mathsf A} := \\mathbf x^T \\mathsf A \\mathbf y$\n",
    "   et $\\lVert \\cdot \\rVert_{\\mathsf A}$ est la norme associée.\n",
    "\n",
    "   <details>\n",
    "       <summary>\n",
    "           <em><font color='gray'>Remarque (click to display)</font></em>\n",
    "       </summary>\n",
    "\n",
    "   Ce point implique que $\\mathbf x_k - \\mathbf x_0$ est la projection $\\mathsf A$-orthogonale de $\\mathbf x_* - \\mathbf x_0$ sur $\\mathcal K_k$.\n",
    "   </details>\n",
    "   <br>\n",
    "3. Soit $\\mathbf r_k := \\mathsf A \\mathbf x_k - \\mathbf b.$\n",
    "   Montrer que $\\mathbf r_k = \\mathbf r_0 + \\mathsf A (\\mathbf x_k - \\mathbf x_0)$,\n",
    "   et en déduire que $\\mathbf r_k \\in \\mathcal K_{k+1}$.\n",
    "\n",
    "4. Montrer que $\\langle \\mathbf r_{k}, \\mathbf v \\rangle = 0$ pour tout $\\mathbf v \\in \\mathcal K_{k}.$\n",
    "\n",
    "   <details>\n",
    "       <summary>\n",
    "           <em><font color='blue'>Solution (click to display)</font></em>\n",
    "       </summary>\n",
    "\n",
    "   Noter que\n",
    "   $$\n",
    "       f(\\mathbf x_k + \\varepsilon \\mathbf v) = \\frac{1}{2} \\lVert \\mathbf x_k - \\mathbf x_* \\lVert_{\\mathsf A}^2 + \\varepsilon \\langle \\mathbf x_k - \\mathbf x_*, \\mathbf v \\rangle_{\\mathsf A} + \\frac{\\varepsilon^2}{2} \\lVert \\mathbf v \\lVert_{\\mathsf A}^2 + f(\\mathbf x_*).\n",
    "   $$\n",
    "   Par définition de $\\mathbf x_k$, cette expression est minimale pour $\\varepsilon = 0$.\n",
    "   En imposant que la dérivée par rapport à $\\varepsilon$ du membre de droite soit égale à 0 pour $\\varepsilon = 0$,\n",
    "   on obtient $\\langle \\mathbf x_k - \\mathbf x_*, \\mathbf v \\rangle_{\\mathsf A} = 0,$\n",
    "   ce qui permet de conclure car $\\langle \\mathbf x_k - \\mathbf x_*, \\mathbf v \\rangle_{\\mathsf A} = \\langle \\mathbf r_{k}, \\mathbf v \\rangle$.\n",
    "\n",
    "   </details>\n",
    "   <br>\n",
    "5. Déduire des deux points précédents que si $\\mathbf r_k \\neq \\mathbf 0$,\n",
    "   alors $\\mathbf r_k \\in \\mathcal K_{k+1} \\setminus \\mathcal K_k$.\n",
    "\n",
    "6. Déduire aussi que $\\langle \\mathbf r_{k}, \\mathbf v \\rangle_{\\mathsf A} = 0$ pour tout $\\mathbf v \\in \\mathcal K_{k-1}$,\n",
    "   pour $k \\geq 1$.\n",
    "\n",
    "   <details>\n",
    "       <summary>\n",
    "           <em><font color='blue'>Solution (click to display)</font></em>\n",
    "       </summary>\n",
    "\n",
    "   C'est clair car $\\langle \\mathbf r_{k}, \\mathbf v \\rangle_{\\mathsf A} = \\langle \\mathbf r_{k}, \\mathsf A \\mathbf v \\rangle$,\n",
    "   et $\\mathsf A \\mathbf v \\in \\mathcal K_{k}$ pour tout $\\mathbf v \\in \\mathcal K_{k-1}$, par définition des espaces de Krylov $\\{\\mathcal K_k\\}$.\n",
    "   </details>\n",
    "   <br>\n",
    "\n",
    "7. Conclure que, pour tout $k$ tel que $\\mathbf r_k \\neq \\mathbf 0$,\n",
    "   les vecteurs $(\\mathbf d_0, \\dotsc, \\mathbf d_k)$ définis par la relation de récurrence\n",
    "   $$\n",
    "   \\tag{CG1}\n",
    "   \\mathbf d_{\\ell} = \\mathbf r_{\\ell} - \\frac{\\mathbf r_{\\ell}^T \\mathsf A \\mathbf d_{\\ell-1}}{\\mathbf d_{\\ell-1}^T \\mathsf A \\mathbf d_{\\ell-1}} \\mathbf d_{\\ell-1},\n",
    "   \\qquad \\mathbf d_0 = \\mathbf r_0\n",
    "   $$\n",
    "   <span id=\"CG1\"></span>\n",
    "   forment une base $\\mathsf A$-orthogonale de $\\mathcal K_{k+1}$.\n",
    "\n",
    "   <details>\n",
    "       <summary>\n",
    "           <em><font color='blue'>Solution (click to display)</font></em>\n",
    "       </summary>\n",
    "\n",
    "   La propriété est trivialement vérifiée pour $k = 0$.\n",
    "   Prenons maintenant $k > 0$ et supposons par récurrence que $(\\mathbf d_0, \\dotsc, \\mathbf d_{k-1})$ forment une base $\\mathsf A$-orthogonale de $\\mathcal K_k$.\n",
    "   Par construction $\\left\\langle \\mathbf d_k, \\mathbf d_{k-1} \\right\\rangle_{\\mathsf A} = 0$.\n",
    "   On a aussi que $\\left\\langle \\mathbf d_k, \\mathbf d_{\\ell} \\right\\rangle_{\\mathsf A} = 0$ pour tout $\\ell \\in \\{0, \\dotsc, k-2\\}$,\n",
    "   car on a montré précédemment que $\\langle \\mathbf r_k, \\mathbf v \\rangle_{\\mathsf A} = 0$ pour tout $\\mathbf v \\in \\mathcal K_{k-1}$.\n",
    "   </details>\n",
    "   <br>\n",
    "\n",
    "8. Montrer que $\\mathbf x_{k+1} - \\mathbf x_{k}$ est $\\mathsf A$-orthogonal à $\\mathcal K_k$,\n",
    "   d'où $\\mathbf x_{k+1} = \\mathbf x_{k} - \\omega_k \\mathbf d_k$ pour un $\\omega_k \\in \\mathbb R$ quand $\\mathbf r_k \\neq 0$.\n",
    "\n",
    "   <details>\n",
    "       <summary>\n",
    "           <em><font color='blue'>Solution (click to display)</font></em>\n",
    "       </summary>\n",
    "\n",
    "   Noter que $\\langle \\mathbf x_{k+1} - \\mathbf x_k, \\mathbf v \\rangle_{\\mathsf A} = \\langle \\mathbf r_{k+1} - \\mathbf r_k, \\mathbf v \\rangle$,\n",
    "   et utiliser un des résultats prouvés ci-dessus.\n",
    "   </details>\n",
    "   <br>\n",
    "\n",
    "9. Pour terminer, montrer que\n",
    "   $$\n",
    "   \\tag{CG2}\n",
    "   \\mathbf x_{k+1} = \\mathbf x_k - \\frac{\\mathbf r_k^T \\mathbf d_k}{\\mathbf d_k^T \\mathsf A \\mathbf d_k} \\mathbf d_k.\n",
    "   $$\n",
    "   <span id=\"CG1\"></span>\n",
    "\n",
    "   <details>\n",
    "       <summary>\n",
    "           <em><font color='blue'>Solution (click to display)</font></em>\n",
    "       </summary>\n",
    "\n",
    "   Il suffit de trouver le paramètre $\\omega_k$ du point précédent par minimisation de $f(\\mathbf x_k - \\omega_k \\mathbf d_k)$.\n",
    "   </details>"
   ]
  },
  {
   "cell_type": "markdown",
   "id": "008f6c39",
   "metadata": {
    "deletable": false,
    "editable": false,
    "nbgrader": {
     "cell_type": "markdown",
     "checksum": "282d273376fdf8236acd2924d6c4afa8",
     "grade": false,
     "grade_id": "cell-6d13ab67-b35f-4edc-b824-4126e5470412",
     "locked": true,
     "schema_version": 3,
     "solution": false,
     "task": false
    },
    "tags": [
     "DO NOT DELETE THIS CELL"
    ]
   },
   "source": [
    "#### <font color='orange'>[Exercise 4]</font> Implémentation de la méthode\n",
    " Les relations <a href=\"#CG1\">(CG1)</a> et <a href=\"#CG2\">(CG2)</a> permettent de construire les vecteurs $(\\mathbf x_k)$ de manière récursive,\n",
    " à un coût par itération indépendent de $k$; c'est la méthode des **gradients conjugués**.\n",
    "\n",
    " - Sur base de ces équations,\n",
    "   implémenter une fonction Julia pour résoudre le système <a href=\"#system\">(*)</a>.\n",
    "   Votre fonction devra renvoyer un vecteur de vecteur (de type `Vector{Vector{Float64}}`)\n",
    "   contenant toutes les itérations $(\\mathbf x_0, \\mathbf x_1, \\dotsc, \\mathbf x_K)$.\n",
    "   Utiliser comme vecteur initial $\\mathbf x_0$ un vecteur de 1,\n",
    "   qui pourra être construit en utilisant la fonction `ones`.\n",
    "   Comme critère d'arrêt, utiliser la condition\n",
    "   $$\n",
    "   \\lVert \\mathsf A \\mathbf x_k - \\mathbf b \\rVert \n",
    "   \\leq ε \\lVert \\mathbf b \\rVert.\n",
    "   $$"
   ]
  },
  {
   "cell_type": "code",
   "execution_count": null,
   "id": "40384e23",
   "metadata": {
    "deletable": false,
    "nbgrader": {
     "cell_type": "code",
     "checksum": "860ad140b85ff9690f2a4f6e01661fa5",
     "grade": false,
     "grade_id": "conjugate_gradients",
     "locked": false,
     "schema_version": 3,
     "solution": true,
     "task": false
    }
   },
   "outputs": [],
   "source": [
    "function conjugate_gradients(A, b; ε=1e-10)\n",
    "    # YOUR CODE HERE [⚠ DO NOT DELETE THIS CELL]\n",
    "    error(\"No code provided\")\n",
    "end;"
   ]
  },
  {
   "cell_type": "code",
   "execution_count": null,
   "id": "40f22f41",
   "metadata": {
    "deletable": false,
    "editable": false,
    "nbgrader": {
     "cell_type": "code",
     "checksum": "a491cc6bc7ee3565305e57672092aad5",
     "grade": true,
     "grade_id": "conjugate_gradients_tests",
     "locked": true,
     "points": 2,
     "schema_version": 3,
     "solution": false,
     "task": false
    },
    "tags": [
     "DO NOT DELETE THIS CELL"
    ]
   },
   "outputs": [],
   "source": [
    "@assert typeof(conjugate_gradients([1. 0.; 0. 1.], [2.; 3.])) == Vector{Vector{Float64}}\n",
    "@assert conjugate_gradients([1. 0.; 0. 1.], [2.; 3.])[end] ≈ [2.; 3.]\n",
    "@assert conjugate_gradients([2. 1.; 1. 2.], [3.; 3.])[end] ≈ [1.; 1.]\n",
    "@assert conjugate_gradients([4. 1. 0.; 1. 4. 1.; 0. 1. 4.], [4.; 1.; 0.])[end] ≈ [1.; 0.; 0.]"
   ]
  },
  {
   "cell_type": "markdown",
   "id": "d29f9814",
   "metadata": {
    "deletable": false,
    "editable": false,
    "nbgrader": {
     "cell_type": "markdown",
     "checksum": "ca5fbd890f5280e187a0d1188c8bd0ae",
     "grade": false,
     "grade_id": "cell-88dbe367-7e2b-48cc-9d9e-816ae690bc75",
     "locked": true,
     "schema_version": 3,
     "solution": false,
     "task": false
    },
    "tags": [
     "DO NOT DELETE THIS CELL"
    ]
   },
   "source": [
    " - Tester votre implémentation sur la matrice $\\mathsf A$ et le vecteur $\\mathbf b$ du code ci-dessous,\n",
    "   qui correspondent à une discrétisation par différences finies de l'équation de Poisson sur le domaine $\\Omega = (0, 2) \\times (0, 1)$,\n",
    "   avec condition de Dirichlet homogène à la frontière:\n",
    "   $$\n",
    "   \\begin{aligned}\n",
    "       - \\Delta u(x, y) &= b(x, y), \\qquad (x, y) \\in \\Omega, \\\\\n",
    "       u(x, y) &= 0, \\quad \\qquad \\quad (x, y) \\in \\partial \\Omega.\n",
    "   \\end{aligned}\n",
    "   $$\n",
    "   Le membre de droite qu'on prend est\n",
    "   $$\n",
    "      b(x, y) = \\sin(4\\pi x) + \\sin(2\\pi y).\n",
    "   $$"
   ]
  },
  {
   "cell_type": "code",
   "execution_count": null,
   "id": "8c9d9c57",
   "metadata": {},
   "outputs": [],
   "source": [
    "using LaTeXStrings\n",
    "using LinearAlgebra\n",
    "using Plots\n",
    "import SparseArrays\n",
    "\n",
    "# Domain size\n",
    "Lx, Ly = 2, 1\n",
    "\n",
    "# Number of discretization points along x and y, including the boundary points\n",
    "nx, ny = 101, 101\n",
    "\n",
    "function discretize(nx, ny)\n",
    "    hx, hy = Lx/(nx - 1), Ly/(ny - 1)\n",
    "    Dxx = (1/hx^2) * SymTridiagonal(2ones(nx-2), -ones(nx-3))\n",
    "    Dyy = (1/hy^2) * SymTridiagonal(2ones(ny-2), -ones(ny-3))\n",
    "    A = kron(Dxx, I(ny-2)) + kron(I(nx-2), Dyy)\n",
    "    xgrid = Lx/(nx-1) * (1:nx-2)\n",
    "    ygrid = Ly/(ny-1) * (1:ny-2)\n",
    "    x_2d = reshape([x for y in ygrid, x in xgrid], (nx-2)*(ny-2))\n",
    "    y_2d = reshape([y for y in ygrid, x in xgrid], (nx-2)*(ny-2))\n",
    "    b = sin.(4π*x_2d) + sin.(2π*y_2d)\n",
    "    return SparseArrays.SparseMatrixCSC(A), b\n",
    "end\n",
    "\n",
    "function plot_solution(f)\n",
    "    f = reshape(f, ny-2, nx-2)\n",
    "    z = [zeros(nx)'; zeros(ny-2) f zeros(ny-2); zeros(nx)']  # Add boundary\n",
    "    xgrid = Lx/(nx-1) * (0:nx-1)\n",
    "    ygrid = Ly/(ny-1) * (0:ny-1)\n",
    "    heatmap(xgrid, ygrid, z, c=:viridis, levels=50)\n",
    "end\n",
    "\n",
    "A, b = discretize(nx, ny)\n",
    "xs = conjugate_gradients(A, b)\n",
    "x₊ = A\\b  # Exact solution\n",
    "plot_solution(x₊)\n",
    "plot_solution(xs[end])"
   ]
  },
  {
   "cell_type": "markdown",
   "id": "212866a2",
   "metadata": {
    "deletable": false,
    "editable": false,
    "nbgrader": {
     "cell_type": "markdown",
     "checksum": "bfaaf5b6bdd67f9583e71a6ddf2e74db",
     "grade": false,
     "grade_id": "cell-5ee513bd-98f3-4ef3-a374-15ec8765b418",
     "locked": true,
     "schema_version": 3,
     "solution": false,
     "task": false
    },
    "tags": [
     "DO NOT DELETE THIS CELL"
    ]
   },
   "source": [
    " - Faire un graphe illustrant l'évolution du résidu $\\lVert \\mathbf r_k \\rVert$, de l'erreur $\\lVert \\mathbf x_k - \\mathbf x_* \\rVert$,\n",
    "   et de l'erreur $\\lVert \\mathbf x_k - \\mathbf x_* \\rVert_{\\mathsf A}$ en fonction de $k$.\n",
    "   Choisissez des échelles appropriées pour le graphe (linéaire-linéaire, log-log, linéaire-log ou log-linéaire)."
   ]
  },
  {
   "cell_type": "code",
   "execution_count": null,
   "id": "880848fb",
   "metadata": {
    "deletable": false,
    "nbgrader": {
     "cell_type": "code",
     "checksum": "e862f0aa7892bcc82551c69426d08f24",
     "grade": true,
     "grade_id": "cg_errors",
     "locked": false,
     "points": 1,
     "schema_version": 3,
     "solution": true,
     "task": false
    },
    "tags": [
     "DO NOT DELETE THIS CELL"
    ]
   },
   "outputs": [],
   "source": [
    "# YOUR CODE HERE [⚠ DO NOT DELETE THIS CELL]\n",
    "error(\"No code provided\")"
   ]
  }
 ],
 "metadata": {
  "jupytext": {
   "encoding": "# -*- coding: utf-8 -*-"
  },
  "kernelspec": {
   "display_name": "Julia 1.10.9",
   "language": "julia",
   "name": "julia-1.10"
  },
  "language_info": {
   "file_extension": ".jl",
   "mimetype": "application/julia",
   "name": "julia",
   "version": "1.10.9"
  }
 },
 "nbformat": 4,
 "nbformat_minor": 5
}
