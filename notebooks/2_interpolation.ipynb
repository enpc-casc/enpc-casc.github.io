{
 "cells": [
  {
   "cell_type": "markdown",
   "id": "657ee43e-abd8-4efe-b5e0-6a632114529a",
   "metadata": {
    "tags": []
   },
   "source": [
    "# Cours ENPC - Pratique du calcul scientifique"
   ]
  },
  {
   "cell_type": "markdown",
   "id": "a30eaeba",
   "metadata": {},
   "source": [
    "## Interpolation et approximation\n",
    "\n",
    "Les graphiques peuvent être tracés grâce à la bibliothèque [`Plots.jl`](https://github.com/JuliaPlots/Plots.jl)\n",
    "\n",
    "- [dépôt GitHub](https://github.com/JuliaPlots/Plots.jl)\n",
    "\n",
    "- [documentation](https://docs.juliaplots.org/stable/)\n",
    "\n",
    "- [tutoriel](https://docs.juliaplots.org/stable/tutorial/)\n",
    "\n",
    "- Il est possible de définir des options de tracé par défaut (qui peuvent être redéfinies ponctuellement au besoin) par\n",
    "\n",
    "   ```julia\n",
    "   Plots.default(fontfamily=\"Computer Modern\",\n",
    "               titlefontsize=20,\n",
    "               xlabelfontsize=20,\n",
    "               ylabelfontsize=20,\n",
    "               legendfontsize=16,\n",
    "               xtickfontsize=16,\n",
    "               ytickfontsize=16,\n",
    "               linewidth=2,\n",
    "               markersize=7,\n",
    "               framestyle=:box,\n",
    "               label=nothing,\n",
    "               grid=true)\n",
    "   ```"
   ]
  },
  {
   "cell_type": "code",
   "execution_count": 1,
   "id": "16be1d44",
   "metadata": {},
   "outputs": [],
   "source": []
  },
  {
   "cell_type": "markdown",
   "id": "5c31501e",
   "metadata": {},
   "source": [
    "### Exercice sur les noeuds d'interpolation\n",
    "\n",
    "Écrire un code `Julia` pour interpoler la fonction suivante à l'aide d'un polynôme de degré 20 sur l'intervalle $[-1, 1]$.\n",
    "$$\n",
    "    f(x) = \\tanh\\left(\\frac{x+1/2}{\\varepsilon}\\right) + \\tanh\\left(\\frac{x}{\\varepsilon}\\right) + \\tanh\\left(\\frac{x-1/2}{\\varepsilon}\\right),\n",
    "    \\qquad \\varepsilon = .01\n",
    "$$\n",
    "Utiliser des noeuds équidistants puis des noeuds de Tchebychev et comparer les deux approches en termes de précision.\n",
    "Tracer la fonction $f$ ainsi que les polynômes d'interpolation.\n",
    "\n",
    "*Indications :*\n",
    "\n",
    "- Pour limiter les erreurs d'arrondi numérique, il est préférable que la fonction renvoie un type `BigFloat`, autrement dit\n",
    "\n",
    "    ```julia\n",
    "    f(x) = BigFloat(tanh((x+1/2)/ε) + tanh(x/ε) + tanh((x-1/2)/ε))\n",
    "    ```\n",
    "\n",
    "- Pour calculer rapidement les noeuds de Tchebychev, on peut exploiter la macro `@.` (comme toujours, il est conseillé de se référer à la documentation d'une commande en tapant `?` puis la commande dans la console). Cette commande évite d'utiliser des `.` après chaque fonction ou avant chaque opérateur.\n",
    "\n",
    "    ```julia\n",
    "    x = @. -cos(π*((0:n-1)+1/2)/n)\n",
    "    ```\n",
    "\n",
    "- Il peut être utile pour comparer les deux interpolations de limiter les valeurs minimale et maximale sur l'axe `y` à l'aide de l'option `ylims = (ymin,ymax)` dans une fonction de tracé `plot`, `scatter`, ou leurs équivalents terminant par `!`. On rappelle que, par convention en `Julia` (et non par obligation), une fonction dont le nom se termine par `!` modifie ses arguments. Dans le cas d'un graphe, la première commande initiant le graphe ne doit pas comporter de `!` (`plot`, `scatter`, ...) tandis que les suivantes incrémentant le même graphe se terminent par `!` (`plot!`, `scatter!`, ...). Toute omission du `!` est considéré comme un *redémarrage à zéro* du tracé.\n",
    "\n",
    "- Pour calculer la norme infinie d'une fonction afin d'évaluer la précision de l'interpolation, on pourra exploiter la fonction [`norm(...,Inf)`](https://docs.julialang.org/en/v1/stdlib/LinearAlgebra/#LinearAlgebra.norm) de la bibliothèque `LinearAlgebra` avec une échantillonnage suffisamment fin des valeurs de la fonction. \n"
   ]
  },
  {
   "cell_type": "code",
   "execution_count": 2,
   "id": "6ee22503",
   "metadata": {},
   "outputs": [],
   "source": [
    "\n"
   ]
  },
  {
   "cell_type": "markdown",
   "id": "e62b3987",
   "metadata": {},
   "source": [
    "### Exercice sur les noeuds d'interpolation : animation de graphes\n",
    "\n",
    "En exploitant la macro [`@animate`](https://docs.juliaplots.org/latest/animations/) de la bibliothèque `Plots.jl`, créer une animation permettant de voir l'évolution superposée des interpolations avec noeuds équidistants et de Tchebychev de la fonction de Runge $u(x)=\\frac{1}{1+25x^2}$ sur l'intervalle $[-1,1]$. On fera varier le nombre de noeuds par exemple de 2 à 50 et on pourra tenir compte des indications de l'exercice précédent pour limiter par exemple l'extension en `y`."
   ]
  },
  {
   "cell_type": "code",
   "execution_count": 3,
   "id": "317cfc7b",
   "metadata": {},
   "outputs": [],
   "source": [
    "\n"
   ]
  }
 ],
 "metadata": {
  "citation-manager": {
   "items": {}
  },
  "kernelspec": {
   "display_name": "Julia 1.8.5",
   "language": "julia",
   "name": "julia-1.8"
  },
  "language_info": {
   "file_extension": ".jl",
   "mimetype": "application/julia",
   "name": "julia",
   "version": "1.8.5"
  }
 },
 "nbformat": 4,
 "nbformat_minor": 5
}
